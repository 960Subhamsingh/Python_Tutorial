{
 "cells": [
  {
   "cell_type": "markdown",
   "metadata": {},
   "source": [
    "## Encapsulation In Python\n",
    "\n",
    "Encapsulation is a fundamental principle in object-oriented programming that focuses on bundling data and the methods that operate on that data into a single unit called a class. It allows you to control the access and visibility of the data and methods, providing a way to protect and organize your code"
   ]
  },
  {
   "cell_type": "code",
   "execution_count": 20,
   "metadata": {},
   "outputs": [
    {
     "name": "stdout",
     "output_type": "stream",
     "text": [
      "the person name is  subham and the age is 20\n"
     ]
    }
   ],
   "source": [
    "# Access Modifier -- encapsulation\n",
    "# Private\n",
    "\n",
    "class Person:\n",
    "    # constructor\n",
    "    def __init__(self,name, age):\n",
    "        self.__name = name\n",
    "        self.__age = age\n",
    "    def display_info(self):\n",
    "        print(f\"the person name is  {self.__name} and the age is {self.__age}\")\n",
    "person = Person(\"subham\" , 20)\n",
    "person.display_info()"
   ]
  },
  {
   "cell_type": "code",
   "execution_count": 39,
   "metadata": {},
   "outputs": [
    {
     "name": "stdout",
     "output_type": "stream",
     "text": [
      "Name of person is Subham and the age is 12\n"
     ]
    }
   ],
   "source": [
    "## Protected \n",
    "\n",
    "class Person:\n",
    "    ## constructor\n",
    "    def __init__(self,name,age):\n",
    "        self._name=name\n",
    "        self._age=age\n",
    "class student(Person):\n",
    "    def __init__(self , name, age):\n",
    "        super().__init__(name, age)\n",
    "    def display_info(self):\n",
    "        print(f\"Name of person is {self._name} and the age is {self._age}\")\n",
    "\n",
    "student1 = student('Subham' , 12)\n",
    "student1.display_info()\n"
   ]
  },
  {
   "cell_type": "code",
   "execution_count": 1,
   "metadata": {},
   "outputs": [],
   "source": [
    "class Student:\n",
    "    __numberOfStudents = 0 # Class variable or Static Property\n",
    "    __schoolName = \"MAPS\"\n",
    "    \n",
    "    isPlusMember = True\n",
    "    \n",
    "    def __init__(self,name,rollNumber,marks):\n",
    "        # print(id(self))\n",
    "        self.rollNumber = rollNumber\n",
    "        self.name = name\n",
    "        self.__marks = marks\n",
    "        self.numberOfStudents  = Student.__numberOfStudents + 1\n",
    "        Student.__numberOfStudents = Student.__numberOfStudents + 1\n",
    "    \n",
    "    #getter\n",
    "    def getMarks(self):\n",
    "        return self.__marks\n",
    "    #setter\n",
    "    def setMarks(self,newMarks,passCode):\n",
    "        if(passCode == self.__auth()):       # Security\n",
    "            self.__marks = newMarks\n",
    "        else:\n",
    "            return \"Bhag yaha se\"\n",
    "    \n",
    "    @staticmethod       \n",
    "    def getSchoolName():\n",
    "        return Student.__schoolName\n",
    "        \n",
    "    @staticmethod\n",
    "    def setSchoolName(newSchoolName,passCode):\n",
    "        Student.__SendMail()\n",
    "        Student.__schoolName = newSchoolName\n",
    "\n",
    "    @staticmethod\n",
    "    def __SendMail():\n",
    "        print(\"Sending the mail to all the comitee members\")\n",
    "\n",
    "    def getStudentSchoolName(self):\n",
    "        return Student.__schoolName \n",
    "    \n",
    "    def __auth(self):\n",
    "        return \"0000\"\n",
    "\n",
    "    def study(self):\n",
    "        print(\"I am \"+ str(self.rollNumber) +\" and I am  studying\")\n",
    "        \n",
    "    def play(self):\n",
    "        print(\"Pdh liya, now going to play\") "
   ]
  },
  {
   "cell_type": "code",
   "execution_count": 6,
   "metadata": {},
   "outputs": [
    {
     "name": "stdout",
     "output_type": "stream",
     "text": [
      "Sending the mail to all the comitee members\n"
     ]
    }
   ],
   "source": [
    "s1 = Student(\"kumar\" , 1,9)\n",
    "s1.setSchoolName(\"sk\",\"34\")"
   ]
  }
 ],
 "metadata": {
  "kernelspec": {
   "display_name": "Python 3",
   "language": "python",
   "name": "python3"
  },
  "language_info": {
   "codemirror_mode": {
    "name": "ipython",
    "version": 3
   },
   "file_extension": ".py",
   "mimetype": "text/x-python",
   "name": "python",
   "nbconvert_exporter": "python",
   "pygments_lexer": "ipython3",
   "version": "3.10.11"
  }
 },
 "nbformat": 4,
 "nbformat_minor": 2
}
