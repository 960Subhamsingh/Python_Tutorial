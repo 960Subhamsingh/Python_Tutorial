{
 "cells": [
  {
   "cell_type": "markdown",
   "metadata": {},
   "source": [
    "isinstance"
   ]
  },
  {
   "cell_type": "markdown",
   "metadata": {},
   "source": [
    "the instance() method works like a comparison operator. It takes two arguments, one is a Python object and the other is a class type. It compares the object with a specified type of class or a subclass and returns a boolean value, that is either True or False."
   ]
  },
  {
   "cell_type": "code",
   "execution_count": 1,
   "metadata": {},
   "outputs": [
    {
     "name": "stdout",
     "output_type": "stream",
     "text": [
      "The variable 'numbers' is an instance of a list \n"
     ]
    }
   ],
   "source": [
    "number = [12,23,43,35,45,6,56,56]\n",
    "\n",
    "#  check if numbers is an instance of a list\n",
    "res = isinstance(number , list)\n",
    "\n",
    "if(res):\n",
    "    print(\"The variable 'numbers' is an instance of a list \")\n",
    "else:\n",
    "    print(\"the variable 'numbers' is not an instance of a list \" )"
   ]
  },
  {
   "cell_type": "markdown",
   "metadata": {},
   "source": [
    "isinstance with Int and list </br>\n",
    "\n",
    "check if the integer and the list are an instance of an Integer or of String type."
   ]
  },
  {
   "cell_type": "code",
   "execution_count": 10,
   "metadata": {},
   "outputs": [
    {
     "name": "stdout",
     "output_type": "stream",
     "text": [
      "Is integer True\n",
      "Is String :True\n",
      "Is a list :True\n",
      "Is int or list or string : True\n"
     ]
    }
   ],
   "source": [
    "\n",
    "test_int = int(input(\"Enter the values\"))\n",
    "\n",
    "test_list = [1,2,3]\n",
    "\n",
    "# testing with isinstance\n",
    "\n",
    "print(\"Is integer \" + str(isinstance(test_int,int)))\n",
    "\n",
    "print(\"Is String :\" + str(isinstance(test_int, int)))\n",
    "\n",
    "print(\"Is a list :\" + str(isinstance(test_list, list)))\n",
    "\n",
    "print(\"Is int or list or string : \" + str(isinstance(test_list, (int, list, str))))"
   ]
  },
  {
   "cell_type": "code",
   "execution_count": 12,
   "metadata": {},
   "outputs": [
    {
     "name": "stdout",
     "output_type": "stream",
     "text": [
      "Is  dict : True\n"
     ]
    }
   ],
   "source": [
    "test_dict = {\"apple\" : 11, \"Banana\" : 2, \"Orange\" : 12 }\n",
    "print (\"Is  dict : \" + str(isinstance(test_dict, dict)))"
   ]
  },
  {
   "cell_type": "code",
   "execution_count": 18,
   "metadata": {},
   "outputs": [
    {
     "data": {
      "text/plain": [
       "'True'"
      ]
     },
     "execution_count": 18,
     "metadata": {},
     "output_type": "execute_result"
    }
   ],
   "source": [
    "class detail:\n",
    "    course = 'DSA'\n",
    "    def name(name):\n",
    "        return name.course\n",
    "\n",
    "detail.name = classmethod(detail.name)\n",
    "str(isinstance(detail.name(), str )) "
   ]
  }
 ],
 "metadata": {
  "kernelspec": {
   "display_name": "Python 3",
   "language": "python",
   "name": "python3"
  },
  "language_info": {
   "codemirror_mode": {
    "name": "ipython",
    "version": 3
   },
   "file_extension": ".py",
   "mimetype": "text/x-python",
   "name": "python",
   "nbconvert_exporter": "python",
   "pygments_lexer": "ipython3",
   "version": "3.10.11"
  }
 },
 "nbformat": 4,
 "nbformat_minor": 2
}
