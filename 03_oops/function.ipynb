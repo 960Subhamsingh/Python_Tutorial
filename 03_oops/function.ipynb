{
 "cells": [
  {
   "cell_type": "code",
   "execution_count": null,
   "metadata": {},
   "outputs": [],
   "source": [
    "\n",
    "import re\n",
    "def do_this():\n",
    "    print(\"Doing this\")\n",
    "def do_that():\n",
    "    print(\"Doing That\")\n",
    "\n",
    "re.match =input(\"Do this or that? \"):\n",
    "\n",
    "# number of Island"
   ]
  },
  {
   "cell_type": "markdown",
   "metadata": {},
   "source": [
    "### Functions and Modules\n",
    "A function in python is declared by the keyword 'def' before the name of the function. The return type of the function need not be specified explicitly in python. The function can be invoked by writing the function name followed by the parameter list in the brackets.\n",
    "To call a function, use the function name followed by parenthesis:\n",
    "Information can be passed into functions as arguments.\n",
    "Note: The terms parameter and argument can be used for the same thing: information that are passed into a function."
   ]
  },
  {
   "cell_type": "code",
   "execution_count": 11,
   "metadata": {},
   "outputs": [
    {
     "name": "stdout",
     "output_type": "stream",
     "text": [
      "a is not divisible by b\n"
     ]
    }
   ],
   "source": [
    "# Function for checking the divisibility\n",
    "def checkDivisibility(a, b):\n",
    "    if a % b == 0 :\n",
    "        print(\"a is divisible by b\")\n",
    "    else:\n",
    "        print(\"a is not divisible by b\")\n",
    "#Driver program\n",
    "checkDivisibility(5, 12)"
   ]
  },
  {
   "cell_type": "markdown",
   "metadata": {},
   "source": [
    "If we do not know how many arguments that will be passed into our function, we can add a * before the parameter name in the function definition. This way the function will receive a tuple of arguments, and can access the items accordingly:"
   ]
  },
  {
   "cell_type": "code",
   "execution_count": 12,
   "metadata": {},
   "outputs": [
    {
     "name": "stdout",
     "output_type": "stream",
     "text": [
      "The sum of numbers is :  46\n"
     ]
    }
   ],
   "source": [
    "def fun(*num):\n",
    "  print(\"The sum of numbers is : \", sum(num))\n",
    "\n",
    "fun(3, 6, 7, 8, 10, 12)"
   ]
  },
  {
   "cell_type": "markdown",
   "metadata": {},
   "source": [
    "If we do not know how many keyword arguments that will be passed into your function, add two asterisk: ** before the parameter name in the function definition.\n",
    "\n",
    "This way the function will receive a dictionary of arguments, and can access the items accordingly:\n",
    "\n"
   ]
  },
  {
   "cell_type": "code",
   "execution_count": 16,
   "metadata": {},
   "outputs": [
    {
     "name": "stdout",
     "output_type": "stream",
     "text": [
      "The sum of numbers is :  8\n"
     ]
    }
   ],
   "source": [
    "def fun(**num):\n",
    "  print(\"The sum of numbers is : \",num['two'] )\n",
    "\n",
    "fun(one = 1, two = 8,three =3)"
   ]
  },
  {
   "cell_type": "markdown",
   "metadata": {},
   "source": [
    "We can send any data types of argument to a function (string, number, list, dictionary etc.), and it will be treated as the same data type inside the function."
   ]
  },
  {
   "cell_type": "code",
   "execution_count": 19,
   "metadata": {},
   "outputs": [
    {
     "name": "stdout",
     "output_type": "stream",
     "text": [
      "The sum of numbers is :  8\n"
     ]
    }
   ],
   "source": [
    "def fun(num):\n",
    "  print(\"The sum of numbers is : \",num['two'] )\n",
    "d = {\"one\" : 1, \"two\": 8, \"three\" :3}\n",
    "fun(d)"
   ]
  },
  {
   "cell_type": "markdown",
   "metadata": {},
   "source": [
    "To let a function return a value, use the return statement:"
   ]
  },
  {
   "cell_type": "code",
   "execution_count": 21,
   "metadata": {},
   "outputs": [
    {
     "data": {
      "text/plain": [
       "(3, 4, 5, 6, 7, 8, 9, 10, 3, 4, 5, 6, 7, 8, 9, 10)"
      ]
     },
     "execution_count": 21,
     "metadata": {},
     "output_type": "execute_result"
    }
   ],
   "source": [
    "def fun(*d):\n",
    "    return d*2\n",
    "fun(3,4,5,6,7,8,9,10)\n"
   ]
  },
  {
   "cell_type": "markdown",
   "metadata": {},
   "source": [
    "### Module\n",
    "A module is a file containing Python definitions and statements. A module can define functions, classes, and variables. A module can also include runnable code. Grouping related code into a module makes the code easier to understand and use. It also makes the code logically organized.\n",
    "\n",
    "Python's from statement lets you import specific attributes from a module. The from .. import .. has the following syntax :\n"
   ]
  },
  {
   "cell_type": "markdown",
   "metadata": {},
   "source": []
  },
  {
   "cell_type": "code",
   "execution_count": 22,
   "metadata": {},
   "outputs": [
    {
     "name": "stdout",
     "output_type": "stream",
     "text": [
      "4.0\n",
      "720\n"
     ]
    }
   ],
   "source": [
    "from math import sqrt, factorial\n",
    "\n",
    "print(sqrt(16))\n",
    "print(factorial(6))"
   ]
  },
  {
   "cell_type": "markdown",
   "metadata": {},
   "source": [
    "The * symbol used with the from import the statement is used to import all the names from a module to a current namespace."
   ]
  },
  {
   "cell_type": "code",
   "execution_count": 23,
   "metadata": {},
   "outputs": [
    {
     "name": "stdout",
     "output_type": "stream",
     "text": [
      "['__call__', '__class__', '__delattr__', '__dir__', '__doc__', '__eq__', '__format__', '__ge__', '__getattribute__', '__gt__', '__hash__', '__init__', '__init_subclass__', '__le__', '__lt__', '__module__', '__name__', '__ne__', '__new__', '__qualname__', '__reduce__', '__reduce_ex__', '__repr__', '__self__', '__setattr__', '__sizeof__', '__str__', '__subclasshook__', '__text_signature__']\n"
     ]
    }
   ],
   "source": [
    "from random import *\n",
    "\n",
    "print(dir(random)) # dir() built-in function returns a sorted list of strings containing the names defined by a module."
   ]
  },
  {
   "cell_type": "markdown",
   "metadata": {},
   "source": [
    "### Closures and Decorators"
   ]
  },
  {
   "cell_type": "markdown",
   "metadata": {},
   "source": [
    "A closure is a nested function which has access to a free variable from an enclosing function that has finished its execution. Three characteristics of a Python closure are:\n",
    "\n",
    "It is a nested function\n",
    "It has access to a free variable in outer scope\n",
    "It is returned from the enclosing function\n"
   ]
  },
  {
   "cell_type": "code",
   "execution_count": 1,
   "metadata": {},
   "outputs": [
    {
     "name": "stdout",
     "output_type": "stream",
     "text": [
      "60\n",
      "20\n"
     ]
    }
   ],
   "source": [
    "def getmultiply( m ):\n",
    "    def op(n):\n",
    "        return m * n\n",
    "    return op\n",
    " \n",
    "f1=getmultiply(15)\n",
    "f2=getmultiply(5)\n",
    " \n",
    "print( f1(4) )\n",
    "print( f2(4) )"
   ]
  },
  {
   "cell_type": "markdown",
   "metadata": {},
   "source": [
    "Decorator is a design pattern – function that takes another function as a parameter and extends its behavior without modifying it.\n",
    "Decorators are very powerful and useful tool in Python since it allows programmers to modify the behavior of function or class.\n",
    "@ DECORATOR"
   ]
  },
  {
   "cell_type": "code",
   "execution_count": 3,
   "metadata": {},
   "outputs": [
    {
     "name": "stdout",
     "output_type": "stream",
     "text": [
      "********************\n",
      "data science\n",
      "********************\n"
     ]
    }
   ],
   "source": [
    "def stars( some_function ):\n",
    "    def wrapper():\n",
    "        print(\"********************\")\n",
    "        some_function()\n",
    "        print(\"********************\")\n",
    "    return wrapper\n",
    " \n",
    "@stars\n",
    "def my_function():\n",
    "    print(\"data science\")\n",
    " \n",
    "my_function()"
   ]
  },
  {
   "cell_type": "markdown",
   "metadata": {},
   "source": [
    "### Descriptors and Properties"
   ]
  },
  {
   "cell_type": "markdown",
   "metadata": {},
   "source": [
    "A Descriptor is a class which provides detailed **get, set, and delete** control over an attribute of another object. This allows us to define attributes which are fairly complex objects in their own right. The idea is that we can use simple attribute references in a program, but those simple references are actually method functions of a descriptor object."
   ]
  },
  {
   "cell_type": "code",
   "execution_count": 4,
   "metadata": {},
   "outputs": [
    {
     "name": "stdout",
     "output_type": "stream",
     "text": [
      "Subham Kumar\n"
     ]
    }
   ],
   "source": [
    "class Descriptor(object):\n",
    "  \n",
    "    def __init__(self, name =''):\n",
    "        self.name = name\n",
    "  \n",
    "    def __get__(self, obj, objtype):\n",
    "        return \"{}\".format(self.name, self.name)\n",
    "  \n",
    "    def __set__(self, obj, name):\n",
    "        if isinstance(name, str):\n",
    "            self.name = name\n",
    "        else:\n",
    "            raise TypeError(\"Name should be string\")\n",
    "          \n",
    "class Name(object):\n",
    "    name = Descriptor()\n",
    "    \n",
    "g = Name()\n",
    "g.name = \"Subham Kumar\"\n",
    "print(g.name)"
   ]
  },
  {
   "cell_type": "code",
   "execution_count": 10,
   "metadata": {},
   "outputs": [
    {
     "name": "stdout",
     "output_type": "stream",
     "text": [
      "Getting value\n",
      "Subham\n",
      "Setting value to kumar\n"
     ]
    }
   ],
   "source": [
    "class Alphabet: \n",
    "    def __init__(self, value): \n",
    "        self._value = value \n",
    "            \n",
    "    # getting the values     \n",
    "    @property\n",
    "    def value(self): \n",
    "        print('Getting value') \n",
    "        return self._value \n",
    "            \n",
    "    # setting the values     \n",
    "    @value.setter \n",
    "    def value(self, value): \n",
    "        print('Setting value to ' + value) \n",
    "        self._value = value \n",
    "            \n",
    "    # deleting the values \n",
    "    @value.deleter \n",
    "    def value(self): \n",
    "        print('Deleting value') \n",
    "        del self._value \n",
    "    \n",
    "    \n",
    "# passing the value \n",
    "x = Alphabet('Subham') \n",
    "print(x.value) \n",
    "    \n",
    "x.value = 'kumar'\n"
   ]
  },
  {
   "cell_type": "markdown",
   "metadata": {},
   "source": [
    "**Important** :- Python uses methods like getters and setters to adjust the values on attributes without any special processing. It’s just a basic storage system. Sometimes, You might need to validate the values that are being assigned to a value. A descriptor is a mechanism behind properties, methods, static methods, class methods, and super()."
   ]
  }
 ],
 "metadata": {
  "kernelspec": {
   "display_name": "Python 3",
   "language": "python",
   "name": "python3"
  },
  "language_info": {
   "codemirror_mode": {
    "name": "ipython",
    "version": 3
   },
   "file_extension": ".py",
   "mimetype": "text/x-python",
   "name": "python",
   "nbconvert_exporter": "python",
   "pygments_lexer": "ipython3",
   "version": "3.10.11"
  }
 },
 "nbformat": 4,
 "nbformat_minor": 2
}
