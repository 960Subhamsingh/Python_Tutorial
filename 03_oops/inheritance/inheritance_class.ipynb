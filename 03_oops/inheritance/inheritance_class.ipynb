{
 "cells": [
  {
   "cell_type": "markdown",
   "metadata": {},
   "source": [
    "\n",
    "Inheritance is a fundamental concept in object-oriented programming where one class (child or derived class) inherits attributes and methods from another class (parent or base class). This allows for code reuse and establishes a relationship between classes."
   ]
  },
  {
   "cell_type": "markdown",
   "metadata": {},
   "source": [
    "Simple Inheritance\n",
    "\n",
    "In single inheritance, a child class inherits from a single parent class. This is the simplest form of inheritance."
   ]
  },
  {
   "cell_type": "markdown",
   "metadata": {},
   "source": [
    "#### Answer 1:\n",
    "Output: `Bark`\n",
    "#### Explanation:\n",
    "In simple inheritance, the `Dog` class overrides the `sound()` method from the `Animal` class, so when we create an object of `Dog` and call `sound()`, it returns `'Bark'`."
   ]
  },
  {
   "cell_type": "code",
   "execution_count": 4,
   "metadata": {},
   "outputs": [
    {
     "name": "stdout",
     "output_type": "stream",
     "text": [
      "dark\n"
     ]
    }
   ],
   "source": [
    "class Animal:\n",
    "    def sound(self):\n",
    "        return 'Sound'\n",
    "class Dog(Animal):\n",
    "    def sound(self):\n",
    "        return \"dark\"\n",
    "obj =Dog()\n",
    "print(obj.sound())\n"
   ]
  },
  {
   "cell_type": "markdown",
   "metadata": {},
   "source": [
    "## Answer 2:\n",
    "\n",
    "Output: `subham kumar`\n",
    "\n",
    "### Explanation:\n",
    "In multilevel inheritance, the `Child` class overrides the `family_name()` method from the `Grandparent` class, so the `Child` class's method is called, returning `'kumar'`."
   ]
  },
  {
   "cell_type": "markdown",
   "metadata": {},
   "source": [
    "Multilevel Inheritance"
   ]
  },
  {
   "cell_type": "code",
   "execution_count": 10,
   "metadata": {},
   "outputs": [
    {
     "name": "stdout",
     "output_type": "stream",
     "text": [
      "kumar\n",
      "Subham Kumar\n"
     ]
    }
   ],
   "source": [
    "class Grandparent:\n",
    "    def name(self):\n",
    "        return 'Subham Kumar'\n",
    "class parent(Grandparent):\n",
    "    pass\n",
    "class Child(parent):\n",
    "    def child_family_name(self):\n",
    "        return \"kumar\"\n",
    "\n",
    "obj = Child()\n",
    "# print child name\n",
    "print(obj.child_family_name())\n",
    "# print parent names \n",
    "print(obj.name())"
   ]
  },
  {
   "cell_type": "markdown",
   "metadata": {},
   "source": [
    "Multiple Inheritance "
   ]
  },
  {
   "cell_type": "code",
   "execution_count": 11,
   "metadata": {},
   "outputs": [
    {
     "name": "stdout",
     "output_type": "stream",
     "text": [
      "A\n"
     ]
    }
   ],
   "source": [
    "class A:\n",
    "    def show(self):\n",
    "        return \"A\"\n",
    "class B:\n",
    "    def show(self):\n",
    "        return 'B'\n",
    "class c(A,B):\n",
    "    pass\n",
    "\n",
    "obj = c()\n",
    "print(obj.show())\n"
   ]
  },
  {
   "cell_type": "markdown",
   "metadata": {},
   "source": [
    "Hierarchical Inheritance"
   ]
  },
  {
   "cell_type": "code",
   "execution_count": 12,
   "metadata": {},
   "outputs": [
    {
     "name": "stdout",
     "output_type": "stream",
     "text": [
      "Parent\n",
      "Child1\n"
     ]
    }
   ],
   "source": [
    "class Parent:\n",
    "    def common(self):\n",
    "        return 'Parent'\n",
    "\n",
    "class Child(Parent):\n",
    "    def specific(self):\n",
    "        return 'Child'\n",
    "\n",
    "class Child1(Parent):\n",
    "    def specific(self):\n",
    "        return 'Child1'\n",
    "\n",
    "obj1 = Child()\n",
    "obj2 = Child1()\n",
    "print(obj1.common())\n",
    "print(obj2.specific())"
   ]
  },
  {
   "cell_type": "markdown",
   "metadata": {},
   "source": [
    "Hybrid Inheritance"
   ]
  },
  {
   "cell_type": "code",
   "execution_count": 19,
   "metadata": {},
   "outputs": [
    {
     "name": "stdout",
     "output_type": "stream",
     "text": [
      "Parent\n",
      "Child\n"
     ]
    }
   ],
   "source": [
    "class Parent:\n",
    "    def common(self):\n",
    "        return 'Parent'\n",
    "\n",
    "class Child(Parent):\n",
    "    def specific(self):\n",
    "        return 'Child'\n",
    "\n",
    "class Child1(Parent):\n",
    "    def specific(self):\n",
    "        return 'Child'\n",
    "\n",
    "class member(Child,Child1):\n",
    "    pass\n",
    "\n",
    "obj1 = member()\n",
    "obj2 = Child1()\n",
    "print(obj1.common())\n",
    "print(obj1.specific())"
   ]
  },
  {
   "cell_type": "markdown",
   "metadata": {},
   "source": [
    "super() with Inheritance"
   ]
  },
  {
   "cell_type": "code",
   "execution_count": 20,
   "metadata": {},
   "outputs": [
    {
     "name": "stdout",
     "output_type": "stream",
     "text": [
      "Parent method and Child method\n"
     ]
    }
   ],
   "source": [
    "class Parent:\n",
    "    def show(self):\n",
    "        return 'Parent method'\n",
    "\n",
    "class Child(Parent):\n",
    "    def show(self):\n",
    "        return super().show() + ' and Child method'\n",
    "\n",
    "obj = Child()\n",
    "print(obj.show())"
   ]
  },
  {
   "cell_type": "markdown",
   "metadata": {},
   "source": [
    "Constructor in Multilevel Inheritance"
   ]
  },
  {
   "cell_type": "code",
   "execution_count": 21,
   "metadata": {},
   "outputs": [
    {
     "name": "stdout",
     "output_type": "stream",
     "text": [
      "Grandparent Constructor\n",
      "Parent Constructor\n",
      "Child Constructor\n"
     ]
    }
   ],
   "source": [
    "class Grandparent:\n",
    "    def __init__(self):\n",
    "        print('Grandparent Constructor')\n",
    "\n",
    "class Parent(Grandparent):\n",
    "    def __init__(self):\n",
    "        super().__init__()\n",
    "        print('Parent Constructor')\n",
    "\n",
    "class Child(Parent):\n",
    "    def __init__(self):\n",
    "        super().__init__()\n",
    "        print('Child Constructor')\n",
    "\n",
    "obj = Child()"
   ]
  },
  {
   "cell_type": "markdown",
   "metadata": {},
   "source": [
    "### Explanation:\n",
    "In multiple inheritance, the method resolution order (MRO) dictates that the method from the first class in the inheritance list (`A`) is used, so the output is `'A'`."
   ]
  },
  {
   "cell_type": "markdown",
   "metadata": {},
   "source": [
    "Method Resolution Order (MRO)"
   ]
  },
  {
   "cell_type": "code",
   "execution_count": 23,
   "metadata": {},
   "outputs": [
    {
     "name": "stdout",
     "output_type": "stream",
     "text": [
      "B\n"
     ]
    }
   ],
   "source": [
    "class A:\n",
    "    def process(self):\n",
    "        return 'A'\n",
    "\n",
    "class B(A):\n",
    "    def process(self):\n",
    "        return 'B'\n",
    "\n",
    "class C(A):\n",
    "    def process(self):\n",
    "        return 'C'\n",
    "\n",
    "class D(B, C):\n",
    "    pass\n",
    "\n",
    "obj = D()\n",
    "print(obj.process())"
   ]
  },
  {
   "cell_type": "markdown",
   "metadata": {},
   "source": [
    "Overriding and MRO"
   ]
  },
  {
   "cell_type": "code",
   "execution_count": 28,
   "metadata": {},
   "outputs": [
    {
     "name": "stdout",
     "output_type": "stream",
     "text": [
      "B\n"
     ]
    }
   ],
   "source": [
    "class A:\n",
    "    def __init__(self):\n",
    "        self.value = 'A'\n",
    "\n",
    "class B(A):\n",
    "    def __init__(self):\n",
    "        super().__init__()\n",
    "        self.value = 'B'\n",
    "\n",
    "class C(A):\n",
    "    def __init__(self):\n",
    "        super().__init__()\n",
    "        self.value = 'C'\n",
    "\n",
    "class D(B, C):\n",
    "    def __init__(self):\n",
    "        super().__init__()\n",
    "\n",
    "obj = D()\n",
    "print(obj.value)"
   ]
  },
  {
   "cell_type": "markdown",
   "metadata": {},
   "source": [
    "Student registation"
   ]
  },
  {
   "cell_type": "code",
   "execution_count": 30,
   "metadata": {},
   "outputs": [],
   "source": [
    "class User:\n",
    "    def __init__(self,name,id,age,pincode):\n",
    "        self.name = name\n",
    "        self.id = id\n",
    "        self.age = age\n",
    "        self.pincode = pincode\n",
    "    \n",
    "    def login(self):\n",
    "        print(f\"P logged in  {self.name}  {self.age}\")\n",
    "    def logout(self):\n",
    "        print(\"P logged out\")\n",
    "\n",
    "        \n",
    "class Student(User):\n",
    "    def __init__(self,marks,RollNo,Name,id,age,Pincode):\n",
    "\n",
    "        super().__init__(Name,id,age,Pincode)\n",
    "        print(super().login())\n",
    "        self.marks = marks\n",
    "        self.RollNo = RollNo\n",
    "    \n",
    "    def login(self):\n",
    "        print(\"OTP sent\")\n",
    "        super().login()\n"
   ]
  },
  {
   "cell_type": "code",
   "execution_count": 35,
   "metadata": {},
   "outputs": [
    {
     "name": "stdout",
     "output_type": "stream",
     "text": [
      "P logged in  kumar  25\n",
      "None\n"
     ]
    }
   ],
   "source": [
    "s1 = Student(90,123,\"kumar\",1,25,\"12\")"
   ]
  },
  {
   "cell_type": "code",
   "execution_count": 36,
   "metadata": {},
   "outputs": [
    {
     "name": "stdout",
     "output_type": "stream",
     "text": [
      "OTP sent\n",
      "P logged in  kumar  25\n"
     ]
    }
   ],
   "source": [
    "s1.login()"
   ]
  },
  {
   "cell_type": "code",
   "execution_count": 39,
   "metadata": {},
   "outputs": [],
   "source": [
    "class User:\n",
    "    def __init__(self):\n",
    "        print(\"User Constructor\")\n",
    "        self.website = \"www.flipkart.com\"\n",
    "        self._field = \"ecommerce\" # protected Member\n",
    "        self.__duration = \"12 months\" #Private\n",
    "        self.__name = \"flipkart User\"\n",
    "    def login(self):\n",
    "        print(\"logged in\")\n",
    "        \n",
    "    def logout(self):\n",
    "        print(\"logged out\") \n",
    "\n",
    "class Buyer(User):\n",
    "    def __init__(self):\n",
    "        print(\"Buyer Constructor\")\n",
    "        super().__init__()\n",
    "        self.website =\"www.amazon.in\"\n",
    "        self.__name = \"Buyer\"\n",
    "        self.__field = 12\n",
    "    def login(self):\n",
    "        super().logout()\n",
    "        \n",
    "        print(\"mentor logged in\")\n",
    "        print(self._field) # accessible\n",
    "        print(self.__name) # Not Accessible"
   ]
  },
  {
   "cell_type": "code",
   "execution_count": 40,
   "metadata": {},
   "outputs": [
    {
     "name": "stdout",
     "output_type": "stream",
     "text": [
      "Buyer Constructor\n",
      "User Constructor\n"
     ]
    }
   ],
   "source": [
    "g = Buyer()"
   ]
  },
  {
   "cell_type": "markdown",
   "metadata": {},
   "source": [
    "Inheritance"
   ]
  },
  {
   "cell_type": "code",
   "execution_count": 29,
   "metadata": {},
   "outputs": [
    {
     "name": "stdout",
     "output_type": "stream",
     "text": [
      "150 \n",
      " 5 \n",
      " 4 \n",
      " Diesel\n"
     ]
    }
   ],
   "source": [
    "class Car:\n",
    "    def __init__(self,windows , doors, mirror, engine_type, tiwar):\n",
    "        self.windows = windows\n",
    "        self.doors = doors\n",
    "        self.mirror = mirror\n",
    "        self.engine_type = engine_type\n",
    "        self.tiwar = tiwar\n",
    "    def driving(self):\n",
    "        print('Car is used for driving')\n",
    "# Audi car is inherting from car class\n",
    "class Audi(Car):\n",
    "    def __init__(self, windows, doors, mirror, engine_type, tiwar, horsepower):\n",
    "        super().__init__(windows, doors, mirror, engine_type, tiwar)\n",
    "        self.horsepower = horsepower\n",
    "    def selfdriving(self):\n",
    "         print(\"IT is self Driving car\")\n",
    "\n",
    "AudiA4 = Audi(5,4,6,\"Diesel\" , 4,150 )\n",
    "\n",
    " \n",
    "print(AudiA4.horsepower, '\\n',AudiA4.windows,'\\n',AudiA4.doors,'\\n', AudiA4.engine_type)\n",
    "\n"
   ]
  }
 ],
 "metadata": {
  "kernelspec": {
   "display_name": "Python 3",
   "language": "python",
   "name": "python3"
  },
  "language_info": {
   "codemirror_mode": {
    "name": "ipython",
    "version": 3
   },
   "file_extension": ".py",
   "mimetype": "text/x-python",
   "name": "python",
   "nbconvert_exporter": "python",
   "pygments_lexer": "ipython3",
   "version": "3.10.11"
  }
 },
 "nbformat": 4,
 "nbformat_minor": 2
}
