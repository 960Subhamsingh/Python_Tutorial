{
 "cells": [
  {
   "cell_type": "markdown",
   "metadata": {},
   "source": [
    "## Python Data Classes\n",
    "\n",
    "In Python, the dataclass decorator is a feature introduced in Python 3.7 that provides a concise way to define classes primarily intended to store data. It automatically generates several special methods, such as __init__, __repr__, and __eq__, based on the class attributes you define. This simplifies the process of creating and working with data-focused classes."
   ]
  },
  {
   "cell_type": "code",
   "execution_count": 1,
   "metadata": {},
   "outputs": [],
   "source": [
    "from dataclasses import dataclass\n",
    "\n",
    "@dataclass\n",
    "class person:\n",
    "    name:str\n",
    "    age:int\n",
    "    profession:str\n",
    "    "
   ]
  },
  {
   "cell_type": "markdown",
   "metadata": {},
   "source": [
    "The @dataclass decorator automatically generates the following methods for you:\n",
    "\n",
    "1. __init__(): Initializes the object and assigns the provided values to the attributes.\n",
    "2. __repr__(): Provides a string representation of the object.\n",
    "3. __eq__(): Implements equality comparison between two objects of the class based on their attributes."
   ]
  },
  {
   "cell_type": "code",
   "execution_count": 4,
   "metadata": {},
   "outputs": [
    {
     "data": {
      "text/plain": [
       "person(name='subham', age=21, profession='SE')"
      ]
     },
     "execution_count": 4,
     "metadata": {},
     "output_type": "execute_result"
    }
   ],
   "source": [
    "per = person('subham', 21, 'SE')\n",
    "per"
   ]
  },
  {
   "cell_type": "code",
   "execution_count": 5,
   "metadata": {},
   "outputs": [
    {
     "data": {
      "text/plain": [
       "21"
      ]
     },
     "execution_count": 5,
     "metadata": {},
     "output_type": "execute_result"
    }
   ],
   "source": [
    "per.age"
   ]
  },
  {
   "cell_type": "code",
   "execution_count": 6,
   "metadata": {},
   "outputs": [],
   "source": [
    "@dataclass\n",
    "class Rectangles:\n",
    "    width:int\n",
    "    height:int\n",
    "    color:str=\"white\"\n",
    "recentage = Rectangles(12,14)\n",
    "res = Rectangles(24,45,'Blue')"
   ]
  },
  {
   "cell_type": "code",
   "execution_count": 7,
   "metadata": {},
   "outputs": [
    {
     "data": {
      "text/plain": [
       "'Blue'"
      ]
     },
     "execution_count": 7,
     "metadata": {},
     "output_type": "execute_result"
    }
   ],
   "source": [
    "res.color"
   ]
  },
  {
   "cell_type": "code",
   "execution_count": 8,
   "metadata": {},
   "outputs": [
    {
     "data": {
      "text/plain": [
       "Point(x=10, y=4)"
      ]
     },
     "execution_count": 8,
     "metadata": {},
     "output_type": "execute_result"
    }
   ],
   "source": [
    "@dataclass(frozen=True)\n",
    "class Point:\n",
    "    x:int\n",
    "    y:int\n",
    "Point=Point(10,4)\n",
    "Point"
   ]
  },
  {
   "cell_type": "code",
   "execution_count": 11,
   "metadata": {},
   "outputs": [],
   "source": [
    "# inheritance \n",
    "\n",
    "@dataclass\n",
    "class person:\n",
    "    name:str\n",
    "    age:int\n",
    "@dataclass\n",
    "\n",
    "class employee(person):\n",
    "    employee_id:str\n",
    "    department:str\n",
    "    "
   ]
  },
  {
   "cell_type": "code",
   "execution_count": 12,
   "metadata": {},
   "outputs": [],
   "source": [
    "persons = person('Subham' , 31)\n",
    "employees = employee('subham', 31 ,'kumar' , 'singh')"
   ]
  },
  {
   "cell_type": "code",
   "execution_count": 13,
   "metadata": {},
   "outputs": [
    {
     "data": {
      "text/plain": [
       "'subham'"
      ]
     },
     "execution_count": 13,
     "metadata": {},
     "output_type": "execute_result"
    }
   ],
   "source": [
    "employees.name"
   ]
  },
  {
   "cell_type": "code",
   "execution_count": 69,
   "metadata": {},
   "outputs": [],
   "source": [
    "# Nested Dataclasses\n",
    "\n",
    "@dataclass\n",
    "\n",
    "class Address:\n",
    "    street: str\n",
    "    zip_code :int\n",
    "    city : str\n",
    "    state : str\n",
    "@dataclass\n",
    "class Person:\n",
    "    name : str\n",
    "    age : int\n",
    "    gender : chr\n",
    "    father_name : str\n",
    "    Address:Address"
   ]
  },
  {
   "cell_type": "code",
   "execution_count": 73,
   "metadata": {},
   "outputs": [],
   "source": [
    "address = Address('12',462023,'mp_Nager','MP')\n",
    "p1 = Person(\"subham\",12,\"male\",\"kumar\",address)"
   ]
  },
  {
   "cell_type": "code",
   "execution_count": 74,
   "metadata": {},
   "outputs": [
    {
     "data": {
      "text/plain": [
       "'mp_Nager'"
      ]
     },
     "execution_count": 74,
     "metadata": {},
     "output_type": "execute_result"
    }
   ],
   "source": [
    "p1.Address.city"
   ]
  },
  {
   "cell_type": "markdown",
   "metadata": {},
   "source": [
    "### dataclasses-after"
   ]
  },
  {
   "cell_type": "code",
   "execution_count": 50,
   "metadata": {},
   "outputs": [
    {
     "name": "stdout",
     "output_type": "stream",
     "text": [
      "Geralt, Witcher (30)\n",
      "1966017888512\n",
      "1966017479152\n",
      "True\n",
      "False\n"
     ]
    }
   ],
   "source": [
    "from dataclasses import dataclass, field\n",
    "\n",
    "@dataclass(order=True,frozen=False)\n",
    "class Person:\n",
    "    sort_index: int = field(init=False, repr=False)\n",
    "    name: str\n",
    "    job: str\n",
    "    age: int\n",
    "    strength: int = 100\n",
    "\n",
    "    def __post_init__(self):\n",
    "        object.__setattr__(self, 'sort_index', self.strength)\n",
    "\n",
    "    def __str__(self):\n",
    "        return f'{self.name}, {self.job} ({self.age})'\n",
    "\n",
    "\n",
    "person1 = Person(\"Geralt\", \"Witcher\", 30, 99)\n",
    "person2 = Person(\"Yennefer\", \"Sorceress\", 25)\n",
    "person3 = Person(\"Yennefer\", \"Sorceress\", 25)\n",
    "\n",
    "print(person1)\n",
    "print(id(person2))\n",
    "print(id(person3))\n",
    "print(person3 == person2)\n",
    "print(person1 > person2)\n"
   ]
  },
  {
   "cell_type": "code",
   "execution_count": 30,
   "metadata": {},
   "outputs": [
    {
     "name": "stdout",
     "output_type": "stream",
     "text": [
      "person(name='subham', age='Data analysis', profession='30')\n",
      "person(name='kumar', age='SQl developer', profession=' 12')\n",
      "False\n"
     ]
    }
   ],
   "source": [
    "class Person:\n",
    "    def __init__(self,name , job , age):\n",
    "        self.name= name\n",
    "        self.job = job\n",
    "        self.age = age\n",
    "\n",
    "person2 = person(\"subham\", \"Data analysis\", \"30\")\n",
    "person3 = person(\"kumar\" , \"SQl developer\" , \" 12\")\n",
    "\n",
    "print(person2)\n",
    "print(person3)\n",
    "print(person3 == person2)"
   ]
  }
 ],
 "metadata": {
  "kernelspec": {
   "display_name": "Python 3",
   "language": "python",
   "name": "python3"
  },
  "language_info": {
   "codemirror_mode": {
    "name": "ipython",
    "version": 3
   },
   "file_extension": ".py",
   "mimetype": "text/x-python",
   "name": "python",
   "nbconvert_exporter": "python",
   "pygments_lexer": "ipython3",
   "version": "undefined.undefined.undefined"
  }
 },
 "nbformat": 4,
 "nbformat_minor": 2
}
