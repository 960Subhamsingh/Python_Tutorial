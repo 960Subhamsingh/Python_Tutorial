{
 "cells": [
  {
   "cell_type": "markdown",
   "metadata": {},
   "source": [
    "#### What are modules?\n",
    "#### Consider a module to be the same as a code library.\n",
    "#### A file containing a set of functions you want to include in your application.\n",
    "#### Examples of python modules\n",
    "- Math\n",
    "- Random\n",
    "- os\n",
    "- time\n",
    "\n"
   ]
  },
  {
   "cell_type": "code",
   "execution_count": 1,
   "metadata": {},
   "outputs": [
    {
     "name": "stdout",
     "output_type": "stream",
     "text": [
      "\n",
      "Please wait a moment while I gather a list of all available modules...\n",
      "\n"
     ]
    },
    {
     "name": "stderr",
     "output_type": "stream",
     "text": [
      "c:\\Users\\hp\\AppData\\Local\\Programs\\Python\\Python310\\lib\\pkgutil.py:92: UserWarning: \n",
      "The dash_core_components package is deprecated. Please replace\n",
      "`import dash_core_components as dcc` with `from dash import dcc`\n",
      "  __import__(info.name)\n",
      "c:\\Users\\hp\\AppData\\Local\\Programs\\Python\\Python310\\lib\\pkgutil.py:92: UserWarning: \n",
      "The dash_html_components package is deprecated. Please replace\n",
      "`import dash_html_components as html` with `from dash import html`\n",
      "  __import__(info.name)\n",
      "c:\\Users\\hp\\AppData\\Local\\Programs\\Python\\Python310\\lib\\pkgutil.py:92: UserWarning: \n",
      "The dash_table package is deprecated. Please replace\n",
      "`import dash_table` with `from dash import dash_table`\n",
      "\n",
      "Also, if you're using any of the table format helpers (e.g. Group), replace \n",
      "`from dash_table.Format import Group` with \n",
      "`from dash.dash_table.Format import Group`\n",
      "  __import__(info.name)\n",
      "c:\\Users\\hp\\AppData\\Local\\Programs\\Python\\Python310\\lib\\site-packages\\_distutils_hack\\__init__.py:33: UserWarning: Setuptools is replacing distutils.\n",
      "  warnings.warn(\"Setuptools is replacing distutils.\")\n"
     ]
    },
    {
     "name": "stdout",
     "output_type": "stream",
     "text": [
      "IPython             certifi             markdown_it         stat\n",
      "PIL                 cgi                 markupsafe          statistics\n",
      "__future__          cgitb               marshal             streamlit\n",
      "_abc                charset_normalizer  math                string\n",
      "_aix_support        chunk               matplotlib          stringprep\n",
      "_ast                click               matplotlib_inline   struct\n",
      "_asyncio            cmath               mdurl               subprocess\n",
      "_bisect             cmd                 mimetypes           sunau\n",
      "_blake2             code                mmap                symtable\n",
      "_bootsubprocess     codecs              mmapfile            sys\n",
      "_bz2                codeop              mmsystem            sysconfig\n",
      "_codecs             collections         modulefinder        tabnanny\n",
      "_codecs_cn          colorama            msilib              tarfile\n",
      "_codecs_hk          colorsys            msvcrt              telnetlib\n",
      "_codecs_iso2022     comm                multiprocessing     tempfile\n",
      "_codecs_jp          commctrl            mysql               tenacity\n",
      "_codecs_kr          compileall          narwhals            test\n",
      "_codecs_tw          concurrent          nest_asyncio        textwrap\n",
      "_collections        configparser        netbios             this\n",
      "_collections_abc    contextlib          netrc               threading\n",
      "_compat_pickle      contextvars         nntplib             threadpoolctl\n",
      "_compression        contourpy           nt                  time\n",
      "_contextvars        copy                ntpath              timeit\n",
      "_csv                copyreg             ntsecuritycon       timer\n",
      "_ctypes             crypt               nturl2path          tkinter\n",
      "_ctypes_test        csv                 numbers             token\n",
      "_datetime           ctypes              numpy               tokenize\n",
      "_decimal            curses              odbc                toml\n",
      "_distutils_hack     cx_Oracle           opcode              tornado\n",
      "_elementtree        cycler              openpyxl            trace\n",
      "_functools          dash                operator            traceback\n",
      "_hashlib            dash_bootstrap_components optparse            tracemalloc\n",
      "_heapq              dash_core_components os                  traitlets\n",
      "_imp                dash_html_components packaging           tty\n",
      "_io                 dash_renderer       pandas              turtle\n",
      "_json               dash_table          parso               turtledemo\n",
      "_locale             dataclasses         pathlib             types\n",
      "_lsprof             datetime            pdb                 typing\n",
      "_lzma               dateutil            perfmon             typing_extensions\n",
      "_markupbase         dbi                 pickle              tzdata\n",
      "_md5                dbm                 pickletools         unicodedata\n",
      "_msi                dde                 pip                 unittest\n",
      "_multibytecodec     debugpy             pipes               urllib\n",
      "_multiprocessing    decimal             pkg_resources       urllib3\n",
      "_mysql_connector    decorator           pkgutil             uu\n",
      "_opcode             difflib             platform            uuid\n",
      "_operator           dis                 platformdirs        variable_rules\n",
      "_osx_support        distutils           plistlib            venv\n",
      "_overlapped         dns                 plotly              warnings\n",
      "_pickle             doctest             poplib              watchdog\n",
      "_plotly_future_     email               posixpath           wave\n",
      "_plotly_utils       encodings           pprint              wcwidth\n",
      "_py_abc             ensurepip           profile             weakref\n",
      "_pydecimal          enum                prompt_toolkit      webbrowser\n",
      "_pyio               errno               pstats              webencodings\n",
      "_queue              et_xmlfile          psutil              werkzeug\n",
      "_random             exceptiongroup      psycopg2            win2kras\n",
      "_sha1               executing           pty                 win32api\n",
      "_sha256             faulthandler        pure_eval           win32clipboard\n",
      "_sha3               filecmp             py_compile          win32com\n",
      "_sha512             fileinput           pyarrow             win32con\n",
      "_signal             first_program       pyclbr              win32console\n",
      "_sitebuiltins       flask               pydeck              win32cred\n",
      "_socket             fnmatch             pydoc               win32crypt\n",
      "_sqlite3            fontTools           pydoc_data          win32cryptcon\n",
      "_sre                fractions           pyexpat             win32event\n",
      "_ssl                ftplib              pygments            win32evtlog\n",
      "_stat               functools           pylab               win32evtlogutil\n",
      "_statistics         gc                  pymongo             win32file\n",
      "_string             genericpath         pyparsing           win32gui\n",
      "_strptime           getopt              pythoncom           win32gui_struct\n",
      "_struct             getpass             pytz                win32help\n",
      "_symtable           gettext             pywin               win32inet\n",
      "_testbuffer         git                 pywin32_bootstrap   win32inetcon\n",
      "_testcapi           gitdb               pywin32_testutil    win32job\n",
      "_testconsole        glob                pywintypes          win32lz\n",
      "_testimportmultiple graphlib            queue               win32net\n",
      "_testinternalcapi   greenlet            quopri              win32netcon\n",
      "_testmultiphase     gridfs              random              win32pdh\n",
      "_thread             gzip                rasutil             win32pdhquery\n",
      "_threading_local    hashlib             re                  win32pdhutil\n",
      "_tkinter            heapq               referencing         win32pipe\n",
      "_tracemalloc        hmac                regcheck            win32print\n",
      "_uuid               html                regutil             win32process\n",
      "_warnings           html5lib            reprlib             win32profile\n",
      "_weakref            http                requests            win32ras\n",
      "_weakrefset         idlelib             retrying            win32rcparser\n",
      "_win32sysloader     idna                rich                win32security\n",
      "_winapi             imaplib             rlcompleter         win32service\n",
      "_winxptheme         imghdr              rpds                win32serviceutil\n",
      "_xxsubinterpreters  imp                 runpy               win32timezone\n",
      "_zoneinfo           importlib           sched               win32trace\n",
      "abc                 importlib_metadata  scipy               win32traceutil\n",
      "adodbapi            inspect             seaborn             win32transaction\n",
      "afxres              io                  secrets             win32ts\n",
      "aifc                ipaddress           select              win32ui\n",
      "altair              ipykernel           selectors           win32uiole\n",
      "antigravity         ipykernel_launcher  servicemanager      win32verstamp\n",
      "argparse            isapi               setuptools          win32wnet\n",
      "array               itertools           shelve              winerror\n",
      "ast                 itsdangerous        shlex               winioctlcon\n",
      "asttokens           jedi                shutil              winnt\n",
      "asynchat            jinja2              signal              winperf\n",
      "asyncio             joblib              site                winreg\n",
      "asyncore            json                six                 winsound\n",
      "atexit              jsonschema          sklearn             winxpgui\n",
      "attr                jsonschema_specifications smmap               winxptheme\n",
      "attrs               jupyter             smtpd               wsgiref\n",
      "audioop             jupyter_client      smtplib             xdrlib\n",
      "base64              jupyter_core        sndhdr              xlrd\n",
      "bdb                 jupyterlab_plotly   socket              xlsxwriter\n",
      "benchmarks          keyword             socketserver        xlwt\n",
      "binascii            kiwisolver          sqlalchemy          xml\n",
      "binhex              lib2to3             sqlite3             xmlrpc\n",
      "bisect              linecache           sre_compile         xxsubtype\n",
      "blinker             locale              sre_constants       zipapp\n",
      "bson                logging             sre_parse           zipfile\n",
      "builtins            lxml                ssl                 zipimport\n",
      "bz2                 lzma                sspi                zipp\n",
      "cProfile            mailbox             sspicon             zlib\n",
      "cachetools          mailcap             stack_data          zmq\n",
      "calendar            main                start_pythonwin     zoneinfo\n",
      "\n",
      "Enter any module name to get more help.  Or, type \"modules spam\" to search\n",
      "for modules whose name or summary contain the string \"spam\".\n",
      "\n"
     ]
    }
   ],
   "source": [
    "help('modules')"
   ]
  },
  {
   "cell_type": "code",
   "execution_count": 18,
   "metadata": {},
   "outputs": [],
   "source": [
    "import math\n",
    "import random"
   ]
  },
  {
   "cell_type": "code",
   "execution_count": 24,
   "metadata": {},
   "outputs": [],
   "source": [
    "import  time\n",
    "time.ctime()\n",
    "time.sleep(1)"
   ]
  },
  {
   "cell_type": "code",
   "execution_count": 33,
   "metadata": {},
   "outputs": [
    {
     "data": {
      "text/plain": [
       "(1, 1)"
      ]
     },
     "execution_count": 33,
     "metadata": {},
     "output_type": "execute_result"
    }
   ],
   "source": [
    "divmod(5,4)"
   ]
  }
 ],
 "metadata": {
  "kernelspec": {
   "display_name": "Python 3",
   "language": "python",
   "name": "python3"
  },
  "language_info": {
   "codemirror_mode": {
    "name": "ipython",
    "version": 3
   },
   "file_extension": ".py",
   "mimetype": "text/x-python",
   "name": "python",
   "nbconvert_exporter": "python",
   "pygments_lexer": "ipython3",
   "version": "3.10.11"
  }
 },
 "nbformat": 4,
 "nbformat_minor": 2
}
