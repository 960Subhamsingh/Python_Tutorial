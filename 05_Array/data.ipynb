{
 "cells": [
  {
   "cell_type": "code",
   "execution_count": 5,
   "metadata": {},
   "outputs": [
    {
     "name": "stdout",
     "output_type": "stream",
     "text": [
      "5 6 52 36 12 10 "
     ]
    }
   ],
   "source": [
    "def revers(arr,  start , end):\n",
    "    while(start<end):\n",
    "        temp = arr[start]\n",
    "        arr[start]=arr[end]\n",
    "        arr[end]= temp\n",
    "        start +=1\n",
    "        end -= 1\n",
    "def print_array(arr , number):\n",
    "    for i in range(n):\n",
    "        print(arr[i], end=\" \")\n",
    "\n",
    "\n",
    "def splitArr(arr, k, n):\n",
    "    revers(arr, 0, n - 1)\n",
    "    revers(arr, 0, n - k - 1)\n",
    "    revers(arr, n - k, n - 1)\n",
    "\n",
    "arr = [12, 10, 5, 6, 52, 36]\n",
    "n = len(arr)\n",
    "k = 2\n",
    "splitArr(arr, k, n)\n",
    "print_array(arr, n)\n",
    "\n",
    "\n"
   ]
  },
  {
   "cell_type": "code",
   "execution_count": null,
   "metadata": {},
   "outputs": [],
   "source": []
  }
 ],
 "metadata": {
  "kernelspec": {
   "display_name": "Python 3",
   "language": "python",
   "name": "python3"
  },
  "language_info": {
   "codemirror_mode": {
    "name": "ipython",
    "version": 3
   },
   "file_extension": ".py",
   "mimetype": "text/x-python",
   "name": "python",
   "nbconvert_exporter": "python",
   "pygments_lexer": "ipython3",
   "version": "3.10.11"
  }
 },
 "nbformat": 4,
 "nbformat_minor": 2
}
