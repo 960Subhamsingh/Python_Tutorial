{
 "cells": [
  {
   "cell_type": "markdown",
   "metadata": {},
   "source": [
    "#### Data Handling\n",
    "#### Working of open() function\n",
    " There are kinds of mode, that Python provides and how files can be opened:\n",
    "1. “ r “, for reading.\n",
    "2. “ w “, for writing.\n",
    "3. “ a “, for appending.\n",
    "4. “ r+ “, for both reading and writing"
   ]
  },
  {
   "cell_type": "code",
   "execution_count": 4,
   "metadata": {},
   "outputs": [],
   "source": [
    "# Files are named locations on disk to store related information. They are used to permanently store data in a non-volatile memory \n",
    "# Random Access Memory we use files for future use of the data by permanently storing them.\n",
    "\n",
    "file = open('text_fil.txt','x') # create a file"
   ]
  },
  {
   "cell_type": "code",
   "execution_count": 2,
   "metadata": {},
   "outputs": [
    {
     "name": "stdout",
     "output_type": "stream",
     "text": [
      "Files are named locations on disk to store related information. They are used to permanently store data in a non-volatile memory \n",
      "\n",
      "Random Access Memory we use files for future use of the data by permanently storing them.\n"
     ]
    }
   ],
   "source": [
    "file = open('text_file.txt', 'r')\n",
    "for i in file:\n",
    "    print (i)"
   ]
  },
  {
   "cell_type": "code",
   "execution_count": 6,
   "metadata": {},
   "outputs": [
    {
     "data": {
      "text/plain": [
       "'Files are named locations on disk to store related information. They are used to permanently store data in a non-volatile memory \\nRandom Access Memory we use files for future use of the data by permanently storing them.'"
      ]
     },
     "execution_count": 6,
     "metadata": {},
     "output_type": "execute_result"
    }
   ],
   "source": [
    "# read the entire text file \n",
    "file1 = open('text_file.txt')\n",
    "file1.read()"
   ]
  },
  {
   "cell_type": "code",
   "execution_count": 7,
   "metadata": {},
   "outputs": [
    {
     "data": {
      "text/plain": [
       "0"
      ]
     },
     "execution_count": 7,
     "metadata": {},
     "output_type": "execute_result"
    }
   ],
   "source": [
    "file1.seek(0)"
   ]
  },
  {
   "cell_type": "code",
   "execution_count": 9,
   "metadata": {},
   "outputs": [
    {
     "data": {
      "text/plain": [
       "'Files are na'"
      ]
     },
     "execution_count": 9,
     "metadata": {},
     "output_type": "execute_result"
    }
   ],
   "source": [
    "# read only ten words\n",
    "file1.read(12)"
   ]
  },
  {
   "cell_type": "markdown",
   "metadata": {},
   "source": [
    "create file and add text to append function (a+)"
   ]
  },
  {
   "cell_type": "code",
   "execution_count": 10,
   "metadata": {},
   "outputs": [],
   "source": [
    "file2 = open('module_practice.txt','a+')"
   ]
  },
  {
   "cell_type": "code",
   "execution_count": 13,
   "metadata": {},
   "outputs": [
    {
     "data": {
      "text/plain": [
       "45"
      ]
     },
     "execution_count": 13,
     "metadata": {},
     "output_type": "execute_result"
    }
   ],
   "source": [
    "file2.write('\\n append text to a file and display the text.')"
   ]
  },
  {
   "cell_type": "code",
   "execution_count": 16,
   "metadata": {},
   "outputs": [
    {
     "data": {
      "text/plain": [
       "0"
      ]
     },
     "execution_count": 16,
     "metadata": {},
     "output_type": "execute_result"
    }
   ],
   "source": [
    "file2.seek(0)"
   ]
  },
  {
   "cell_type": "code",
   "execution_count": 17,
   "metadata": {},
   "outputs": [
    {
     "data": {
      "text/plain": [
       "'\\n append text to a file and display the text.'"
      ]
     },
     "execution_count": 17,
     "metadata": {},
     "output_type": "execute_result"
    }
   ],
   "source": [
    "file2.read()"
   ]
  },
  {
   "cell_type": "markdown",
   "metadata": {},
   "source": [
    "read first n lines of a file"
   ]
  },
  {
   "cell_type": "code",
   "execution_count": 18,
   "metadata": {},
   "outputs": [
    {
     "data": {
      "text/plain": [
       "''"
      ]
     },
     "execution_count": 18,
     "metadata": {},
     "output_type": "execute_result"
    }
   ],
   "source": [
    "file2.readline()"
   ]
  },
  {
   "cell_type": "code",
   "execution_count": 22,
   "metadata": {},
   "outputs": [
    {
     "data": {
      "text/plain": [
       "'Files are named locations on disk to store related information. They are used to permanently store data in a non-volatile memory \\n'"
      ]
     },
     "execution_count": 22,
     "metadata": {},
     "output_type": "execute_result"
    }
   ],
   "source": [
    "file_open = open('text_file.txt')\n",
    "file_open.readline() "
   ]
  },
  {
   "cell_type": "code",
   "execution_count": 23,
   "metadata": {},
   "outputs": [],
   "source": [
    "file_open.close()"
   ]
  },
  {
   "cell_type": "code",
   "execution_count": 33,
   "metadata": {},
   "outputs": [
    {
     "data": {
      "text/plain": [
       "'\\n'"
      ]
     },
     "execution_count": 33,
     "metadata": {},
     "output_type": "execute_result"
    }
   ],
   "source": [
    "# read last n lines of a file.\n",
    "file_open = open('text_file.txt')\n",
    "file4= file_open.readline() \n",
    "file4[-1:]"
   ]
  },
  {
   "cell_type": "markdown",
   "metadata": {},
   "source": [
    "read a file line by line and store it into a list."
   ]
  },
  {
   "cell_type": "code",
   "execution_count": 59,
   "metadata": {},
   "outputs": [
    {
     "name": "stdout",
     "output_type": "stream",
     "text": [
      "\n",
      " append text to a file and display the text.\n"
     ]
    }
   ],
   "source": [
    "file2 =open('module_practice.txt')\n",
    "b = ''\n",
    "\n",
    "for i in range(1 ,10):\n",
    "    b= b+file2.read(i)\n",
    "print(b)"
   ]
  },
  {
   "cell_type": "markdown",
   "metadata": {},
   "source": [
    "count number of line in a text"
   ]
  },
  {
   "cell_type": "code",
   "execution_count": 78,
   "metadata": {},
   "outputs": [
    {
     "name": "stdout",
     "output_type": "stream",
     "text": [
      "Total Number of lines: 6\n"
     ]
    }
   ],
   "source": [
    "with open(\"module_practice.txt\", 'r') as f:\n",
    "    lines = len(f.readlines())\n",
    "    print('Total Number of lines:', lines)"
   ]
  },
  {
   "cell_type": "code",
   "execution_count": 13,
   "metadata": {},
   "outputs": [
    {
     "name": "stdout",
     "output_type": "stream",
     "text": [
      "number of line: 1\n"
     ]
    }
   ],
   "source": [
    "file_obj=open('module_practice.txt')\n",
    "d=file_obj.readlines()\n",
    "k=1+(d.count('/n'))\n",
    "print(f'number of line: {k}')"
   ]
  },
  {
   "cell_type": "code",
   "execution_count": 12,
   "metadata": {},
   "outputs": [],
   "source": [
    "file = open('module_practice.txt','w')\n",
    "file.write(\"Hello I am Tanushree\")\n",
    "file.write(\"I am pursuing my graduation from Jaypee University Anoospshahr\")\n",
    "file.close() #The close() command terminates all the resources in use and frees the system of this particular program."
   ]
  },
  {
   "cell_type": "markdown",
   "metadata": {},
   "source": [
    "list ot file"
   ]
  },
  {
   "cell_type": "code",
   "execution_count": 80,
   "metadata": {},
   "outputs": [
    {
     "name": "stdout",
     "output_type": "stream",
     "text": [
      "apple\n",
      "mango\n",
      "banana\n",
      "\n"
     ]
    }
   ],
   "source": [
    "file_obj=open('newlistdata4','x')\n",
    "a=['apple','mango','banana']\n",
    "for i in a:\n",
    "    file_obj.write(f'{i}\\n')\n",
    "else:\n",
    "    file_obj.close()\n",
    "    file_obj=open('newlistdata4')\n",
    "    print(file_obj.read())\n",
    "    file_obj.close()"
   ]
  },
  {
   "cell_type": "code",
   "execution_count": 84,
   "metadata": {},
   "outputs": [
    {
     "data": {
      "text/plain": [
       "4"
      ]
     },
     "execution_count": 84,
     "metadata": {},
     "output_type": "execute_result"
    }
   ],
   "source": [
    "sent = input(\"Enter sentance\")\n",
    "\n",
    "long = max(sent.split(), key=len)\n",
    "\n",
    "long\n",
    "len(long)"
   ]
  }
 ],
 "metadata": {
  "kernelspec": {
   "display_name": "Python 3",
   "language": "python",
   "name": "python3"
  },
  "language_info": {
   "codemirror_mode": {
    "name": "ipython",
    "version": 3
   },
   "file_extension": ".py",
   "mimetype": "text/x-python",
   "name": "python",
   "nbconvert_exporter": "python",
   "pygments_lexer": "ipython3",
   "version": "3.10.11"
  }
 },
 "nbformat": 4,
 "nbformat_minor": 2
}
