{
 "cells": [
  {
   "cell_type": "code",
   "execution_count": null,
   "metadata": {},
   "outputs": [],
   "source": [
    "num=input('Enter A Number: ')\n",
    "if num.isnumeric():\n",
    "    if int(num)%2!=0:\n",
    "        print('Odd Number')\n",
    "    else:\n",
    "        raise ValueError ('Invalid Number')\n",
    "else:\n",
    "    raise TypeError ('Enter Only Numeric Value')"
   ]
  }
 ],
 "metadata": {
  "language_info": {
   "name": "python"
  }
 },
 "nbformat": 4,
 "nbformat_minor": 2
}
