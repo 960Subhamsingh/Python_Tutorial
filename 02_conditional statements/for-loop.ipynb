{
 "cells": [
  {
   "cell_type": "markdown",
   "metadata": {},
   "source": [
    "For loops are used for sequential traversal"
   ]
  },
  {
   "cell_type": "code",
   "execution_count": 1,
   "metadata": {},
   "outputs": [
    {
     "data": {
      "text/plain": [
       "[1, 2, 3, 4, 5, 6, 7, 8, 9, 10]"
      ]
     },
     "execution_count": 1,
     "metadata": {},
     "output_type": "execute_result"
    }
   ],
   "source": [
    "# range function\n",
    "list(range(1,11))"
   ]
  },
  {
   "cell_type": "code",
   "execution_count": 2,
   "metadata": {},
   "outputs": [
    {
     "data": {
      "text/plain": [
       "[0, 1, 2, 3, 4, 5, 6, 7, 8, 9, 10, 11, 12, 13, 14]"
      ]
     },
     "execution_count": 2,
     "metadata": {},
     "output_type": "execute_result"
    }
   ],
   "source": [
    "list(range(15))"
   ]
  },
  {
   "cell_type": "code",
   "execution_count": 3,
   "metadata": {},
   "outputs": [
    {
     "data": {
      "text/plain": [
       "[1, 4, 7, 10]"
      ]
     },
     "execution_count": 3,
     "metadata": {},
     "output_type": "execute_result"
    }
   ],
   "source": [
    "list(range(1,11,3))"
   ]
  },
  {
   "cell_type": "code",
   "execution_count": 5,
   "metadata": {},
   "outputs": [
    {
     "data": {
      "text/plain": [
       "[10, 9, 8, 7, 6, 5, 4, 3, 2, 1]"
      ]
     },
     "execution_count": 5,
     "metadata": {},
     "output_type": "execute_result"
    }
   ],
   "source": [
    "list(range(10,0,-1))"
   ]
  },
  {
   "cell_type": "code",
   "execution_count": 6,
   "metadata": {},
   "outputs": [
    {
     "data": {
      "text/plain": [
       "'Kolkata'"
      ]
     },
     "execution_count": 6,
     "metadata": {},
     "output_type": "execute_result"
    }
   ],
   "source": [
    "# Sequence\n",
    "# String\n",
    "\"Kolkata\""
   ]
  },
  {
   "cell_type": "code",
   "execution_count": 9,
   "metadata": {},
   "outputs": [
    {
     "name": "stdout",
     "output_type": "stream",
     "text": [
      "2 is a prime number\n",
      "3 is a prime number\n",
      "4 is not a prime number because 2 * 2 = 4\n",
      "5 is a prime number\n",
      "6 is not a prime number because 2 * 3 = 6\n",
      "7 is a prime number\n",
      "8 is not a prime number because 2 * 4 = 8\n",
      "9 is not a prime number because 3 * 3 = 9\n",
      "10 is not a prime number because 2 * 5 = 10\n",
      "11 is a prime number\n"
     ]
    }
   ],
   "source": [
    "# Write a program which are prime number and which are not prime number\n",
    "n = int (input('Enter a number for prime number series : '))\n",
    "for i in range(2,n):\n",
    "    for j in range(2,i):\n",
    "        if i % j == 0:\n",
    "            print(i,\"is not a prime number because\",j,\"*\",i//j,\"=\",i)\n",
    "            break\n",
    "    else:\n",
    "        print(i,\"is a prime number\")"
   ]
  },
  {
   "cell_type": "code",
   "execution_count": 1,
   "metadata": {},
   "outputs": [
    {
     "data": {
      "text/plain": [
       "6"
      ]
     },
     "execution_count": 1,
     "metadata": {},
     "output_type": "execute_result"
    }
   ],
   "source": [
    "numbers = [1,2,3,4,5,6]\n",
    "for n in numbers:\n",
    "    total = 0\n",
    "    total+= n\n",
    "total\n"
   ]
  },
  {
   "cell_type": "code",
   "execution_count": 11,
   "metadata": {},
   "outputs": [
    {
     "name": "stdout",
     "output_type": "stream",
     "text": [
      "what is your name? It is sk.\n",
      "what is your nick name? It is DD!\n",
      "what is your favourite person? It is My MOM!\n"
     ]
    }
   ],
   "source": [
    "que = [\"name\",\"nick name\",\"favourite person\"]\n",
    "ans = [\"sk\",\"DD\",\"My MOM\"]\n",
    "sign = [\".\",\"!\",\"!\"]\n",
    "for q,a,s in zip(que,ans,sign):\n",
    "    print(\"what is your {0}? It is {1}{2}\".format(q,a,s))"
   ]
  },
  {
   "cell_type": "code",
   "execution_count": 13,
   "metadata": {},
   "outputs": [
    {
     "name": "stdout",
     "output_type": "stream",
     "text": [
      "10 9 8 7 6 5 4 3 2 1 "
     ]
    }
   ],
   "source": [
    "# print reverse number with reverse function on for loop\n",
    "for i in reversed(range(1,11)):\n",
    "                  print(i, end= \" \" )"
   ]
  },
  {
   "cell_type": "code",
   "execution_count": 14,
   "metadata": {},
   "outputs": [
    {
     "name": "stdout",
     "output_type": "stream",
     "text": [
      "apple\n",
      "banana\n",
      "orange\n",
      "pear\n"
     ]
    }
   ],
   "source": [
    "# loop over a sequence in sorted order\n",
    "fruits = ['apple', 'orange', 'apple', 'pear', 'orange', 'banana']\n",
    "# if we are sorting list we will have a duplicate value\n",
    "for i in sorted(set(fruits)) :\n",
    "    print(i)"
   ]
  },
  {
   "cell_type": "code",
   "execution_count": 27,
   "metadata": {},
   "outputs": [
    {
     "data": {
      "text/plain": [
       "'k = 4\\nfor i in range(5):\\n    for j in range(k):\\n        print(end=\" \")\\n    k-=1\\n    for j in range(i+1):\\n        print(\\'* \\',end=\"\")\\n    print(\"\\r\")\\n\\ns1 = \\'ABCD\\'\\n\\ns2 = \\'PQR\\'\\nfor i in range(4):\\n       # s1[:i+1] called string slicing\\n     print(s1[:i+1]+s2[i:],end=\"\")\\n     print(\"\\r\")'"
      ]
     },
     "execution_count": 27,
     "metadata": {},
     "output_type": "execute_result"
    }
   ],
   "source": [
    "'''k = 4\n",
    "for i in range(5):\n",
    "    for j in range(k):\n",
    "        print(end=\" \")\n",
    "    k-=1\n",
    "    for j in range(i+1):\n",
    "        print('*',end=\"\")\n",
    "    print(\"\\r\")'''\n",
    "'''k = 4\n",
    "for i in range(5):\n",
    "    for j in range(k):\n",
    "        print(end=\" \")\n",
    "    k-=1\n",
    "    for j in range(i+1):\n",
    "        print('* ',end=\"\")\n",
    "    print(\"\\r\")\n",
    "\n",
    "s1 = 'ABCD'\n",
    "\n",
    "s2 = 'PQR'\n",
    "for i in range(4):\n",
    "       # s1[:i+1] called string slicing\n",
    "     print(s1[:i+1]+s2[i:],end=\"\")\n",
    "     print(\"\\r\")'''"
   ]
  },
  {
   "cell_type": "code",
   "execution_count": 8,
   "metadata": {},
   "outputs": [
    {
     "name": "stdout",
     "output_type": "stream",
     "text": [
      "[1|1] [1|2] [1|3] [1|4] [1|5] [1|6] \n",
      "[2|2] [2|3] [2|4] [2|5] [2|6] \n",
      "[3|3] [3|4] [3|5] [3|6] \n",
      "[4|4] [4|5] [4|6] \n",
      "[5|5] [5|6] \n",
      "[6|6] \n"
     ]
    }
   ],
   "source": [
    "# forloop Domino\n",
    "for left in range(1,7):\n",
    "    for right in range(left,7):\n",
    "        print(\"[\"+str(left)+\"|\"+str(right)+\"]\",end=\" \")\n",
    "    print()"
   ]
  },
  {
   "cell_type": "code",
   "execution_count": 7,
   "metadata": {},
   "outputs": [
    {
     "name": "stdout",
     "output_type": "stream",
     "text": [
      "25\n"
     ]
    }
   ],
   "source": [
    "''' ForLoop Iterate Over List of One Element and it will print only 25'''\n",
    "\n",
    "for i in [25]:\n",
    "    print(i)"
   ]
  },
  {
   "cell_type": "code",
   "execution_count": 15,
   "metadata": {},
   "outputs": [
    {
     "name": "stdout",
     "output_type": "stream",
     "text": [
      "10 9 8 7 6 5 4 3 2 1 "
     ]
    }
   ],
   "source": [
    "for i in range(10,0,-1):\n",
    "    print(i, end=\" \")"
   ]
  },
  {
   "cell_type": "code",
   "execution_count": 14,
   "metadata": {},
   "outputs": [
    {
     "name": "stdout",
     "output_type": "stream",
     "text": [
      "K o l k a t a "
     ]
    }
   ],
   "source": [
    "for i in \"Kolkata\":\n",
    "    print(i, end=\" \")"
   ]
  },
  {
   "cell_type": "code",
   "execution_count": 16,
   "metadata": {},
   "outputs": [
    {
     "name": "stdout",
     "output_type": "stream",
     "text": [
      "1 2 3 5 "
     ]
    }
   ],
   "source": [
    "for i in [1,2,3,5]:\n",
    "    print(i, end=\" \")"
   ]
  },
  {
   "cell_type": "code",
   "execution_count": 13,
   "metadata": {},
   "outputs": [
    {
     "name": "stdout",
     "output_type": "stream",
     "text": [
      "1 2 3 5 "
     ]
    }
   ],
   "source": [
    "for i in (1,2,3,5):\n",
    "    print(i, end=\" \")"
   ]
  },
  {
   "cell_type": "code",
   "execution_count": 12,
   "metadata": {},
   "outputs": [
    {
     "name": "stdout",
     "output_type": "stream",
     "text": [
      "1 2 3 4 5 6 7 8 "
     ]
    }
   ],
   "source": [
    "for i in {1,2,3,4,5,6,7,8}:\n",
    "    print(i, end=\" \")"
   ]
  },
  {
   "cell_type": "markdown",
   "metadata": {},
   "source": [
    "Guessing-game"
   ]
  },
  {
   "cell_type": "code",
   "execution_count": 18,
   "metadata": {},
   "outputs": [
    {
     "data": {
      "text/plain": [
       "23"
      ]
     },
     "execution_count": 18,
     "metadata": {},
     "output_type": "execute_result"
    }
   ],
   "source": [
    "import random\n",
    "random.randint(1,100)"
   ]
  },
  {
   "cell_type": "code",
   "execution_count": 23,
   "metadata": {},
   "outputs": [
    {
     "name": "stdout",
     "output_type": "stream",
     "text": [
      "Sahi Jawab\n",
      "You took 1 attempts\n"
     ]
    }
   ],
   "source": [
    "jackpot = 12\n",
    "\n",
    "guess = int(input(\"Chal guess kar\"))\n",
    "counter = 1\n",
    "\n",
    "while guess != jackpot:\n",
    "    if guess < jackpot:\n",
    "        print(\"Guess higher\")\n",
    "    else:\n",
    "        print(\"Guess lower\")\n",
    "        \n",
    "    guess = int(input(\"Chal guess kar\"))\n",
    "    counter+=1\n",
    "    \n",
    "    \n",
    "print(\"Sahi Jawab\")\n",
    "print(\"You took\",counter,\"attempts\")\n",
    "    "
   ]
  },
  {
   "cell_type": "markdown",
   "metadata": {},
   "source": [
    "nested-loops\n",
    "\n",
    "to use one loop inside another loop"
   ]
  },
  {
   "cell_type": "code",
   "execution_count": 25,
   "metadata": {},
   "outputs": [
    {
     "name": "stdout",
     "output_type": "stream",
     "text": [
      "* \n",
      "* * \n",
      "* * * \n",
      "* * * * \n",
      "* * * * * \n",
      "* * * * * * \n",
      "* * * * * * * \n",
      "* * * * * * * * \n",
      "* * * * * * * * * \n",
      "* * * * * * * * * * \n",
      "* * * * * * * * * * * \n",
      "* * * * * * * * * * * * \n"
     ]
    }
   ],
   "source": [
    "rows = int(input(\"Enter the number of rows \"))\n",
    "\n",
    "for i in range(1,rows + 1):\n",
    "    for j in range(0,i):\n",
    "        print(\"*\",end=\" \")\n",
    "    print(\"\")"
   ]
  },
  {
   "cell_type": "markdown",
   "metadata": {},
   "source": [
    "### Generators\n",
    "A generator-function is defined like a normal function, but whenever it needs to generate a value, it does so with the yield keyword rather than return. If the body of a def contains yield, the function automatically becomes a generator function."
   ]
  },
  {
   "cell_type": "code",
   "execution_count": 4,
   "metadata": {},
   "outputs": [
    {
     "name": "stdout",
     "output_type": "stream",
     "text": [
      "2\n",
      "4\n",
      "9\n",
      "16\n"
     ]
    }
   ],
   "source": [
    "def sim():\n",
    "    yield 1*2\n",
    "    yield 2*2\n",
    "    yield 3*3\n",
    "    yield 4*4\n",
    "\n",
    "for value in  sim():\n",
    "    print(value)\n"
   ]
  },
  {
   "cell_type": "code",
   "execution_count": 5,
   "metadata": {},
   "outputs": [
    {
     "name": "stdout",
     "output_type": "stream",
     "text": [
      "0\n",
      "1\n",
      "1\n",
      "2\n",
      "3\n",
      "\n",
      "Using for in loop\n",
      "0\n",
      "1\n",
      "1\n",
      "2\n",
      "3\n"
     ]
    }
   ],
   "source": [
    "# A simple generator for Fibonacci Numbers\n",
    "def fib(limit):\n",
    "    a, b = 0, 1\n",
    "    while a < limit:   #One by one yield next Fibonacci Number\n",
    "        yield a\n",
    "        a, b = b, a + b\n",
    "\n",
    "# Create a generator object\n",
    "x = fib(5)\n",
    "# Iterating over the generator object using next\n",
    "print(x.__next__()) # In Python 3, __next__()\n",
    "print(x.__next__()) \n",
    "print(x.__next__()) \n",
    "print(x.__next__()) \n",
    "print(x.__next__()) \n",
    "print(\"\\nUsing for in loop\")\n",
    "for i in fib(5):\n",
    "    print(i)\n",
    "\n"
   ]
  }
 ],
 "metadata": {
  "kernelspec": {
   "display_name": "Python 3",
   "language": "python",
   "name": "python3"
  },
  "language_info": {
   "codemirror_mode": {
    "name": "ipython",
    "version": 3
   },
   "file_extension": ".py",
   "mimetype": "text/x-python",
   "name": "python",
   "nbconvert_exporter": "python",
   "pygments_lexer": "ipython3",
   "version": "3.10.11"
  }
 },
 "nbformat": 4,
 "nbformat_minor": 2
}
