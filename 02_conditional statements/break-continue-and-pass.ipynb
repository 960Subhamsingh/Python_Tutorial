{
 "cells": [
  {
   "cell_type": "code",
   "execution_count": 2,
   "metadata": {},
   "outputs": [
    {
     "name": "stdout",
     "output_type": "stream",
     "text": [
      "1\n",
      "2\n",
      "3\n",
      "4\n"
     ]
    }
   ],
   "source": [
    "# Break Statement\n",
    "\n",
    "for i in range(1,11):\n",
    "    if i == 5:\n",
    "        break\n",
    "    print(i)"
   ]
  },
  {
   "cell_type": "code",
   "execution_count": 1,
   "metadata": {},
   "outputs": [
    {
     "name": "stdout",
     "output_type": "stream",
     "text": [
      "1\n",
      "Hello\n",
      "2\n",
      "Hello\n",
      "3\n",
      "Hello\n",
      "4\n",
      "Hello\n",
      "6\n",
      "Hello\n",
      "7\n",
      "Hello\n",
      "8\n",
      "Hello\n",
      "9\n",
      "Hello\n",
      "10\n",
      "Hello\n"
     ]
    }
   ],
   "source": [
    "# Continue Statement\n",
    "\n",
    "for i in range(1,11):\n",
    "    if i == 5:\n",
    "        continue\n",
    "    print(i)\n",
    "    print(\"Hello\")"
   ]
  },
  {
   "cell_type": "code",
   "execution_count": 3,
   "metadata": {},
   "outputs": [],
   "source": [
    "# Pass Statement\n",
    "for i in range(1,11):\n",
    "    pass   "
   ]
  },
  {
   "cell_type": "code",
   "execution_count": 5,
   "metadata": {},
   "outputs": [
    {
     "name": "stdout",
     "output_type": "stream",
     "text": [
      "Chocolate 1\n",
      "Chocolate 2\n",
      "Chocolate 3\n",
      "Chocolate 4\n",
      "Chocolate 5\n",
      "Chocolate 6\n",
      "Chocolate 7\n",
      "Chocolate 8\n",
      "Chocolate 9\n",
      "Chocolate 10\n",
      "Chocolate 11\n",
      "Chocolate 12\n",
      "Chocolate 13\n",
      "Chocolate 14\n",
      "Thank You for contact\n"
     ]
    }
   ],
   "source": [
    "choco = int(input('how many chocolates you want? '))\n",
    "i = 1\n",
    "av = 20\n",
    "\n",
    "while i<=choco:\n",
    "    if(i>av):\n",
    "        print(\"Sorry , Not Available \")\n",
    "        break\n",
    "    print(\"Chocolate\" , i)\n",
    "    i+=1\n",
    "else:\n",
    "    print(\"Thank You for contact\")"
   ]
  },
  {
   "cell_type": "code",
   "execution_count": 29,
   "metadata": {},
   "outputs": [
    {
     "name": "stdout",
     "output_type": "stream",
     "text": [
      "1 2 4 7 8 11 13 14 16 17 19 22 23 26 28 29 31 32 34 37 38 41 43 44 46 47 49 52 53 56 58 59 61 62 64 67 68 71 73 74 76 77 79 82 83 86 88 89 91 92 94 97 98 "
     ]
    }
   ],
   "source": [
    "# write a program divisible by 3 and 5 with while loop\n",
    "a = 1\n",
    "count =0\n",
    "while(a<=100):\n",
    "    if(a%3==0 or a%5==0):\n",
    "        a+=1\n",
    "    else:\n",
    "        print(a,end=\" \")\n",
    "        a+=1\n",
    "        count+1"
   ]
  },
  {
   "cell_type": "code",
   "execution_count": 15,
   "metadata": {},
   "outputs": [
    {
     "name": "stdout",
     "output_type": "stream",
     "text": [
      "2318\n"
     ]
    }
   ],
   "source": [
    "# add all the divisble number by 3 and 5\n",
    "count= 0\n",
    "for i in range(1,100):\n",
    "    if(i%3==0 or i%5==0):\n",
    "        count+=i\n",
    "        continue\n",
    "print(count)\n",
    "    "
   ]
  },
  {
   "cell_type": "code",
   "execution_count": 22,
   "metadata": {},
   "outputs": [
    {
     "name": "stdout",
     "output_type": "stream",
     "text": [
      "1 is not divisable by 5\n",
      "2 is not divisable by 5\n",
      "3 is not divisable by 5\n",
      "4 is not divisable by 5\n",
      "6 is not divisable by 5\n",
      "7 is not divisable by 5\n",
      "8 is not divisable by 5\n",
      "9 is not divisable by 5\n",
      "11 is not divisable by 5\n",
      "12 is not divisable by 5\n",
      "13 is not divisable by 5\n",
      "14 is not divisable by 5\n",
      "16 is not divisable by 5\n",
      "17 is not divisable by 5\n",
      "18 is not divisable by 5\n",
      "19 is not divisable by 5\n"
     ]
    }
   ],
   "source": [
    "# which numbe is not divisble by 5\n",
    "count =0\n",
    "for i in range(1,20):\n",
    "    if(i%5==0):\n",
    "        continue \n",
    "    print(i,\"is not divisable by 5\")"
   ]
  }
 ],
 "metadata": {
  "kernelspec": {
   "display_name": "Python 3",
   "language": "python",
   "name": "python3"
  },
  "language_info": {
   "codemirror_mode": {
    "name": "ipython",
    "version": 3
   },
   "file_extension": ".py",
   "mimetype": "text/x-python",
   "name": "python",
   "nbconvert_exporter": "python",
   "pygments_lexer": "ipython3",
   "version": "3.10.11"
  }
 },
 "nbformat": 4,
 "nbformat_minor": 2
}
