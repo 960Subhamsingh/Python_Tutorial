{
 "cells": [
  {
   "cell_type": "code",
   "execution_count": 13,
   "metadata": {},
   "outputs": [
    {
     "data": {
      "text/plain": [
       "'{\"book\": [{\"id\": 1, \"language\": \"English\", \"edition\": \"Second\", \"author\": \"Derrick Mwiti\"}]}'"
      ]
     },
     "execution_count": 13,
     "metadata": {},
     "output_type": "execute_result"
    }
   ],
   "source": [
    "\n",
    "data = {\n",
    "    \"book\": [  \n",
    "    {   \n",
    "    \"id\": 1,  \n",
    "\t\"language\": \"English\",  \n",
    "\t\"edition\": \"Second\",  \n",
    "\t\"author\": \"Derrick Mwiti\"  \n",
    "    } \n",
    "\t],  \n",
    "    \n",
    "}\n",
    "import json\n",
    "# object_to_json_str\n",
    "\n",
    "b = json.dumps(data)\n",
    "b\n"
   ]
  },
  {
   "cell_type": "markdown",
   "metadata": {},
   "source": [
    "dumps () function <br>\n",
    "The dumps() function is used to store serialized data in the Python file. It accepts only one argument that is Python data for serialization. "
   ]
  },
  {
   "cell_type": "code",
   "execution_count": 15,
   "metadata": {},
   "outputs": [
    {
     "name": "stdout",
     "output_type": "stream",
     "text": [
      "[\"Welcome\", \"to\", \"javaTpoint\"]\n",
      "[\"Welcome\", \"to\", \"javaTpoint\"]\n",
      "\"Hello\"\n",
      "1234\n",
      "23.572\n",
      "true\n",
      "false\n",
      "null\n"
     ]
    }
   ],
   "source": [
    " \n",
    "#Python  list conversion to JSON  Array   \n",
    "print(json.dumps(['Welcome', \"to\", \"javaTpoint\"]))  \n",
    "\t  \n",
    "#Python  tuple conversion to JSON Array   \n",
    "print(json.dumps((\"Welcome\", \"to\", \"javaTpoint\")))  \n",
    "\t  \n",
    "# Python string conversion to JSON String   \n",
    "print(json.dumps(\"Hello\"))  \n",
    "\t  \n",
    "# Python int conversion to JSON Number   \n",
    "print(json.dumps(1234))  \n",
    "\t  \n",
    "# Python float conversion to JSON Number   \n",
    "print(json.dumps(23.572))  \n",
    "\t  \n",
    "# Boolean conversion to their respective values   \n",
    "print(json.dumps(True))  \n",
    "print(json.dumps(False))  \n",
    "\t  \n",
    "# None value to null   \n",
    "print(json.dumps(None))   \n"
   ]
  },
  {
   "cell_type": "markdown",
   "metadata": {},
   "source": [
    "load() function <br>\n",
    "The load() function is used to deserialize the JSON data to Python object from the file. "
   ]
  },
  {
   "cell_type": "code",
   "execution_count": 21,
   "metadata": {},
   "outputs": [
    {
     "name": "stdout",
     "output_type": "stream",
     "text": [
      "[10, 20, 30, 40, 50, 60, 70]\n"
     ]
    }
   ],
   "source": [
    "a = (10,20,30,40,50,60,70)  \n",
    "b = json.dumps(a)  \n",
    "print(json.loads(b))\n",
    "\n"
   ]
  },
  {
   "cell_type": "code",
   "execution_count": 16,
   "metadata": {},
   "outputs": [
    {
     "name": "stdout",
     "output_type": "stream",
     "text": [
      "<class 'str'>\n",
      "<class 'dict'>\n",
      "India\n",
      "<class 'list'>\n"
     ]
    },
    {
     "data": {
      "text/plain": [
       "True"
      ]
     },
     "execution_count": 16,
     "metadata": {},
     "output_type": "execute_result"
    }
   ],
   "source": [
    "# String_to_dict\n",
    "import json\n",
    "\n",
    "country = '{\"name\": \"India\", \"population\": 331002651}'\n",
    "country_dict = json.loads(country)\n",
    "print(type(country))\n",
    "print(type(country_dict))\n",
    "print(country_dict['name'])\n",
    "\n",
    "# String_to_list\n",
    "\n",
    "countries ='[\"United States\", \"Canada\",\"Assia\" , \"India\"]'\n",
    "counties_list= json.loads(countries)\n",
    "\n",
    "print(type(counties_list))\n",
    "counties_list[0]\n",
    "\n",
    "# String_to_bool\n",
    "\n",
    "bool_string = 'true'\n",
    "bool_type = json.loads(bool_string)\n",
    "bool_type"
   ]
  },
  {
   "cell_type": "code",
   "execution_count": 17,
   "metadata": {},
   "outputs": [],
   "source": [
    "# open_to_json_file\n",
    "\n",
    "with open('house.json', 'w') as f:\n",
    "    data=json.dump(country_dict, f, indent=4)\n"
   ]
  },
  {
   "cell_type": "code",
   "execution_count": null,
   "metadata": {},
   "outputs": [],
   "source": [
    " "
   ]
  }
 ],
 "metadata": {
  "kernelspec": {
   "display_name": "Python 3",
   "language": "python",
   "name": "python3"
  },
  "language_info": {
   "codemirror_mode": {
    "name": "ipython",
    "version": 3
   },
   "file_extension": ".py",
   "mimetype": "text/x-python",
   "name": "python",
   "nbconvert_exporter": "python",
   "pygments_lexer": "ipython3",
   "version": "3.10.11"
  }
 },
 "nbformat": 4,
 "nbformat_minor": 2
}
