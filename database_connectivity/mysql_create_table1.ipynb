{
 "cells": [
  {
   "cell_type": "code",
   "execution_count": 1,
   "metadata": {},
   "outputs": [
    {
     "ename": "ModuleNotFoundError",
     "evalue": "No module named 'mysql.connector'; 'mysql' is not a package",
     "output_type": "error",
     "traceback": [
      "\u001b[1;31m---------------------------------------------------------------------------\u001b[0m",
      "\u001b[1;31mModuleNotFoundError\u001b[0m                       Traceback (most recent call last)",
      "Cell \u001b[1;32mIn[1], line 1\u001b[0m\n\u001b[1;32m----> 1\u001b[0m \u001b[38;5;28;01mimport\u001b[39;00m \u001b[38;5;21;01mmysql\u001b[39;00m\u001b[38;5;21;01m.\u001b[39;00m\u001b[38;5;21;01mconnector\u001b[39;00m\n\u001b[0;32m      3\u001b[0m conn \u001b[38;5;241m=\u001b[39m mysql\u001b[38;5;241m.\u001b[39mconnector\u001b[38;5;241m.\u001b[39mconnect(host\u001b[38;5;241m=\u001b[39m\u001b[38;5;124m\"\u001b[39m\u001b[38;5;124mlocalhost\u001b[39m\u001b[38;5;124m\"\u001b[39m, user\u001b[38;5;241m=\u001b[39m \u001b[38;5;124m\"\u001b[39m\u001b[38;5;124mroot\u001b[39m\u001b[38;5;124m\"\u001b[39m, password\u001b[38;5;241m=\u001b[39m\u001b[38;5;124m\"\u001b[39m\u001b[38;5;124mtiger\u001b[39m\u001b[38;5;124m\"\u001b[39m , database\u001b[38;5;241m=\u001b[39m \u001b[38;5;124m\"\u001b[39m\u001b[38;5;124mdata\u001b[39m\u001b[38;5;124m\"\u001b[39m)\n\u001b[0;32m      5\u001b[0m con \u001b[38;5;241m=\u001b[39mconn\u001b[38;5;241m.\u001b[39mcursor()\n",
      "File \u001b[1;32md:\\Project\\Python_Tutorial\\database_connectivity\\mysql.py:1\u001b[0m\n\u001b[1;32m----> 1\u001b[0m \u001b[38;5;28;01mimport\u001b[39;00m \u001b[38;5;21;01mmysql\u001b[39;00m\u001b[38;5;21;01m.\u001b[39;00m\u001b[38;5;21;01mconnector\u001b[39;00m\n\u001b[0;32m      3\u001b[0m conn \u001b[38;5;241m=\u001b[39m \u001b[38;5;28;01mNone\u001b[39;00m\n\u001b[0;32m      5\u001b[0m \u001b[38;5;28;01mtry\u001b[39;00m:\n\u001b[0;32m      6\u001b[0m     \u001b[38;5;66;03m# Attempt to establish a connection to the MySQL database\u001b[39;00m\n",
      "\u001b[1;31mModuleNotFoundError\u001b[0m: No module named 'mysql.connector'; 'mysql' is not a package"
     ]
    }
   ],
   "source": [
    "import mysql.connector\n",
    "\n",
    "conn = mysql.connector.connect(host=\"localhost\", user= \"root\", password=\"tiger\" , database= \"data\")\n",
    "\n",
    "con =conn.cursor()\n",
    "dbs = con.execute(\"create table Employee(name varchar(20) not null, id int(20) not null primary key, salary float not null, Dept_id int not null)\")  \n",
    "dbs = con.execute(\"show tables\")\n"
   ]
  },
  {
   "cell_type": "code",
   "execution_count": 6,
   "metadata": {},
   "outputs": [
    {
     "name": "stdout",
     "output_type": "stream",
     "text": [
      "-1 record inserted!\n"
     ]
    }
   ],
   "source": [
    "import mysql.connector\n",
    "# create database connection\n",
    "conn = mysql.connector.connect(host=\"localhost\", user= \"root\", password=\"tiger\" , database= \"data\")\n",
    "cur = conn.cursor()  \n",
    "sql = \"insert into employee(name, id, salary, dept_id, branch_name) values (%s, %s, %s, %s, %s)\"  \n",
    "  \n",
    "#The row values are provided in the form of tuple   \n",
    "val = (\"John\", 110, 25000.00, 201, \"Newyork\")  \n",
    "  \n",
    "try: \n",
    "  #inserting the values into the table \n",
    "  cur.execute(sql,val)  \n",
    "\t  \n",
    "  #commit the transaction   \n",
    "  conn.commit()  \n",
    "\t      \n",
    "except:  \n",
    "    conn.rollback()  \n",
    "\t  \n",
    "print(cur.rowcount,\"record inserted!\")  \n",
    "conn.close()  "
   ]
  },
  {
   "cell_type": "code",
   "execution_count": 9,
   "metadata": {},
   "outputs": [],
   "source": [
    "# insert multiple values \n",
    "import mysql.connector  \n",
    "\t      \n",
    "#Create the connection object   \n",
    "conn = mysql.connector.connect(host = \"localhost\", user = \"root\",passwd = \"tiger\",database = \"data\")  \n",
    "\t  \n",
    "#creating the cursor object  \n",
    "cur =conn.cursor()  \n",
    "sql = \"insert into Employee(name, id, salary, dept_id, branch_name) values (%s, %s, %s, %s, %s)\"  \n",
    "val = [(\"John\", 102, 25000.00, 201, \"Newyork\"),(\"David\",103,25000.00,202,\"Port of spain\"),(\"Nick\",104,90000.00,201,\"Newyork\")]  \n",
    "\t      \n",
    "try:  \n",
    "    #inserting the values into the table  \n",
    "    cur.executemany(sql,val)  \n",
    "\t  \n",
    "    #commit the transaction   \n",
    "    conn.commit()  \n",
    "    print(cur.rowcount,\"records inserted!\")  \t      \n",
    "except:\n",
    "    conn.rollback()  \n",
    "\t  \n",
    "conn.close()  \n"
   ]
  }
 ],
 "metadata": {
  "kernelspec": {
   "display_name": "Python 3",
   "language": "python",
   "name": "python3"
  },
  "language_info": {
   "codemirror_mode": {
    "name": "ipython",
    "version": 3
   },
   "file_extension": ".py",
   "mimetype": "text/x-python",
   "name": "python",
   "nbconvert_exporter": "python",
   "pygments_lexer": "ipython3",
   "version": "3.10.11"
  }
 },
 "nbformat": 4,
 "nbformat_minor": 2
}
