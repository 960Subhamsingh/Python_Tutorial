{
 "cells": [
  {
   "cell_type": "markdown",
   "metadata": {},
   "source": [
    "                 Oracle Database connection"
   ]
  },
  {
   "cell_type": "markdown",
   "metadata": {},
   "source": [
    "                      these  are table"
   ]
  },
  {
   "cell_type": "markdown",
   "metadata": {
    "vscode": {
     "languageId": "html"
    }
   },
   "source": [
    "create table gift_store(   \n",
    "product_id   INTEGER NOT NULL, \n",
    "product_name VARCHAR(20),  \n",
    "product_qty INTEGER,  \n",
    "cost_price FLOAT,  \n",
    "sell_price FLOAT,  \n",
    "shop_status VARCHAR(20));  "
   ]
  },
  {
   "cell_type": "code",
   "execution_count": 7,
   "metadata": {},
   "outputs": [],
   "source": [
    "import cx_Oracle"
   ]
  },
  {
   "cell_type": "markdown",
   "metadata": {},
   "source": [
    "con = cx_Oracle.connect(\n",
    "    user=\"system\", \n",
    "    password=\"tiger\",\n",
    "    dsn=\"localhost/xe\"\n",
    ")"
   ]
  },
  {
   "cell_type": "code",
   "execution_count": 8,
   "metadata": {},
   "outputs": [
    {
     "name": "stdout",
     "output_type": "stream",
     "text": [
      "11.2.0.2.0\n"
     ]
    }
   ],
   "source": [
    "# establish Connection\n",
    "con = cx_Oracle.Connection('system/tiger@localhost:1521/xe')\n",
    "# check your oracle version\n",
    "print(con.version)"
   ]
  },
  {
   "cell_type": "markdown",
   "metadata": {},
   "source": [
    "Cursor is the database object that helps in retrieving the data from the oracle database. Once object is created you use execute method of cursor to put the query."
   ]
  },
  {
   "cell_type": "code",
   "execution_count": 10,
   "metadata": {},
   "outputs": [],
   "source": [
    "#create cur object\n",
    "cur =con.cursor()"
   ]
  },
  {
   "cell_type": "code",
   "execution_count": 16,
   "metadata": {},
   "outputs": [],
   "source": [
    "cur.execute(\"create table gift_store(  product_id  int NOT NULL,product_name VARCHAR(20),product_qty int,cost_price FLOAT,sell_price FLOAT,shop_status VARCHAR(20))\")"
   ]
  },
  {
   "cell_type": "markdown",
   "metadata": {},
   "source": [
    "insert  into gift_store values (1, 'toy gun', 1, 18.0, 20.0, 'open') <br>\n",
    "insert into gift_store values(2, 'doll', 1, 10.0, 12.0, 'open') <br>\n",
    "insert into gift_store values(3, 'drum', 3, 30.0, 40.0, 'open')<br>\n",
    "insert into gift_store values(4, 'guitar', 1, 150.0, 155.0, 'open') <br>\n",
    "insert into gift_store values(5, 'skipping rope', 5, 90.0, 100.0, 'open')<br>\n",
    "insert  into gift_store values(6, 'toy crossbow', 1, 150.0, 170.0, 'open')<br>\n",
    "insert  into gift_store values(7, 'chess board', 1, 7.0, 10.0, 'open') <br>\n",
    "insert into gift_store values(8, 'no sale', 0, 0.0, 0.0, 'closed')  <br>"
   ]
  },
  {
   "cell_type": "code",
   "execution_count": 22,
   "metadata": {},
   "outputs": [],
   "source": [
    "cur.execute(\"insert  into gift_store values (1, 'toy gun', 1, 18.0, 20.0, 'open')\")\n",
    "\n",
    "cur.execute(\"insert into gift_store values(2, 'doll', 1, 10.0, 12.0, 'open') \")"
   ]
  },
  {
   "cell_type": "code",
   "execution_count": 32,
   "metadata": {},
   "outputs": [
    {
     "name": "stdout",
     "output_type": "stream",
     "text": [
      "(1, 'toy gun')\n",
      "(1, 'toy gun')\n",
      "(2, 'doll')\n",
      "(3, 'drum')\n",
      "(4, 'guitar')\n",
      "(5, 'skipping rope')\n",
      "(6, 'toy crossbow')\n",
      "(7, 'chess board')\n",
      "(8, 'no sale')\n",
      "(1, 'toy gun')\n",
      "(1, 'toy gun')\n",
      "(2, 'doll')\n"
     ]
    }
   ],
   "source": [
    "# query to fetch all records\n",
    "cur.execute(\"select product_id,  product_name  from gift_store\")\n",
    "for i in cur:\n",
    "    print(i)\n"
   ]
  },
  {
   "cell_type": "code",
   "execution_count": 30,
   "metadata": {},
   "outputs": [
    {
     "data": {
      "text/plain": [
       "<cx_Oracle.Cursor on <cx_Oracle.Connection to system@localhost:1521/xe>>"
      ]
     },
     "execution_count": 30,
     "metadata": {},
     "output_type": "execute_result"
    }
   ],
   "source": [
    "qry = 'select * from gift_store where product_qty > 1'\n",
    "# pass the query in the cursor execute function\n",
    "cur.execute(qry)"
   ]
  },
  {
   "cell_type": "code",
   "execution_count": 38,
   "metadata": {},
   "outputs": [
    {
     "name": "stdout",
     "output_type": "stream",
     "text": [
      "(1, 'toy gun', 1, 18.0, 20.0, 'open')\n"
     ]
    }
   ],
   "source": [
    "# fetchmany(int) is used to fetch limited number of records from result set based on integer argument passed in it\n",
    "cur.execute('select * from gift_store')\n",
    "rows = cur.fetchone()\n",
    "print(rows)"
   ]
  },
  {
   "cell_type": "code",
   "execution_count": 31,
   "metadata": {},
   "outputs": [
    {
     "name": "stdout",
     "output_type": "stream",
     "text": [
      "(3, 'drum', 3, 30.0, 40.0, 'open')\n",
      "(5, 'skipping rope', 5, 90.0, 100.0, 'open')\n"
     ]
    }
   ],
   "source": [
    "# fetch all the rows\n",
    "res = cur.fetchall()\n",
    "for row in res:\n",
    "    print(row)"
   ]
  },
  {
   "cell_type": "code",
   "execution_count": 33,
   "metadata": {},
   "outputs": [],
   "source": [
    "# use fetchmany() method to display 4 records\n",
    "res = cur.fetchmany(4)\n",
    "# print records in a row\n",
    "for row in res:\n",
    "    print(row)"
   ]
  },
  {
   "cell_type": "code",
   "execution_count": 39,
   "metadata": {},
   "outputs": [
    {
     "name": "stdout",
     "output_type": "stream",
     "text": [
      "1\n",
      "toy gun\n",
      "1\n",
      "18.0\n",
      "20.0\n",
      "open\n"
     ]
    }
   ],
   "source": [
    "# using fetchone() method\n",
    "cur.execute('select * from gift_store')\n",
    "res = cur.fetchone()\n",
    "\n",
    "# displying each item in a row (optional)\n",
    "for row in res:\n",
    "    print(row)\n",
    "\n",
    " "
   ]
  },
  {
   "cell_type": "code",
   "execution_count": 40,
   "metadata": {},
   "outputs": [
    {
     "name": "stdout",
     "output_type": "stream",
     "text": [
      "(60,)\n"
     ]
    }
   ],
   "source": [
    "# calculating total pofit\n",
    "qry = '''SELECT SUM(sell_price - cost_price) AS \"Total profit\" FROM gift_store  '''\n",
    "\n",
    "# executing cursor\n",
    "cur.execute(qry)\n",
    "\n",
    "# using fetchall() method\n",
    "res = cur.fetchall()\n",
    "\n",
    "# printing data in a row\n",
    "for row in res:\n",
    "    print(row)"
   ]
  }
 ],
 "metadata": {
  "kernelspec": {
   "display_name": "Python 3",
   "language": "python",
   "name": "python3"
  },
  "language_info": {
   "codemirror_mode": {
    "name": "ipython",
    "version": 3
   },
   "file_extension": ".py",
   "mimetype": "text/x-python",
   "name": "python",
   "nbconvert_exporter": "python",
   "pygments_lexer": "ipython3",
   "version": "3.10.11"
  }
 },
 "nbformat": 4,
 "nbformat_minor": 2
}
