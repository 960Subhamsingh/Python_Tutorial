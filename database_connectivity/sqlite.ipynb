{
 "cells": [
  {
   "cell_type": "markdown",
   "metadata": {},
   "source": [
    "# SQLite Tutorial "
   ]
  },
  {
   "cell_type": "markdown",
   "metadata": {},
   "source": [
    "Documentation at: https://docs.python.org/3/library/sqlite3.html"
   ]
  },
  {
   "cell_type": "markdown",
   "metadata": {},
   "source": [
    "# Quire of SQLite\n",
    "\n",
    "* Data Types .\n",
    "* No Right or Full Outer Joins.\n",
    "* Alter Table is very useful add, Remove , column and table name.\n",
    "* Tables default to having a unique integer rowid column.\n",
    "* SQLite is a library not a service.\n",
    "* In-Memory Database Feature."
   ]
  },
  {
   "cell_type": "markdown",
   "metadata": {},
   "source": [
    "- Python database is portable, and the program is also portable so both can give an advantage in case of portability\n",
    "- It is an interface for associating the SQL database server from Python and uses the DB-API of Python to work."
   ]
  },
  {
   "cell_type": "markdown",
   "metadata": {},
   "source": [
    "load the sqlite package "
   ]
  },
  {
   "cell_type": "code",
   "execution_count": 1,
   "metadata": {},
   "outputs": [
    {
     "name": "stdout",
     "output_type": "stream",
     "text": [
      "3.40.1\n"
     ]
    }
   ],
   "source": [
    "import sqlite3\n",
    "\n",
    "print(sqlite3.sqlite_version)"
   ]
  },
  {
   "cell_type": "markdown",
   "metadata": {},
   "source": [
    "Connect to the database.  "
   ]
  },
  {
   "cell_type": "code",
   "execution_count": 2,
   "metadata": {},
   "outputs": [],
   "source": [
    "conn = sqlite3.connect('school.db')"
   ]
  },
  {
   "cell_type": "code",
   "execution_count": 3,
   "metadata": {},
   "outputs": [
    {
     "name": "stdout",
     "output_type": "stream",
     "text": [
      "Opened database successfully\n",
      "Table created successfully\n"
     ]
    }
   ],
   "source": [
    "# create file in test.db table \n",
    "onn = sqlite3.connect('test.db')\n",
    "print(\"Opened database successfully\")\n",
    "\n",
    "# create table \n",
    "conn.execute('''CREATE TABLE COMPANY\n",
    "         (ID INT PRIMARY KEY     NOT NULL,\n",
    "         NAME           TEXT    NOT NULL,\n",
    "         AGE            INT     NOT NULL,\n",
    "         ADDRESS        CHAR(50),\n",
    "         SALARY         REAL);''')\n",
    "print(\"Table created successfully\")\n",
    "\n",
    "conn.close()"
   ]
  },
  {
   "cell_type": "markdown",
   "metadata": {},
   "source": [
    "create cursor to execute statement"
   ]
  },
  {
   "cell_type": "code",
   "execution_count": 361,
   "metadata": {},
   "outputs": [
    {
     "data": {
      "text/plain": [
       "<sqlite3.Cursor at 0x2883de8b740>"
      ]
     },
     "execution_count": 361,
     "metadata": {},
     "output_type": "execute_result"
    }
   ],
   "source": [
    "cur = conn.cursor()\n",
    "cur.execute('select * from student')"
   ]
  },
  {
   "cell_type": "code",
   "execution_count": 362,
   "metadata": {},
   "outputs": [
    {
     "name": "stdout",
     "output_type": "stream",
     "text": [
      "[(1, 'alyar', '2', 'RED', 'Male', 'A', 'ali', 'pabbi', 333, 2000, 345, 1000.0, 400.0, 300.0, 300.0, 300.0, 'Paid'), (3, 'arfa jani', '1', 'YELLOW', 'Female', 'D', 'maryam', 'PABBI', 335, 1000, 345, 1200.0, 200.0, 1000.0, 1000.0, 400.0, 'Unpaid'), (4, 'azam', '3', 'RED', 'Male', 'A', 'ali', 'pabbi', 345, 3000, 3331234567, 300.0, 0.0, 0.0, 0.0, 0.0, 'Paid'), (5, 'bacha', '5', 'RED', 'Male', 'A', 'tariq', 'pabbi', 123456789, 5000, 3331234567, 1000.0, 1000.0, 3000.0, 3000.0, 1000.0, 'Paid'), (6, 'ali khan', '1', 'RED', 'Male', 'A', 'tariq', 'pabbi', 1234567890, 1000, 3331234567, 1000.0, 500.0, 1000.0, 1000.0, 200.0, 'Paid'), (7, 'hamza', '4', 'RED', 'Male', 'A', 'tatiq', 'pabbi', 12121212, 2000, 3331234567, 1000.0, 2000.0, 2000.0, 1000.0, 1000.0, 'Paid'), (8, 'maryam', '3', 'BLUE', 'Female', 'B', 'tariq', 'pabbi', 3331234567, 1000, 3331234567, 0.0, 0.0, 0.0, 0.0, 0.0, 'Unpaid'), (9, 'alyar Tariq', '1', 'BLUE', 'Male', 'B', 'tariq', 'usman abad', 3339139164, 1000, 3331234567, 500.0, 300.0, 200.0, 1000.0, 200.0, 'Unpaid'), (10, 'nimra', '3', 'GREEN', 'Female', 'C', 'maryam', 'pabbi', 331, 2000, 3331234567, 200.0, 0.0, 200.0, 1000.0, 200.0, 'Unpaid')]\n"
     ]
    }
   ],
   "source": [
    "rows= cur.fetchall()\n",
    "print(rows)"
   ]
  },
  {
   "cell_type": "code",
   "execution_count": 363,
   "metadata": {},
   "outputs": [
    {
     "name": "stdout",
     "output_type": "stream",
     "text": [
      "(1, 'alyar', '2', 'RED', 'Male', 'A', 'ali', 'pabbi', 333, 2000, 345, 1000.0, 400.0, 300.0, 300.0, 300.0, 'Paid')\n",
      "(3, 'arfa jani', '1', 'YELLOW', 'Female', 'D', 'maryam', 'PABBI', 335, 1000, 345, 1200.0, 200.0, 1000.0, 1000.0, 400.0, 'Unpaid')\n",
      "(4, 'azam', '3', 'RED', 'Male', 'A', 'ali', 'pabbi', 345, 3000, 3331234567, 300.0, 0.0, 0.0, 0.0, 0.0, 'Paid')\n",
      "(5, 'bacha', '5', 'RED', 'Male', 'A', 'tariq', 'pabbi', 123456789, 5000, 3331234567, 1000.0, 1000.0, 3000.0, 3000.0, 1000.0, 'Paid')\n",
      "(6, 'ali khan', '1', 'RED', 'Male', 'A', 'tariq', 'pabbi', 1234567890, 1000, 3331234567, 1000.0, 500.0, 1000.0, 1000.0, 200.0, 'Paid')\n",
      "(7, 'hamza', '4', 'RED', 'Male', 'A', 'tatiq', 'pabbi', 12121212, 2000, 3331234567, 1000.0, 2000.0, 2000.0, 1000.0, 1000.0, 'Paid')\n",
      "(8, 'maryam', '3', 'BLUE', 'Female', 'B', 'tariq', 'pabbi', 3331234567, 1000, 3331234567, 0.0, 0.0, 0.0, 0.0, 0.0, 'Unpaid')\n",
      "(9, 'alyar Tariq', '1', 'BLUE', 'Male', 'B', 'tariq', 'usman abad', 3339139164, 1000, 3331234567, 500.0, 300.0, 200.0, 1000.0, 200.0, 'Unpaid')\n",
      "(10, 'nimra', '3', 'GREEN', 'Female', 'C', 'maryam', 'pabbi', 331, 2000, 3331234567, 200.0, 0.0, 200.0, 1000.0, 200.0, 'Unpaid')\n"
     ]
    }
   ],
   "source": [
    "for row in cur.execute('SELECT * FROM student'):\n",
    "    print(row)"
   ]
  },
  {
   "cell_type": "code",
   "execution_count": 9,
   "metadata": {},
   "outputs": [
    {
     "name": "stdout",
     "output_type": "stream",
     "text": [
      "(1, 'alyar', '2', 'RED', 'Male', 'A', 'ali', 'pabbi', 333, 2000, 345, 1000.0, 400.0, 300.0, 300.0, 300.0, 'Paid')\n",
      "(3, 'arfa jani', '1', 'YELLOW', 'Female', 'D', 'maryam', 'PABBI', 335, 1000, 345, 1200.0, 200.0, 1000.0, 1000.0, 400.0, 'Unpaid')\n",
      "(4, 'azam', '3', 'RED', 'Male', 'A', 'ali', 'pabbi', 345, 3000, 3331234567, 300.0, 0.0, 0.0, 0.0, 0.0, 'Paid')\n"
     ]
    }
   ],
   "source": [
    "for row in cur.execute('SELECT * FROM student limit 3'):\n",
    "    print(row)"
   ]
  },
  {
   "cell_type": "markdown",
   "metadata": {},
   "source": [
    "# pandas with Sqlite"
   ]
  },
  {
   "cell_type": "code",
   "execution_count": 10,
   "metadata": {},
   "outputs": [],
   "source": [
    "import pandas as pd"
   ]
  },
  {
   "cell_type": "code",
   "execution_count": 293,
   "metadata": {},
   "outputs": [
    {
     "data": {
      "text/html": [
       "<div>\n",
       "<style scoped>\n",
       "    .dataframe tbody tr th:only-of-type {\n",
       "        vertical-align: middle;\n",
       "    }\n",
       "\n",
       "    .dataframe tbody tr th {\n",
       "        vertical-align: top;\n",
       "    }\n",
       "\n",
       "    .dataframe thead th {\n",
       "        text-align: right;\n",
       "    }\n",
       "</style>\n",
       "<table border=\"1\" class=\"dataframe\">\n",
       "  <thead>\n",
       "    <tr style=\"text-align: right;\">\n",
       "      <th></th>\n",
       "      <th>sql</th>\n",
       "    </tr>\n",
       "  </thead>\n",
       "  <tbody>\n",
       "    <tr>\n",
       "      <th>0</th>\n",
       "      <td>CREATE TABLE student (\\n            id INTEGER...</td>\n",
       "    </tr>\n",
       "    <tr>\n",
       "      <th>1</th>\n",
       "      <td>CREATE TABLE sqlite_sequence(name,seq)</td>\n",
       "    </tr>\n",
       "    <tr>\n",
       "      <th>2</th>\n",
       "      <td>CREATE TABLE teacher (\\n            id INTEGER...</td>\n",
       "    </tr>\n",
       "    <tr>\n",
       "      <th>3</th>\n",
       "      <td>CREATE TABLE staff (\\n            id INTEGER P...</td>\n",
       "    </tr>\n",
       "    <tr>\n",
       "      <th>4</th>\n",
       "      <td>CREATE TABLE finance \\n        \\n            (...</td>\n",
       "    </tr>\n",
       "    <tr>\n",
       "      <th>5</th>\n",
       "      <td>CREATE TABLE person(\\n                  id INT...</td>\n",
       "    </tr>\n",
       "    <tr>\n",
       "      <th>6</th>\n",
       "      <td>CREATE TABLE dimdate (\\n    DateKey           ...</td>\n",
       "    </tr>\n",
       "    <tr>\n",
       "      <th>7</th>\n",
       "      <td>CREATE TABLE \"factinternetsales\" (\\n\"ProductKe...</td>\n",
       "    </tr>\n",
       "    <tr>\n",
       "      <th>8</th>\n",
       "      <td>CREATE TABLE \"dimasale\" (\\n\"index\" INTEGER,\\n ...</td>\n",
       "    </tr>\n",
       "    <tr>\n",
       "      <th>9</th>\n",
       "      <td>CREATE INDEX \"ix_dimasale_index\"ON \"dimasale\" ...</td>\n",
       "    </tr>\n",
       "    <tr>\n",
       "      <th>10</th>\n",
       "      <td>CREATE UNIQUE INDEX idx_salesterritorykey on d...</td>\n",
       "    </tr>\n",
       "    <tr>\n",
       "      <th>11</th>\n",
       "      <td>CREATE TABLE \"dimgeography\" (\\n\"index\" INTEGER...</td>\n",
       "    </tr>\n",
       "    <tr>\n",
       "      <th>12</th>\n",
       "      <td>CREATE INDEX \"ix_dimgeography_index\"ON \"dimgeo...</td>\n",
       "    </tr>\n",
       "    <tr>\n",
       "      <th>13</th>\n",
       "      <td>CREATE TABLE dimproduct (\\n    ProductKey     ...</td>\n",
       "    </tr>\n",
       "    <tr>\n",
       "      <th>14</th>\n",
       "      <td>CREATE TABLE \"product\" (\\n\"index\" INTEGER,\\n  ...</td>\n",
       "    </tr>\n",
       "    <tr>\n",
       "      <th>15</th>\n",
       "      <td>CREATE INDEX \"ix_product_index\"ON \"product\" (\"...</td>\n",
       "    </tr>\n",
       "  </tbody>\n",
       "</table>\n",
       "</div>"
      ],
      "text/plain": [
       "                                                  sql\n",
       "0   CREATE TABLE student (\\n            id INTEGER...\n",
       "1              CREATE TABLE sqlite_sequence(name,seq)\n",
       "2   CREATE TABLE teacher (\\n            id INTEGER...\n",
       "3   CREATE TABLE staff (\\n            id INTEGER P...\n",
       "4   CREATE TABLE finance \\n        \\n            (...\n",
       "5   CREATE TABLE person(\\n                  id INT...\n",
       "6   CREATE TABLE dimdate (\\n    DateKey           ...\n",
       "7   CREATE TABLE \"factinternetsales\" (\\n\"ProductKe...\n",
       "8   CREATE TABLE \"dimasale\" (\\n\"index\" INTEGER,\\n ...\n",
       "9   CREATE INDEX \"ix_dimasale_index\"ON \"dimasale\" ...\n",
       "10  CREATE UNIQUE INDEX idx_salesterritorykey on d...\n",
       "11  CREATE TABLE \"dimgeography\" (\\n\"index\" INTEGER...\n",
       "12  CREATE INDEX \"ix_dimgeography_index\"ON \"dimgeo...\n",
       "13  CREATE TABLE dimproduct (\\n    ProductKey     ...\n",
       "14  CREATE TABLE \"product\" (\\n\"index\" INTEGER,\\n  ...\n",
       "15  CREATE INDEX \"ix_product_index\"ON \"product\" (\"..."
      ]
     },
     "execution_count": 293,
     "metadata": {},
     "output_type": "execute_result"
    }
   ],
   "source": [
    "# convert query results to a dataframe\n",
    "pd.read_sql_query(\"SELECT sql FROM sqlite_master \", conn)"
   ]
  },
  {
   "cell_type": "code",
   "execution_count": 20,
   "metadata": {},
   "outputs": [],
   "source": [
    "df =pd.DataFrame(rows , columns=[column[0] for column in cur.description] )\n",
    "df.to_csv('output.csv' )"
   ]
  },
  {
   "cell_type": "code",
   "execution_count": 17,
   "metadata": {},
   "outputs": [
    {
     "data": {
      "text/html": [
       "<div>\n",
       "<style scoped>\n",
       "    .dataframe tbody tr th:only-of-type {\n",
       "        vertical-align: middle;\n",
       "    }\n",
       "\n",
       "    .dataframe tbody tr th {\n",
       "        vertical-align: top;\n",
       "    }\n",
       "\n",
       "    .dataframe thead th {\n",
       "        text-align: right;\n",
       "    }\n",
       "</style>\n",
       "<table border=\"1\" class=\"dataframe\">\n",
       "  <thead>\n",
       "    <tr style=\"text-align: right;\">\n",
       "      <th></th>\n",
       "      <th>id</th>\n",
       "      <th>name</th>\n",
       "      <th>class_</th>\n",
       "      <th>section</th>\n",
       "      <th>gender</th>\n",
       "      <th>grade</th>\n",
       "      <th>teacher_name</th>\n",
       "      <th>address</th>\n",
       "      <th>contact</th>\n",
       "      <th>fee</th>\n",
       "      <th>driver_contact</th>\n",
       "      <th>transport_fee</th>\n",
       "      <th>uniform_dues</th>\n",
       "      <th>books_dues</th>\n",
       "      <th>admission_fee</th>\n",
       "      <th>paper_money</th>\n",
       "      <th>fee_status</th>\n",
       "    </tr>\n",
       "  </thead>\n",
       "  <tbody>\n",
       "    <tr>\n",
       "      <th>0</th>\n",
       "      <td>1</td>\n",
       "      <td>alyar</td>\n",
       "      <td>2</td>\n",
       "      <td>RED</td>\n",
       "      <td>Male</td>\n",
       "      <td>A</td>\n",
       "      <td>ali</td>\n",
       "      <td>pabbi</td>\n",
       "      <td>333</td>\n",
       "      <td>2000</td>\n",
       "      <td>345</td>\n",
       "      <td>1000.0</td>\n",
       "      <td>400.0</td>\n",
       "      <td>300.0</td>\n",
       "      <td>300.0</td>\n",
       "      <td>300.0</td>\n",
       "      <td>Paid</td>\n",
       "    </tr>\n",
       "    <tr>\n",
       "      <th>1</th>\n",
       "      <td>3</td>\n",
       "      <td>arfa jani</td>\n",
       "      <td>1</td>\n",
       "      <td>YELLOW</td>\n",
       "      <td>Female</td>\n",
       "      <td>D</td>\n",
       "      <td>maryam</td>\n",
       "      <td>PABBI</td>\n",
       "      <td>335</td>\n",
       "      <td>1000</td>\n",
       "      <td>345</td>\n",
       "      <td>1200.0</td>\n",
       "      <td>200.0</td>\n",
       "      <td>1000.0</td>\n",
       "      <td>1000.0</td>\n",
       "      <td>400.0</td>\n",
       "      <td>Unpaid</td>\n",
       "    </tr>\n",
       "    <tr>\n",
       "      <th>2</th>\n",
       "      <td>4</td>\n",
       "      <td>azam</td>\n",
       "      <td>3</td>\n",
       "      <td>RED</td>\n",
       "      <td>Male</td>\n",
       "      <td>A</td>\n",
       "      <td>ali</td>\n",
       "      <td>pabbi</td>\n",
       "      <td>345</td>\n",
       "      <td>3000</td>\n",
       "      <td>3331234567</td>\n",
       "      <td>300.0</td>\n",
       "      <td>0.0</td>\n",
       "      <td>0.0</td>\n",
       "      <td>0.0</td>\n",
       "      <td>0.0</td>\n",
       "      <td>Paid</td>\n",
       "    </tr>\n",
       "  </tbody>\n",
       "</table>\n",
       "</div>"
      ],
      "text/plain": [
       "   id       name class_ section  gender grade teacher_name address  contact  \\\n",
       "0   1      alyar      2     RED    Male     A          ali   pabbi      333   \n",
       "1   3  arfa jani      1  YELLOW  Female     D       maryam   PABBI      335   \n",
       "2   4       azam      3     RED    Male     A          ali   pabbi      345   \n",
       "\n",
       "    fee  driver_contact  transport_fee  uniform_dues  books_dues  \\\n",
       "0  2000             345         1000.0         400.0       300.0   \n",
       "1  1000             345         1200.0         200.0      1000.0   \n",
       "2  3000      3331234567          300.0           0.0         0.0   \n",
       "\n",
       "   admission_fee  paper_money fee_status  \n",
       "0          300.0        300.0       Paid  \n",
       "1         1000.0        400.0     Unpaid  \n",
       "2            0.0          0.0       Paid  "
      ]
     },
     "execution_count": 17,
     "metadata": {},
     "output_type": "execute_result"
    }
   ],
   "source": [
    "pd.read_sql_query('SELECT * FROM student limit 3' , conn)"
   ]
  },
  {
   "cell_type": "code",
   "execution_count": 10,
   "metadata": {},
   "outputs": [
    {
     "data": {
      "text/html": [
       "<div>\n",
       "<style scoped>\n",
       "    .dataframe tbody tr th:only-of-type {\n",
       "        vertical-align: middle;\n",
       "    }\n",
       "\n",
       "    .dataframe tbody tr th {\n",
       "        vertical-align: top;\n",
       "    }\n",
       "\n",
       "    .dataframe thead th {\n",
       "        text-align: right;\n",
       "    }\n",
       "</style>\n",
       "<table border=\"1\" class=\"dataframe\">\n",
       "  <thead>\n",
       "    <tr style=\"text-align: right;\">\n",
       "      <th></th>\n",
       "      <th>id</th>\n",
       "      <th>name</th>\n",
       "      <th>class_</th>\n",
       "      <th>section</th>\n",
       "      <th>gender</th>\n",
       "      <th>grade</th>\n",
       "      <th>teacher_name</th>\n",
       "      <th>address</th>\n",
       "      <th>contact</th>\n",
       "      <th>fee</th>\n",
       "      <th>driver_contact</th>\n",
       "      <th>transport_fee</th>\n",
       "      <th>uniform_dues</th>\n",
       "      <th>books_dues</th>\n",
       "      <th>admission_fee</th>\n",
       "      <th>paper_money</th>\n",
       "      <th>fee_status</th>\n",
       "    </tr>\n",
       "  </thead>\n",
       "  <tbody>\n",
       "    <tr>\n",
       "      <th>0</th>\n",
       "      <td>1</td>\n",
       "      <td>alyar</td>\n",
       "      <td>2</td>\n",
       "      <td>RED</td>\n",
       "      <td>Male</td>\n",
       "      <td>A</td>\n",
       "      <td>ali</td>\n",
       "      <td>pabbi</td>\n",
       "      <td>333</td>\n",
       "      <td>2000</td>\n",
       "      <td>345</td>\n",
       "      <td>1000.0</td>\n",
       "      <td>400.0</td>\n",
       "      <td>300.0</td>\n",
       "      <td>300.0</td>\n",
       "      <td>300.0</td>\n",
       "      <td>Paid</td>\n",
       "    </tr>\n",
       "  </tbody>\n",
       "</table>\n",
       "</div>"
      ],
      "text/plain": [
       "   id   name class_ section gender grade teacher_name address  contact   fee  \\\n",
       "0   1  alyar      2     RED   Male     A          ali   pabbi      333  2000   \n",
       "\n",
       "   driver_contact  transport_fee  uniform_dues  books_dues  admission_fee  \\\n",
       "0             345         1000.0         400.0       300.0          300.0   \n",
       "\n",
       "   paper_money fee_status  \n",
       "0        300.0       Paid  "
      ]
     },
     "execution_count": 10,
     "metadata": {},
     "output_type": "execute_result"
    }
   ],
   "source": [
    "pd.read_sql_query(\"SELECT * FROM student where name ='alyar' \" , conn)"
   ]
  },
  {
   "cell_type": "code",
   "execution_count": 11,
   "metadata": {},
   "outputs": [
    {
     "data": {
      "text/html": [
       "<div>\n",
       "<style scoped>\n",
       "    .dataframe tbody tr th:only-of-type {\n",
       "        vertical-align: middle;\n",
       "    }\n",
       "\n",
       "    .dataframe tbody tr th {\n",
       "        vertical-align: top;\n",
       "    }\n",
       "\n",
       "    .dataframe thead th {\n",
       "        text-align: right;\n",
       "    }\n",
       "</style>\n",
       "<table border=\"1\" class=\"dataframe\">\n",
       "  <thead>\n",
       "    <tr style=\"text-align: right;\">\n",
       "      <th></th>\n",
       "      <th>name</th>\n",
       "      <th>section</th>\n",
       "      <th>gender</th>\n",
       "      <th>teacher_name</th>\n",
       "      <th>address</th>\n",
       "    </tr>\n",
       "  </thead>\n",
       "  <tbody>\n",
       "    <tr>\n",
       "      <th>0</th>\n",
       "      <td>alyar</td>\n",
       "      <td>RED</td>\n",
       "      <td>Male</td>\n",
       "      <td>ali</td>\n",
       "      <td>pabbi</td>\n",
       "    </tr>\n",
       "  </tbody>\n",
       "</table>\n",
       "</div>"
      ],
      "text/plain": [
       "    name section gender teacher_name address\n",
       "0  alyar     RED   Male          ali   pabbi"
      ]
     },
     "execution_count": 11,
     "metadata": {},
     "output_type": "execute_result"
    }
   ],
   "source": [
    "pd.read_sql_query(\"SELECT name , section , gender , teacher_name , address FROM student where name ='alyar' \" , conn)"
   ]
  },
  {
   "cell_type": "markdown",
   "metadata": {},
   "source": [
    "# Pandasql"
   ]
  },
  {
   "cell_type": "code",
   "execution_count": 36,
   "metadata": {},
   "outputs": [],
   "source": [
    "from pandasql import sqldf\n",
    "\n",
    "# def pysqldf(q):\n",
    "#     \"\"\"this function eliminates the need to include locals/globals all the time\"\"\"\n",
    "#     return sqldf('q', globals())"
   ]
  },
  {
   "cell_type": "code",
   "execution_count": 89,
   "metadata": {},
   "outputs": [],
   "source": [
    "data = pd.read_csv('Data/DimDate.csv')\n",
    "date = data[data['DateKey'] > 20111231]"
   ]
  },
  {
   "cell_type": "code",
   "execution_count": 62,
   "metadata": {},
   "outputs": [],
   "source": [
    "def psqldf(query):\n",
    "    return sqldf(query , globals())"
   ]
  },
  {
   "cell_type": "code",
   "execution_count": 63,
   "metadata": {},
   "outputs": [
    {
     "data": {
      "text/html": [
       "<div>\n",
       "<style scoped>\n",
       "    .dataframe tbody tr th:only-of-type {\n",
       "        vertical-align: middle;\n",
       "    }\n",
       "\n",
       "    .dataframe tbody tr th {\n",
       "        vertical-align: top;\n",
       "    }\n",
       "\n",
       "    .dataframe thead th {\n",
       "        text-align: right;\n",
       "    }\n",
       "</style>\n",
       "<table border=\"1\" class=\"dataframe\">\n",
       "  <thead>\n",
       "    <tr style=\"text-align: right;\">\n",
       "      <th></th>\n",
       "      <th>DateKey</th>\n",
       "      <th>FullDateAlternateKey</th>\n",
       "      <th>DayNumberOfWeek</th>\n",
       "      <th>EnglishDayNameOfWeek</th>\n",
       "      <th>SpanishDayNameOfWeek</th>\n",
       "      <th>FrenchDayNameOfWeek</th>\n",
       "      <th>DayNumberOfMonth</th>\n",
       "      <th>DayNumberOfYear</th>\n",
       "      <th>WeekNumberOfYear</th>\n",
       "      <th>EnglishMonthName</th>\n",
       "      <th>SpanishMonthName</th>\n",
       "      <th>FrenchMonthName</th>\n",
       "      <th>MonthNumberOfYear</th>\n",
       "      <th>CalendarQuarter</th>\n",
       "      <th>CalendarYear</th>\n",
       "      <th>CalendarSemester</th>\n",
       "      <th>FiscalQuarter</th>\n",
       "      <th>FiscalYear</th>\n",
       "      <th>FiscalSemester</th>\n",
       "    </tr>\n",
       "  </thead>\n",
       "  <tbody>\n",
       "    <tr>\n",
       "      <th>0</th>\n",
       "      <td>20120101</td>\n",
       "      <td>2012-01-01</td>\n",
       "      <td>1</td>\n",
       "      <td>Sunday</td>\n",
       "      <td>Domingo</td>\n",
       "      <td>Dimanche</td>\n",
       "      <td>1</td>\n",
       "      <td>1</td>\n",
       "      <td>1</td>\n",
       "      <td>January</td>\n",
       "      <td>Enero</td>\n",
       "      <td>Janvier</td>\n",
       "      <td>1</td>\n",
       "      <td>1</td>\n",
       "      <td>2012</td>\n",
       "      <td>1</td>\n",
       "      <td>3</td>\n",
       "      <td>2011</td>\n",
       "      <td>2</td>\n",
       "    </tr>\n",
       "    <tr>\n",
       "      <th>1</th>\n",
       "      <td>20120102</td>\n",
       "      <td>2012-01-02</td>\n",
       "      <td>2</td>\n",
       "      <td>Monday</td>\n",
       "      <td>Lunes</td>\n",
       "      <td>Lundi</td>\n",
       "      <td>2</td>\n",
       "      <td>2</td>\n",
       "      <td>1</td>\n",
       "      <td>January</td>\n",
       "      <td>Enero</td>\n",
       "      <td>Janvier</td>\n",
       "      <td>1</td>\n",
       "      <td>1</td>\n",
       "      <td>2012</td>\n",
       "      <td>1</td>\n",
       "      <td>3</td>\n",
       "      <td>2011</td>\n",
       "      <td>2</td>\n",
       "    </tr>\n",
       "    <tr>\n",
       "      <th>2</th>\n",
       "      <td>20120103</td>\n",
       "      <td>2012-01-03</td>\n",
       "      <td>3</td>\n",
       "      <td>Tuesday</td>\n",
       "      <td>Martes</td>\n",
       "      <td>Mardi</td>\n",
       "      <td>3</td>\n",
       "      <td>3</td>\n",
       "      <td>1</td>\n",
       "      <td>January</td>\n",
       "      <td>Enero</td>\n",
       "      <td>Janvier</td>\n",
       "      <td>1</td>\n",
       "      <td>1</td>\n",
       "      <td>2012</td>\n",
       "      <td>1</td>\n",
       "      <td>3</td>\n",
       "      <td>2011</td>\n",
       "      <td>2</td>\n",
       "    </tr>\n",
       "  </tbody>\n",
       "</table>\n",
       "</div>"
      ],
      "text/plain": [
       "    DateKey FullDateAlternateKey  DayNumberOfWeek EnglishDayNameOfWeek  \\\n",
       "0  20120101           2012-01-01                1               Sunday   \n",
       "1  20120102           2012-01-02                2               Monday   \n",
       "2  20120103           2012-01-03                3              Tuesday   \n",
       "\n",
       "  SpanishDayNameOfWeek FrenchDayNameOfWeek  DayNumberOfMonth  DayNumberOfYear  \\\n",
       "0              Domingo            Dimanche                 1                1   \n",
       "1                Lunes               Lundi                 2                2   \n",
       "2               Martes               Mardi                 3                3   \n",
       "\n",
       "   WeekNumberOfYear EnglishMonthName SpanishMonthName FrenchMonthName  \\\n",
       "0                 1          January            Enero         Janvier   \n",
       "1                 1          January            Enero         Janvier   \n",
       "2                 1          January            Enero         Janvier   \n",
       "\n",
       "   MonthNumberOfYear  CalendarQuarter  CalendarYear  CalendarSemester  \\\n",
       "0                  1                1          2012                 1   \n",
       "1                  1                1          2012                 1   \n",
       "2                  1                1          2012                 1   \n",
       "\n",
       "   FiscalQuarter  FiscalYear  FiscalSemester  \n",
       "0              3        2011               2  \n",
       "1              3        2011               2  \n",
       "2              3        2011               2  "
      ]
     },
     "execution_count": 63,
     "metadata": {},
     "output_type": "execute_result"
    }
   ],
   "source": [
    "psqldf('''select * from date limit 3''')"
   ]
  },
  {
   "cell_type": "markdown",
   "metadata": {},
   "source": [
    "these are the table in sqlite databases\n",
    "\n",
    "* databases name -> school\n",
    "* table name -> dimate"
   ]
  },
  {
   "cell_type": "code",
   "execution_count": 131,
   "metadata": {},
   "outputs": [],
   "source": [
    "dimdate = '''\n",
    "DROP TABLE IF EXISTS dimdate;\n",
    "\n",
    "CREATE TABLE dimdate (\n",
    "    DateKey                INTEGER NOT NULL PRIMARY KEY,\n",
    "    DateValue              DATE    NOT NULL,\n",
    "    DayNumberOfWeek        INTEGER NOT NULL,\n",
    "    DayNameOfWeek          TEXT    NOT NULL,\n",
    "    DayNumberOfMonth       INTEGER NOT NULL,\n",
    "    DayNumberOfYear        INTEGER NOT NULL,\n",
    "    WeekNumberOfYear       INTEGER NOT NULL,\n",
    "    MonthName              TEXT NOT NULL,\n",
    "    MonthNumberOfYear      INTEGER NOT NULL,\n",
    "    CalendarQuarter        INTEGER NOT NULL,\n",
    "    CalendarYear           INTEGER NOT NULL,\n",
    "    FiscalQuarter          INTEGER NOT NULL,\n",
    "    FiscalYear             INTEGER NOT NULL \n",
    ");\n",
    "''' "
   ]
  },
  {
   "cell_type": "markdown",
   "metadata": {},
   "source": [
    "create table in dimdate in schoool sqlite database "
   ]
  },
  {
   "cell_type": "code",
   "execution_count": 132,
   "metadata": {},
   "outputs": [
    {
     "data": {
      "text/plain": [
       "<sqlite3.Cursor at 0x288372d4ac0>"
      ]
     },
     "execution_count": 132,
     "metadata": {},
     "output_type": "execute_result"
    }
   ],
   "source": [
    "cur.executescript(dimdate)"
   ]
  },
  {
   "cell_type": "markdown",
   "metadata": {},
   "source": [
    "fetch the data in csv file "
   ]
  },
  {
   "cell_type": "code",
   "execution_count": 133,
   "metadata": {},
   "outputs": [
    {
     "data": {
      "text/plain": [
       "3652"
      ]
     },
     "execution_count": 133,
     "metadata": {},
     "output_type": "execute_result"
    }
   ],
   "source": [
    "psqldf(''' \n",
    "select  DateKey           \n",
    "       ,FullDateAlternateKey as DateValue         \n",
    "       ,DayNumberOfWeek   \n",
    "       ,EnglishDayNameOfWeek as DayNameOfWeek     \n",
    "       ,DayNumberOfMonth   \n",
    "       ,DayNumberOfYear   \n",
    "       ,WeekNumberOfYear  \n",
    "       ,EnglishMonthName as MonthName         \n",
    "       ,MonthNumberOfYear \n",
    "       ,CalendarQuarter   \n",
    "       ,CalendarYear      \n",
    "       ,FiscalQuarter     \n",
    "       ,FiscalYear   \n",
    "from data;\n",
    "''').to_sql('dimdate', conn, index=False, if_exists='append')\n",
    "# data is csv file object \n",
    "# data.to_sql('table_name  of creating  in school databaes', conn , if_exits='relace'"
   ]
  },
  {
   "cell_type": "markdown",
   "metadata": {},
   "source": [
    "pndas load the csv file in sqlite database  without creating table in database\n",
    "<br>\n",
    "it directly created in a table in school  databases"
   ]
  },
  {
   "cell_type": "code",
   "execution_count": 93,
   "metadata": {},
   "outputs": [],
   "source": [
    "# data.to_sql('dimate', conn, if_exists='replace', index=False)"
   ]
  },
  {
   "cell_type": "markdown",
   "metadata": {},
   "source": [
    "fetch the all row in dimate table "
   ]
  },
  {
   "cell_type": "code",
   "execution_count": 134,
   "metadata": {},
   "outputs": [
    {
     "data": {
      "text/plain": [
       "[(3652,)]"
      ]
     },
     "execution_count": 134,
     "metadata": {},
     "output_type": "execute_result"
    }
   ],
   "source": [
    "cur.execute('select  count(DateKey)  from dimdate').fetchall()"
   ]
  },
  {
   "cell_type": "markdown",
   "metadata": {},
   "source": [
    "display the dimate table in sqlite database"
   ]
  },
  {
   "cell_type": "code",
   "execution_count": 135,
   "metadata": {},
   "outputs": [],
   "source": [
    "# for row in cur.execute('select * from dimdate'):\n",
    "#     print(row)"
   ]
  },
  {
   "cell_type": "markdown",
   "metadata": {},
   "source": [
    "## Do Not Use AutoIncrement Keyword\n",
    "https://sqlite.org/autoinc.html"
   ]
  },
  {
   "cell_type": "code",
   "execution_count": 136,
   "metadata": {},
   "outputs": [],
   "source": [
    "factinternetsales = '''\n",
    "\n",
    "DROP TABLE IF EXISTS factinternetsales;\n",
    "\n",
    "CREATE TABLE factinternetsales(\n",
    "    ID                   INTEGER    NOT NULL PRIMARY KEY,\n",
    "    ProductKey            int      NOT NULL ,\n",
    "    OrderDateKey           int      NOT NULL,\n",
    "    DueDateKey             int      NOT NULL,\n",
    "    ShipDateKey            int      NOT NULL,\n",
    "    CustomerKey            int      NOT NULL,\n",
    "    PromotionKey           int      NOT NULL,\n",
    "    CurrencyKey            int      NOT NULL,\n",
    "    SalesTerritoryKey      int      NOT NULL,\n",
    "    OrderQuantity          smallint NOT NULL,\n",
    "    UnitPrice              money    NOT NULL,\n",
    "    UnitPriceDiscountPct   float    NOT NULL,\n",
    "    DiscountAmount         float    NOT NULL,\n",
    "    ProductStandardCost    money    NOT NULL,\n",
    "    TotalProductCost       money    NOT NULL,\n",
    "    SalesAmount            money    NOT NULL  CHECK (SalesAmount >= 0 ),\n",
    "    TaxAmt                 money    NOT NULL,\n",
    "    Freight                money    NOT NULL,\n",
    "    OrderDate              datetime  NULL,\n",
    "    DueDate                datetime  NULL,\n",
    "    ShipDate               datetime  NULL,\n",
    "    TaxRate                real     NULL  DEFAULT 0, \n",
    "    ProfitMargin           real     NULL,\n",
    "    InsertDate             TIMESTAMP NOT NULL DEFAULT CURRENT_TIMESTAMP,\n",
    "    FOREIGN KEY(ProductKey)        REFERENCES dimproduct(ProductKey),\n",
    "    FOREIGN KEY(SalesTerritoryKey) REFERENCES dimsalesterritory(SalesTerritoryKey)\n",
    ");\n",
    "'''"
   ]
  },
  {
   "cell_type": "code",
   "execution_count": 137,
   "metadata": {},
   "outputs": [
    {
     "data": {
      "text/plain": [
       "<sqlite3.Cursor at 0x288372d4ac0>"
      ]
     },
     "execution_count": 137,
     "metadata": {},
     "output_type": "execute_result"
    }
   ],
   "source": [
    "cur.executescript(factinternetsales)"
   ]
  },
  {
   "cell_type": "code",
   "execution_count": 138,
   "metadata": {},
   "outputs": [],
   "source": [
    "sales = pd.read_csv('data/FactInternetSales2014.csv')"
   ]
  },
  {
   "cell_type": "code",
   "execution_count": 124,
   "metadata": {},
   "outputs": [],
   "source": [
    "# it's directly  excecute in the factinternetsales table\n",
    "# sales.to_sql('factinternetsales' , conn , if_exists='append')"
   ]
  },
  {
   "cell_type": "code",
   "execution_count": 141,
   "metadata": {},
   "outputs": [
    {
     "data": {
      "text/plain": [
       "1970"
      ]
     },
     "execution_count": 141,
     "metadata": {},
     "output_type": "execute_result"
    }
   ],
   "source": [
    "psqldf( '''\n",
    "SELECT \n",
    "       ProductKey,\n",
    "       OrderDateKey,\n",
    "       DueDateKey,\n",
    "       ShipDateKey,\n",
    "       CustomerKey,\n",
    "       PromotionKey,\n",
    "       CurrencyKey,\n",
    "       SalesTerritoryKey,\n",
    "       OrderQuantity,\n",
    "       UnitPrice,\n",
    "       UnitPriceDiscountPct,\n",
    "       DiscountAmount,\n",
    "       ProductStandardCost,\n",
    "       TotalProductCost,\n",
    "       SalesAmount,\n",
    "       TaxAmt,\n",
    "       Freight,\n",
    "       OrderDate,\n",
    "       DueDate,\n",
    "       ShipDate,\n",
    "       round((TaxAmt/SalesAmount),2) as TaxRate,\n",
    "       round(((SalesAmount - TotalProductCost ) / SalesAmount), 2) as ProfitMargin\n",
    "  FROM sales  \n",
    "''').to_sql('factinternetsales', conn, index=False, if_exists='replace')"
   ]
  },
  {
   "cell_type": "markdown",
   "metadata": {},
   "source": [
    "#  salesterrritory"
   ]
  },
  {
   "cell_type": "code",
   "execution_count": 152,
   "metadata": {},
   "outputs": [],
   "source": [
    "dimasale = pd.read_csv('data/DimSalesTerritory.csv')"
   ]
  },
  {
   "cell_type": "code",
   "execution_count": 155,
   "metadata": {},
   "outputs": [
    {
     "data": {
      "text/plain": [
       "11"
      ]
     },
     "execution_count": 155,
     "metadata": {},
     "output_type": "execute_result"
    }
   ],
   "source": [
    "psqldf('''select SalesTerritoryKey, \n",
    "         SalesTerritoryRegion, \n",
    "         SalesTerritoryCountry, \n",
    "         SalesTerritoryGroup from dimasale;''').to_sql('dimasale' , conn , if_exists='append')"
   ]
  },
  {
   "cell_type": "markdown",
   "metadata": {},
   "source": [
    "# Create a unique index non the table."
   ]
  },
  {
   "cell_type": "code",
   "execution_count": 159,
   "metadata": {},
   "outputs": [
    {
     "data": {
      "text/plain": [
       "<sqlite3.Cursor at 0x288372d4ac0>"
      ]
     },
     "execution_count": 159,
     "metadata": {},
     "output_type": "execute_result"
    }
   ],
   "source": [
    "cur.executescript('''\n",
    "BEGIN TRANSACTION;\n",
    "create unique index if not exists idx_salesterritorykey on dimasale (SalesTerritoryKey);  \n",
    "commit;\n",
    " ''')"
   ]
  },
  {
   "cell_type": "code",
   "execution_count": 172,
   "metadata": {},
   "outputs": [],
   "source": [
    "geography = pd.read_csv('data/DimGeography.csv')"
   ]
  },
  {
   "cell_type": "code",
   "execution_count": 168,
   "metadata": {},
   "outputs": [],
   "source": [
    "create_geography = '''\n",
    "DROP TABLE IF EXISTS dimgeography;\n",
    "\n",
    "CREATE TABLE IF NOT EXISTS dimgeography (\n",
    "    GeographyKey                INTEGER PRIMARY KEY,\n",
    "    City                        TEXT,\n",
    "    StateProvinceCode           TEXT,\n",
    "    StateProvinceName           TEXT,\n",
    "    CountryRegionCode           TEXT,\n",
    "    CountryRegionName           TEXT,\n",
    "    PostalCode                  TEXT,\n",
    "    SalesTerritoryKey           INTEGER NOT NULL,  \n",
    "    InsertDate                  TIMESTAMP NOT NULL DEFAULT CURRENT_TIMESTAMP,\n",
    "    FOREIGN KEY (SalesTerritoryKey)\n",
    "       REFERENCES dimsalesterritory (SalesTerritoryKey) \n",
    ");\n",
    "'''"
   ]
  },
  {
   "cell_type": "code",
   "execution_count": 170,
   "metadata": {},
   "outputs": [
    {
     "data": {
      "text/plain": [
       "<sqlite3.Cursor at 0x288372d4ac0>"
      ]
     },
     "execution_count": 170,
     "metadata": {},
     "output_type": "execute_result"
    }
   ],
   "source": [
    "cur.executescript(create_geography)"
   ]
  },
  {
   "cell_type": "code",
   "execution_count": 187,
   "metadata": {},
   "outputs": [
    {
     "data": {
      "text/plain": [
       "655"
      ]
     },
     "execution_count": 187,
     "metadata": {},
     "output_type": "execute_result"
    }
   ],
   "source": [
    "# Store the results in our SQLite data warehouse\n",
    "psqldf('''\n",
    "       select  GeographyKey,\n",
    "        City,                        \n",
    "        StateProvinceCode,           \n",
    "        StateProvinceName,           \n",
    "        CountryRegionCode,           \n",
    "        EnglishCountryRegionName as CountryRegionName,           \n",
    "        PostalCode,                  \n",
    "        SalesTerritoryKey  \n",
    "from geography\n",
    "''').to_sql('dimgeography', conn , if_exists='replace')"
   ]
  },
  {
   "cell_type": "code",
   "execution_count": 325,
   "metadata": {},
   "outputs": [],
   "source": [
    "productsubcategory = pd.read_csv('data/DimProductSubCategory.csv')\n",
    "productcategory = pd.read_csv('./data/DimProductCategory.csv')\n",
    "dfproduct = pd.read_csv('data/DimProduct.csv')"
   ]
  },
  {
   "cell_type": "code",
   "execution_count": 199,
   "metadata": {},
   "outputs": [],
   "source": [
    "create_dimproduct = '''\n",
    "drop table if exists dimproduct;\n",
    "CREATE TABLE IF NOT EXISTS dimproduct (\n",
    "    ProductKey          INTEGER PRIMARY KEY,\n",
    "    Category            TEXT,\n",
    "    SubCategory         TEXT,\n",
    "    Product             TEXT,\n",
    "    Model               TEXT,\n",
    "    ListPrice           FLOAT,\n",
    "    InsertDate        TIMESTAMP NOT NULL DEFAULT CURRENT_TIMESTAMP\n",
    ");\n",
    "'''"
   ]
  },
  {
   "cell_type": "code",
   "execution_count": 200,
   "metadata": {},
   "outputs": [
    {
     "data": {
      "text/plain": [
       "<sqlite3.Cursor at 0x288372d4ac0>"
      ]
     },
     "execution_count": 200,
     "metadata": {},
     "output_type": "execute_result"
    }
   ],
   "source": [
    "cur.executescript(create_dimproduct)"
   ]
  },
  {
   "cell_type": "markdown",
   "metadata": {},
   "source": [
    "#### We use an inner join even though a product could have a null ProductSubcategoryKey."
   ]
  },
  {
   "cell_type": "code",
   "execution_count": 280,
   "metadata": {},
   "outputs": [],
   "source": [
    "sql = '''\n",
    "SELECT ProductKey,\n",
    "       EnglishProductCategoryName as Category,\n",
    "       sc.EnglishProductSubcategoryName as SubCategory,\n",
    "       p.EnglishProductName as Product,\n",
    "       p.ModelName as Model,\n",
    "       ifnull(round(p.ListPrice,2), 0) as ListPrice\n",
    "FROM dfproduct                       p\n",
    "INNER JOIN productsubcategory      sc\n",
    "  ON (p.ProductSubcategoryKey = sc.ProductSubcategoryKey)\n",
    "INNER JOIN productcategory         pc\n",
    "  ON (sc.ProductCategoryKey = pc.ProductCategoryKey)\n",
    "'''"
   ]
  },
  {
   "cell_type": "markdown",
   "metadata": {},
   "source": [
    "### store data in product  table  tothe selected column of above"
   ]
  },
  {
   "cell_type": "code",
   "execution_count": 298,
   "metadata": {},
   "outputs": [],
   "source": [
    "# Store the results in our SQLite data  on the databaes\n",
    "# if_exists options are replace, append, \n",
    "\n",
    "product_data =psqldf(sql)"
   ]
  },
  {
   "cell_type": "code",
   "execution_count": 299,
   "metadata": {},
   "outputs": [
    {
     "data": {
      "text/html": [
       "<div>\n",
       "<style scoped>\n",
       "    .dataframe tbody tr th:only-of-type {\n",
       "        vertical-align: middle;\n",
       "    }\n",
       "\n",
       "    .dataframe tbody tr th {\n",
       "        vertical-align: top;\n",
       "    }\n",
       "\n",
       "    .dataframe thead th {\n",
       "        text-align: right;\n",
       "    }\n",
       "</style>\n",
       "<table border=\"1\" class=\"dataframe\">\n",
       "  <thead>\n",
       "    <tr style=\"text-align: right;\">\n",
       "      <th></th>\n",
       "      <th>ProductKey</th>\n",
       "      <th>Category</th>\n",
       "      <th>SubCategory</th>\n",
       "      <th>Product</th>\n",
       "      <th>Model</th>\n",
       "      <th>ListPrice</th>\n",
       "    </tr>\n",
       "  </thead>\n",
       "  <tbody>\n",
       "    <tr>\n",
       "      <th>0</th>\n",
       "      <td>210</td>\n",
       "      <td>Components</td>\n",
       "      <td>Road Frames</td>\n",
       "      <td>HL Road Frame - Black, 58</td>\n",
       "      <td>HL Road Frame</td>\n",
       "      <td>0.00</td>\n",
       "    </tr>\n",
       "    <tr>\n",
       "      <th>1</th>\n",
       "      <td>211</td>\n",
       "      <td>Components</td>\n",
       "      <td>Road Frames</td>\n",
       "      <td>HL Road Frame - Red, 58</td>\n",
       "      <td>HL Road Frame</td>\n",
       "      <td>0.00</td>\n",
       "    </tr>\n",
       "    <tr>\n",
       "      <th>2</th>\n",
       "      <td>212</td>\n",
       "      <td>Accessories</td>\n",
       "      <td>Helmets</td>\n",
       "      <td>Sport-100 Helmet, Red</td>\n",
       "      <td>Sport-100</td>\n",
       "      <td>33.64</td>\n",
       "    </tr>\n",
       "    <tr>\n",
       "      <th>3</th>\n",
       "      <td>213</td>\n",
       "      <td>Accessories</td>\n",
       "      <td>Helmets</td>\n",
       "      <td>Sport-100 Helmet, Red</td>\n",
       "      <td>Sport-100</td>\n",
       "      <td>33.64</td>\n",
       "    </tr>\n",
       "    <tr>\n",
       "      <th>4</th>\n",
       "      <td>214</td>\n",
       "      <td>Accessories</td>\n",
       "      <td>Helmets</td>\n",
       "      <td>Sport-100 Helmet, Red</td>\n",
       "      <td>Sport-100</td>\n",
       "      <td>34.99</td>\n",
       "    </tr>\n",
       "  </tbody>\n",
       "</table>\n",
       "</div>"
      ],
      "text/plain": [
       "   ProductKey     Category  SubCategory                    Product  \\\n",
       "0         210   Components  Road Frames  HL Road Frame - Black, 58   \n",
       "1         211   Components  Road Frames    HL Road Frame - Red, 58   \n",
       "2         212  Accessories      Helmets      Sport-100 Helmet, Red   \n",
       "3         213  Accessories      Helmets      Sport-100 Helmet, Red   \n",
       "4         214  Accessories      Helmets      Sport-100 Helmet, Red   \n",
       "\n",
       "           Model  ListPrice  \n",
       "0  HL Road Frame       0.00  \n",
       "1  HL Road Frame       0.00  \n",
       "2      Sport-100      33.64  \n",
       "3      Sport-100      33.64  \n",
       "4      Sport-100      34.99  "
      ]
     },
     "execution_count": 299,
     "metadata": {},
     "output_type": "execute_result"
    }
   ],
   "source": [
    "product_data.head()"
   ]
  },
  {
   "cell_type": "code",
   "execution_count": 300,
   "metadata": {},
   "outputs": [
    {
     "data": {
      "text/plain": [
       "397"
      ]
     },
     "execution_count": 300,
     "metadata": {},
     "output_type": "execute_result"
    }
   ],
   "source": [
    "product_data.to_sql('product', conn , if_exists='append')"
   ]
  },
  {
   "cell_type": "code",
   "execution_count": 311,
   "metadata": {},
   "outputs": [
    {
     "data": {
      "text/html": [
       "<div>\n",
       "<style scoped>\n",
       "    .dataframe tbody tr th:only-of-type {\n",
       "        vertical-align: middle;\n",
       "    }\n",
       "\n",
       "    .dataframe tbody tr th {\n",
       "        vertical-align: top;\n",
       "    }\n",
       "\n",
       "    .dataframe thead th {\n",
       "        text-align: right;\n",
       "    }\n",
       "</style>\n",
       "<table border=\"1\" class=\"dataframe\">\n",
       "  <thead>\n",
       "    <tr style=\"text-align: right;\">\n",
       "      <th></th>\n",
       "      <th>cid</th>\n",
       "      <th>name</th>\n",
       "      <th>type</th>\n",
       "      <th>notnull</th>\n",
       "      <th>dflt_value</th>\n",
       "      <th>pk</th>\n",
       "    </tr>\n",
       "  </thead>\n",
       "  <tbody>\n",
       "    <tr>\n",
       "      <th>0</th>\n",
       "      <td>0</td>\n",
       "      <td>index</td>\n",
       "      <td>INTEGER</td>\n",
       "      <td>0</td>\n",
       "      <td>None</td>\n",
       "      <td>0</td>\n",
       "    </tr>\n",
       "    <tr>\n",
       "      <th>1</th>\n",
       "      <td>1</td>\n",
       "      <td>ProductKey</td>\n",
       "      <td>INTEGER</td>\n",
       "      <td>0</td>\n",
       "      <td>None</td>\n",
       "      <td>0</td>\n",
       "    </tr>\n",
       "    <tr>\n",
       "      <th>2</th>\n",
       "      <td>2</td>\n",
       "      <td>Category</td>\n",
       "      <td>TEXT</td>\n",
       "      <td>0</td>\n",
       "      <td>None</td>\n",
       "      <td>0</td>\n",
       "    </tr>\n",
       "    <tr>\n",
       "      <th>3</th>\n",
       "      <td>3</td>\n",
       "      <td>SubCategory</td>\n",
       "      <td>TEXT</td>\n",
       "      <td>0</td>\n",
       "      <td>None</td>\n",
       "      <td>0</td>\n",
       "    </tr>\n",
       "    <tr>\n",
       "      <th>4</th>\n",
       "      <td>4</td>\n",
       "      <td>Product</td>\n",
       "      <td>TEXT</td>\n",
       "      <td>0</td>\n",
       "      <td>None</td>\n",
       "      <td>0</td>\n",
       "    </tr>\n",
       "    <tr>\n",
       "      <th>5</th>\n",
       "      <td>5</td>\n",
       "      <td>Model</td>\n",
       "      <td>TEXT</td>\n",
       "      <td>0</td>\n",
       "      <td>None</td>\n",
       "      <td>0</td>\n",
       "    </tr>\n",
       "    <tr>\n",
       "      <th>6</th>\n",
       "      <td>6</td>\n",
       "      <td>ListPrice</td>\n",
       "      <td>REAL</td>\n",
       "      <td>0</td>\n",
       "      <td>None</td>\n",
       "      <td>0</td>\n",
       "    </tr>\n",
       "  </tbody>\n",
       "</table>\n",
       "</div>"
      ],
      "text/plain": [
       "   cid         name     type  notnull dflt_value  pk\n",
       "0    0        index  INTEGER        0       None   0\n",
       "1    1   ProductKey  INTEGER        0       None   0\n",
       "2    2     Category     TEXT        0       None   0\n",
       "3    3  SubCategory     TEXT        0       None   0\n",
       "4    4      Product     TEXT        0       None   0\n",
       "5    5        Model     TEXT        0       None   0\n",
       "6    6    ListPrice     REAL        0       None   0"
      ]
     },
     "execution_count": 311,
     "metadata": {},
     "output_type": "execute_result"
    }
   ],
   "source": [
    "# table schema\n",
    "pd.read_sql_query(\"\"\"PRAGMA table_info('product');\"\"\", conn)"
   ]
  },
  {
   "cell_type": "code",
   "execution_count": 336,
   "metadata": {},
   "outputs": [
    {
     "data": {
      "text/html": [
       "<div>\n",
       "<style scoped>\n",
       "    .dataframe tbody tr th:only-of-type {\n",
       "        vertical-align: middle;\n",
       "    }\n",
       "\n",
       "    .dataframe tbody tr th {\n",
       "        vertical-align: top;\n",
       "    }\n",
       "\n",
       "    .dataframe thead th {\n",
       "        text-align: right;\n",
       "    }\n",
       "</style>\n",
       "<table border=\"1\" class=\"dataframe\">\n",
       "  <thead>\n",
       "    <tr style=\"text-align: right;\">\n",
       "      <th></th>\n",
       "      <th>index</th>\n",
       "      <th>ProductKey</th>\n",
       "      <th>Category</th>\n",
       "      <th>SubCategory</th>\n",
       "      <th>Product</th>\n",
       "      <th>Model</th>\n",
       "      <th>ListPrice</th>\n",
       "    </tr>\n",
       "  </thead>\n",
       "  <tbody>\n",
       "    <tr>\n",
       "      <th>0</th>\n",
       "      <td>0</td>\n",
       "      <td>210</td>\n",
       "      <td>Components</td>\n",
       "      <td>Road Frames</td>\n",
       "      <td>HL Road Frame - Black, 58</td>\n",
       "      <td>HL Road Frame</td>\n",
       "      <td>0.0</td>\n",
       "    </tr>\n",
       "  </tbody>\n",
       "</table>\n",
       "</div>"
      ],
      "text/plain": [
       "   index  ProductKey    Category  SubCategory                    Product  \\\n",
       "0      0         210  Components  Road Frames  HL Road Frame - Black, 58   \n",
       "\n",
       "           Model  ListPrice  \n",
       "0  HL Road Frame        0.0  "
      ]
     },
     "execution_count": 336,
     "metadata": {},
     "output_type": "execute_result"
    }
   ],
   "source": [
    "pd.read_sql_query(\"SELECT * FROM product limit 1 \", conn)"
   ]
  },
  {
   "cell_type": "code",
   "execution_count": 347,
   "metadata": {},
   "outputs": [
    {
     "data": {
      "text/html": [
       "<div>\n",
       "<style scoped>\n",
       "    .dataframe tbody tr th:only-of-type {\n",
       "        vertical-align: middle;\n",
       "    }\n",
       "\n",
       "    .dataframe tbody tr th {\n",
       "        vertical-align: top;\n",
       "    }\n",
       "\n",
       "    .dataframe thead th {\n",
       "        text-align: right;\n",
       "    }\n",
       "</style>\n",
       "<table border=\"1\" class=\"dataframe\">\n",
       "  <thead>\n",
       "    <tr style=\"text-align: right;\">\n",
       "      <th></th>\n",
       "      <th>Category</th>\n",
       "      <th>SubCategory</th>\n",
       "      <th>Product</th>\n",
       "      <th>SalesAmount</th>\n",
       "    </tr>\n",
       "  </thead>\n",
       "  <tbody>\n",
       "    <tr>\n",
       "      <th>0</th>\n",
       "      <td>Accessories</td>\n",
       "      <td>Bike Racks</td>\n",
       "      <td>Hitch Rack - 4-Bike</td>\n",
       "      <td>7200.00</td>\n",
       "    </tr>\n",
       "    <tr>\n",
       "      <th>1</th>\n",
       "      <td>Accessories</td>\n",
       "      <td>Bike Stands</td>\n",
       "      <td>All-Purpose Bike Stand</td>\n",
       "      <td>5247.00</td>\n",
       "    </tr>\n",
       "    <tr>\n",
       "      <th>2</th>\n",
       "      <td>Accessories</td>\n",
       "      <td>Bottles and Cages</td>\n",
       "      <td>Mountain Bottle Cage</td>\n",
       "      <td>2097.90</td>\n",
       "    </tr>\n",
       "    <tr>\n",
       "      <th>3</th>\n",
       "      <td>Accessories</td>\n",
       "      <td>Bottles and Cages</td>\n",
       "      <td>Road Bottle Cage</td>\n",
       "      <td>242.73</td>\n",
       "    </tr>\n",
       "    <tr>\n",
       "      <th>4</th>\n",
       "      <td>Accessories</td>\n",
       "      <td>Bottles and Cages</td>\n",
       "      <td>Water Bottle - 30 oz.</td>\n",
       "      <td>2185.62</td>\n",
       "    </tr>\n",
       "  </tbody>\n",
       "</table>\n",
       "</div>"
      ],
      "text/plain": [
       "      Category        SubCategory                 Product  SalesAmount\n",
       "0  Accessories         Bike Racks     Hitch Rack - 4-Bike      7200.00\n",
       "1  Accessories        Bike Stands  All-Purpose Bike Stand      5247.00\n",
       "2  Accessories  Bottles and Cages    Mountain Bottle Cage      2097.90\n",
       "3  Accessories  Bottles and Cages        Road Bottle Cage       242.73\n",
       "4  Accessories  Bottles and Cages   Water Bottle - 30 oz.      2185.62"
      ]
     },
     "execution_count": 347,
     "metadata": {},
     "output_type": "execute_result"
    }
   ],
   "source": [
    "pd.read_sql_query('''\n",
    "                  select Category, SubCategory, Product, round(sum(SalesAmount),2) as SalesAmount  \n",
    "                  from factinternetsales fc\n",
    "                  inner join  product p\n",
    "                  on fc.ProductKey = p.ProductKey  \n",
    "                 group by Category, SubCategory, Product                 \n",
    "                  ''' , conn).head()"
   ]
  },
  {
   "cell_type": "code",
   "execution_count": 365,
   "metadata": {},
   "outputs": [],
   "source": [
    "sql = ''' select \n",
    "t.SalesTerritoryCountry, t.SalesTerritoryRegion, SUM(SalesAmount) as Amount\n",
    "FROM  factinternetsales   s\n",
    "JOIN  dimasale   t\n",
    "ON (s.SalesTerritoryKey = t.SalesTerritoryKey)\n",
    "GROUP BY SalesTerritoryCountry, SalesTerritoryRegion\n",
    "ORDER BY SUM(SalesAmount) DESC '''"
   ]
  },
  {
   "cell_type": "code",
   "execution_count": 370,
   "metadata": {},
   "outputs": [
    {
     "data": {
      "text/html": [
       "<div>\n",
       "<style scoped>\n",
       "    .dataframe tbody tr th:only-of-type {\n",
       "        vertical-align: middle;\n",
       "    }\n",
       "\n",
       "    .dataframe tbody tr th {\n",
       "        vertical-align: top;\n",
       "    }\n",
       "\n",
       "    .dataframe thead th {\n",
       "        text-align: right;\n",
       "    }\n",
       "</style>\n",
       "<table border=\"1\" class=\"dataframe\">\n",
       "  <thead>\n",
       "    <tr style=\"text-align: right;\">\n",
       "      <th></th>\n",
       "      <th>SalesTerritoryRegion</th>\n",
       "      <th>Amount</th>\n",
       "    </tr>\n",
       "    <tr>\n",
       "      <th>SalesTerritoryCountry</th>\n",
       "      <th></th>\n",
       "      <th></th>\n",
       "    </tr>\n",
       "  </thead>\n",
       "  <tbody>\n",
       "    <tr>\n",
       "      <th>Canada</th>\n",
       "      <td>Canada</td>\n",
       "      <td>9457.62</td>\n",
       "    </tr>\n",
       "    <tr>\n",
       "      <th>United States</th>\n",
       "      <td>Northwest</td>\n",
       "      <td>9091.81</td>\n",
       "    </tr>\n",
       "    <tr>\n",
       "      <th>Australia</th>\n",
       "      <td>Australia</td>\n",
       "      <td>8507.72</td>\n",
       "    </tr>\n",
       "    <tr>\n",
       "      <th>United States</th>\n",
       "      <td>Southwest</td>\n",
       "      <td>8376.06</td>\n",
       "    </tr>\n",
       "    <tr>\n",
       "      <th>United Kingdom</th>\n",
       "      <td>United Kingdom</td>\n",
       "      <td>3713.64</td>\n",
       "    </tr>\n",
       "    <tr>\n",
       "      <th>Germany</th>\n",
       "      <td>Germany</td>\n",
       "      <td>3277.83</td>\n",
       "    </tr>\n",
       "    <tr>\n",
       "      <th>France</th>\n",
       "      <td>France</td>\n",
       "      <td>3195.06</td>\n",
       "    </tr>\n",
       "    <tr>\n",
       "      <th>United States</th>\n",
       "      <td>Southeast</td>\n",
       "      <td>74.98</td>\n",
       "    </tr>\n",
       "  </tbody>\n",
       "</table>\n",
       "</div>"
      ],
      "text/plain": [
       "                      SalesTerritoryRegion   Amount\n",
       "SalesTerritoryCountry                              \n",
       "Canada                              Canada  9457.62\n",
       "United States                    Northwest  9091.81\n",
       "Australia                        Australia  8507.72\n",
       "United States                    Southwest  8376.06\n",
       "United Kingdom              United Kingdom  3713.64\n",
       "Germany                            Germany  3277.83\n",
       "France                              France  3195.06\n",
       "United States                    Southeast    74.98"
      ]
     },
     "execution_count": 370,
     "metadata": {},
     "output_type": "execute_result"
    }
   ],
   "source": [
    "pd.read_sql_query(sql, conn , index_col=['SalesTerritoryCountry']).round(2)"
   ]
  },
  {
   "cell_type": "code",
   "execution_count": 374,
   "metadata": {},
   "outputs": [],
   "source": [
    "# close connection\n",
    "cur.close()\n",
    "conn.close()"
   ]
  },
  {
   "cell_type": "code",
   "execution_count": 312,
   "metadata": {},
   "outputs": [],
   "source": [
    "import cx_Oracle"
   ]
  },
  {
   "cell_type": "code",
   "execution_count": 371,
   "metadata": {},
   "outputs": [],
   "source": [
    "cx_conn = cx_Oracle.Connection('system/tiger@localhost:1521/xe')"
   ]
  },
  {
   "cell_type": "code",
   "execution_count": 372,
   "metadata": {},
   "outputs": [],
   "source": [
    "curr  = conn.cursor()"
   ]
  },
  {
   "cell_type": "code",
   "execution_count": 373,
   "metadata": {},
   "outputs": [
    {
     "name": "stderr",
     "output_type": "stream",
     "text": [
      "C:\\Users\\hp\\AppData\\Local\\Temp\\ipykernel_2128\\2180474113.py:1: UserWarning: pandas only supports SQLAlchemy connectable (engine/connection) or database string URI or sqlite3 DBAPI2 connection. Other DBAPI2 objects are not tested. Please consider using SQLAlchemy.\n",
      "  pd.read_sql_query('select * from emp', cx_conn)\n"
     ]
    },
    {
     "data": {
      "text/html": [
       "<div>\n",
       "<style scoped>\n",
       "    .dataframe tbody tr th:only-of-type {\n",
       "        vertical-align: middle;\n",
       "    }\n",
       "\n",
       "    .dataframe tbody tr th {\n",
       "        vertical-align: top;\n",
       "    }\n",
       "\n",
       "    .dataframe thead th {\n",
       "        text-align: right;\n",
       "    }\n",
       "</style>\n",
       "<table border=\"1\" class=\"dataframe\">\n",
       "  <thead>\n",
       "    <tr style=\"text-align: right;\">\n",
       "      <th></th>\n",
       "      <th>EMPNO</th>\n",
       "      <th>ENAME</th>\n",
       "      <th>JOB</th>\n",
       "      <th>MGR</th>\n",
       "      <th>HIREDATE</th>\n",
       "      <th>SAL</th>\n",
       "      <th>COMM</th>\n",
       "      <th>DEPTNO</th>\n",
       "    </tr>\n",
       "  </thead>\n",
       "  <tbody>\n",
       "    <tr>\n",
       "      <th>0</th>\n",
       "      <td>7369</td>\n",
       "      <td>SMITH</td>\n",
       "      <td>CLERK</td>\n",
       "      <td>7902.0</td>\n",
       "      <td>1980-12-17</td>\n",
       "      <td>800.0</td>\n",
       "      <td>NaN</td>\n",
       "      <td>20</td>\n",
       "    </tr>\n",
       "    <tr>\n",
       "      <th>1</th>\n",
       "      <td>7499</td>\n",
       "      <td>ALLEN</td>\n",
       "      <td>SALESMAN</td>\n",
       "      <td>7698.0</td>\n",
       "      <td>1981-02-20</td>\n",
       "      <td>1600.0</td>\n",
       "      <td>300.0</td>\n",
       "      <td>30</td>\n",
       "    </tr>\n",
       "    <tr>\n",
       "      <th>2</th>\n",
       "      <td>7521</td>\n",
       "      <td>WARD</td>\n",
       "      <td>SALESMAN</td>\n",
       "      <td>7698.0</td>\n",
       "      <td>1981-02-22</td>\n",
       "      <td>1250.0</td>\n",
       "      <td>500.0</td>\n",
       "      <td>30</td>\n",
       "    </tr>\n",
       "    <tr>\n",
       "      <th>3</th>\n",
       "      <td>7566</td>\n",
       "      <td>JONES</td>\n",
       "      <td>MANAGER</td>\n",
       "      <td>7839.0</td>\n",
       "      <td>1981-04-02</td>\n",
       "      <td>2975.0</td>\n",
       "      <td>NaN</td>\n",
       "      <td>20</td>\n",
       "    </tr>\n",
       "    <tr>\n",
       "      <th>4</th>\n",
       "      <td>7654</td>\n",
       "      <td>MARTIN</td>\n",
       "      <td>SALESMAN</td>\n",
       "      <td>7698.0</td>\n",
       "      <td>1981-09-28</td>\n",
       "      <td>1250.0</td>\n",
       "      <td>1400.0</td>\n",
       "      <td>30</td>\n",
       "    </tr>\n",
       "    <tr>\n",
       "      <th>5</th>\n",
       "      <td>7698</td>\n",
       "      <td>BLAKE</td>\n",
       "      <td>MANAGER</td>\n",
       "      <td>7839.0</td>\n",
       "      <td>1981-05-01</td>\n",
       "      <td>2850.0</td>\n",
       "      <td>NaN</td>\n",
       "      <td>30</td>\n",
       "    </tr>\n",
       "    <tr>\n",
       "      <th>6</th>\n",
       "      <td>7782</td>\n",
       "      <td>CLARK</td>\n",
       "      <td>MANAGER</td>\n",
       "      <td>7839.0</td>\n",
       "      <td>1981-06-09</td>\n",
       "      <td>2450.0</td>\n",
       "      <td>NaN</td>\n",
       "      <td>10</td>\n",
       "    </tr>\n",
       "    <tr>\n",
       "      <th>7</th>\n",
       "      <td>7788</td>\n",
       "      <td>SCOTT</td>\n",
       "      <td>ANALYST</td>\n",
       "      <td>7566.0</td>\n",
       "      <td>1987-04-19</td>\n",
       "      <td>3000.0</td>\n",
       "      <td>NaN</td>\n",
       "      <td>20</td>\n",
       "    </tr>\n",
       "    <tr>\n",
       "      <th>8</th>\n",
       "      <td>7839</td>\n",
       "      <td>KING</td>\n",
       "      <td>PRESIDENT</td>\n",
       "      <td>NaN</td>\n",
       "      <td>1981-11-17</td>\n",
       "      <td>5000.0</td>\n",
       "      <td>NaN</td>\n",
       "      <td>10</td>\n",
       "    </tr>\n",
       "    <tr>\n",
       "      <th>9</th>\n",
       "      <td>7844</td>\n",
       "      <td>TURNER</td>\n",
       "      <td>SALESMAN</td>\n",
       "      <td>7698.0</td>\n",
       "      <td>1981-09-08</td>\n",
       "      <td>1500.0</td>\n",
       "      <td>0.0</td>\n",
       "      <td>30</td>\n",
       "    </tr>\n",
       "    <tr>\n",
       "      <th>10</th>\n",
       "      <td>7876</td>\n",
       "      <td>ADAMS</td>\n",
       "      <td>CLERK</td>\n",
       "      <td>7788.0</td>\n",
       "      <td>1987-05-23</td>\n",
       "      <td>1100.0</td>\n",
       "      <td>NaN</td>\n",
       "      <td>20</td>\n",
       "    </tr>\n",
       "    <tr>\n",
       "      <th>11</th>\n",
       "      <td>7900</td>\n",
       "      <td>JAMES</td>\n",
       "      <td>CLERK</td>\n",
       "      <td>7698.0</td>\n",
       "      <td>1981-12-03</td>\n",
       "      <td>950.0</td>\n",
       "      <td>NaN</td>\n",
       "      <td>30</td>\n",
       "    </tr>\n",
       "    <tr>\n",
       "      <th>12</th>\n",
       "      <td>7902</td>\n",
       "      <td>FORD</td>\n",
       "      <td>ANALYST</td>\n",
       "      <td>7566.0</td>\n",
       "      <td>1981-12-03</td>\n",
       "      <td>3000.0</td>\n",
       "      <td>NaN</td>\n",
       "      <td>20</td>\n",
       "    </tr>\n",
       "    <tr>\n",
       "      <th>13</th>\n",
       "      <td>7934</td>\n",
       "      <td>MILLER</td>\n",
       "      <td>CLERK</td>\n",
       "      <td>7782.0</td>\n",
       "      <td>1982-01-23</td>\n",
       "      <td>1300.0</td>\n",
       "      <td>NaN</td>\n",
       "      <td>10</td>\n",
       "    </tr>\n",
       "  </tbody>\n",
       "</table>\n",
       "</div>"
      ],
      "text/plain": [
       "    EMPNO   ENAME        JOB     MGR   HIREDATE     SAL    COMM  DEPTNO\n",
       "0    7369   SMITH      CLERK  7902.0 1980-12-17   800.0     NaN      20\n",
       "1    7499   ALLEN   SALESMAN  7698.0 1981-02-20  1600.0   300.0      30\n",
       "2    7521    WARD   SALESMAN  7698.0 1981-02-22  1250.0   500.0      30\n",
       "3    7566   JONES    MANAGER  7839.0 1981-04-02  2975.0     NaN      20\n",
       "4    7654  MARTIN   SALESMAN  7698.0 1981-09-28  1250.0  1400.0      30\n",
       "5    7698   BLAKE    MANAGER  7839.0 1981-05-01  2850.0     NaN      30\n",
       "6    7782   CLARK    MANAGER  7839.0 1981-06-09  2450.0     NaN      10\n",
       "7    7788   SCOTT    ANALYST  7566.0 1987-04-19  3000.0     NaN      20\n",
       "8    7839    KING  PRESIDENT     NaN 1981-11-17  5000.0     NaN      10\n",
       "9    7844  TURNER   SALESMAN  7698.0 1981-09-08  1500.0     0.0      30\n",
       "10   7876   ADAMS      CLERK  7788.0 1987-05-23  1100.0     NaN      20\n",
       "11   7900   JAMES      CLERK  7698.0 1981-12-03   950.0     NaN      30\n",
       "12   7902    FORD    ANALYST  7566.0 1981-12-03  3000.0     NaN      20\n",
       "13   7934  MILLER      CLERK  7782.0 1982-01-23  1300.0     NaN      10"
      ]
     },
     "execution_count": 373,
     "metadata": {},
     "output_type": "execute_result"
    }
   ],
   "source": [
    "pd.read_sql_query('select * from emp', cx_conn)"
   ]
  },
  {
   "cell_type": "code",
   "execution_count": null,
   "metadata": {},
   "outputs": [],
   "source": [
    "# close connection\n",
    "cur.close()\n",
    "conn.close()"
   ]
  }
 ],
 "metadata": {
  "kernelspec": {
   "display_name": "Python 3",
   "language": "python",
   "name": "python3"
  },
  "language_info": {
   "codemirror_mode": {
    "name": "ipython",
    "version": 3
   },
   "file_extension": ".py",
   "mimetype": "text/x-python",
   "name": "python",
   "nbconvert_exporter": "python",
   "pygments_lexer": "ipython3",
   "version": "3.10.11"
  }
 },
 "nbformat": 4,
 "nbformat_minor": 2
}
