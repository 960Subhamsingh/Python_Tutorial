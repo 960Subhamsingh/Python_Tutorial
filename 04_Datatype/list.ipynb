{
  "cells": [
    {
      "cell_type": "markdown",
      "metadata": {
        "id": "EecLRVGXap5G"
      },
      "source": [
        "**1. Is a list mutable?**\n",
        "\n",
        "Sol Yes, lists are mutable."
      ]
    },
    {
      "cell_type": "code",
      "execution_count": 1,
      "metadata": {
        "colab": {
          "base_uri": "https://localhost:8080/"
        },
        "id": "hc6ERbWSava8",
        "outputId": "bdb228c4-0995-47a8-eb86-7fe893f967ec"
      },
      "outputs": [
        {
          "name": "stdout",
          "output_type": "stream",
          "text": [
            "[1, 2, 6, 'hello', 'hii', 60]\n",
            "[1, 2, 6, 'No', 'hii', 60]\n"
          ]
        }
      ],
      "source": [
        "List = [1,2,6,\"hello\",\"hii\",60]  \n",
        "print(List)  \n",
        "List[3]=\"No\"  \n",
        "print(List) "
      ]
    },
    {
      "cell_type": "markdown",
      "metadata": {
        "id": "vLxIzkEnaobT"
      },
      "source": [
        "**2. Does a list need to be homogeneous?**\n",
        "\n",
        "Ans List can be either homogenous or heterogenous."
      ]
    },
    {
      "cell_type": "markdown",
      "metadata": {
        "id": "XyZmzXolbz6g"
      },
      "source": [
        "**3. What is the difference between a list and a tuple.**\n",
        "\n",
        "Sol The main difference between list and tuple is that lists are mutable while tuples are immutable. A list has a variable size while a tuple has a fixed size."
      ]
    },
    {
      "cell_type": "markdown",
      "metadata": {
        "id": "WhCYyceNcudx"
      },
      "source": [
        "**4. How to find the number of elements in the list?**\n",
        "\n",
        "Sol The number of elements can be found by in-build function len()."
      ]
    },
    {
      "cell_type": "code",
      "execution_count": 2,
      "metadata": {
        "colab": {
          "base_uri": "https://localhost:8080/"
        },
        "id": "G8c32iw2dNQR",
        "outputId": "9c49bbed-d79a-440c-862e-c9db4d57019c"
      },
      "outputs": [
        {
          "name": "stdout",
          "output_type": "stream",
          "text": [
            "6\n"
          ]
        }
      ],
      "source": [
        "List = [10,20,30,40,50,60]\n",
        "print(len(List))"
      ]
    },
    {
      "cell_type": "markdown",
      "metadata": {
        "id": "6l8MONcQdfDt"
      },
      "source": [
        "**5. How to check whether the list is empty or not?**\n",
        "\n",
        "Sol List can be check using conditional if-else statements with len() function."
      ]
    },
    {
      "cell_type": "code",
      "execution_count": 13,
      "metadata": {
        "colab": {
          "base_uri": "https://localhost:8080/"
        },
        "id": "aTnwpMkNeTEI",
        "outputId": "85693852-2cfc-49f3-a585-8472bfb216a3"
      },
      "outputs": [
        {
          "name": "stdout",
          "output_type": "stream",
          "text": [
            "List is not empty\n",
            "[10, 20, 30, 40, 50, 60]\n"
          ]
        }
      ],
      "source": [
        "List = [10,20,30,40,50,60]\n",
        "if len(List):\n",
        "  print(\"List is not empty\")\n",
        "  print(List)  \n",
        "else:\n",
        "    print(\"Empty\")\n",
        "  "
      ]
    },
    {
      "cell_type": "markdown",
      "metadata": {
        "id": "znP6PVrTfVuW"
      },
      "source": [
        "**6.  How to find the first and last element of the list?**\n",
        "\n",
        "Ans Using Indexing,Slicing, and comprehension"
      ]
    },
    {
      "cell_type": "code",
      "execution_count": 14,
      "metadata": {
        "colab": {
          "base_uri": "https://localhost:8080/"
        },
        "id": "X8HEZWGKftTa",
        "outputId": "e2d85c85-3318-4ea2-c871-fd415b422490"
      },
      "outputs": [
        {
          "name": "stdout",
          "output_type": "stream",
          "text": [
            "First Elemet :  10\n",
            "Last Element :  60\n"
          ]
        }
      ],
      "source": [
        "print(\"First Elemet : \", List[0])\n",
        "print(\"Last Element : \", List[-1])"
      ]
    },
    {
      "cell_type": "markdown",
      "metadata": {
        "id": "SGCYNNOLgoFz"
      },
      "source": [
        "**7. How to find the largest and lowest value in the list?**\n",
        "\n",
        "Ans The largest and lowest value in the list can be find using min() and max()."
      ]
    },
    {
      "cell_type": "code",
      "execution_count": 15,
      "metadata": {
        "colab": {
          "base_uri": "https://localhost:8080/"
        },
        "id": "p32koshShCGK",
        "outputId": "cee67fab-37fe-442f-9c3c-e1ca7cc787ae"
      },
      "outputs": [
        {
          "name": "stdout",
          "output_type": "stream",
          "text": [
            "Lowest Value : 10\n",
            "Largest Value : 60\n"
          ]
        }
      ],
      "source": [
        "print(\"Lowest Value :\", min(List))\n",
        "print(\"Largest Value :\", max(List))"
      ]
    },
    {
      "cell_type": "markdown",
      "metadata": {
        "id": "q8K5Nz7aiPAy"
      },
      "source": [
        "**8. How to access elements of the list?**\n",
        "\n",
        "Ans Using **indexing** and **slicing**."
      ]
    },
    {
      "cell_type": "code",
      "execution_count": 16,
      "metadata": {
        "colab": {
          "base_uri": "https://localhost:8080/"
        },
        "id": "ZMvU2YZDitkS",
        "outputId": "5bb47505-d254-4e09-da09-7b274ad8b26c"
      },
      "outputs": [
        {
          "data": {
            "text/plain": [
              "[10, 20, 30, 40, 50, 60]"
            ]
          },
          "execution_count": 16,
          "metadata": {},
          "output_type": "execute_result"
        }
      ],
      "source": [
        "List[:7]"
      ]
    },
    {
      "cell_type": "markdown",
      "metadata": {
        "id": "yJs9X4u2jOgV"
      },
      "source": [
        "**9. Remove elements in a list before a specific index.**\n",
        "\n",
        "Ans Using Pop()."
      ]
    },
    {
      "cell_type": "code",
      "execution_count": 17,
      "metadata": {
        "colab": {
          "base_uri": "https://localhost:8080/"
        },
        "id": "a_KW65PYj9II",
        "outputId": "c7a7a16f-a665-4aa2-c9cb-df1f78a41391"
      },
      "outputs": [
        {
          "name": "stdout",
          "output_type": "stream",
          "text": [
            "[10, 20, 30, 40, 50]\n"
          ]
        }
      ],
      "source": [
        "List.pop(5)\n",
        "print(List)"
      ]
    },
    {
      "cell_type": "markdown",
      "metadata": {
        "id": "MwBDyu5gkTDi"
      },
      "source": [
        "**10. Remove elements in a list between 2 indices.**\n"
      ]
    },
    {
      "cell_type": "code",
      "execution_count": 18,
      "metadata": {
        "colab": {
          "base_uri": "https://localhost:8080/"
        },
        "id": "6rDIcUJikZy_",
        "outputId": "1cff4ff2-fd46-42b4-fe5a-16be1f1d6849"
      },
      "outputs": [
        {
          "name": "stdout",
          "output_type": "stream",
          "text": [
            "[10, 40, 50]\n"
          ]
        }
      ],
      "source": [
        "del List[1:3]\n",
        "print(List)"
      ]
    },
    {
      "cell_type": "markdown",
      "metadata": {
        "id": "0K0ARAgcZ6hB"
      },
      "source": [
        "**11. Return every 2nd element in a list between 2 indices**\n",
        "\n",
        "\n",
        "Ans "
      ]
    },
    {
      "cell_type": "code",
      "execution_count": 19,
      "metadata": {
        "colab": {
          "base_uri": "https://localhost:8080/"
        },
        "id": "CXo0XjzmZ8ex",
        "outputId": "3d459fbd-e18d-4f8b-98f5-b23aa85a1f50"
      },
      "outputs": [
        {
          "data": {
            "text/plain": [
              "[40]"
            ]
          },
          "execution_count": 19,
          "metadata": {},
          "output_type": "execute_result"
        }
      ],
      "source": [
        "List[1:7:2]"
      ]
    },
    {
      "cell_type": "markdown",
      "metadata": {
        "id": "vmkoVQ2gl4Dg"
      },
      "source": [
        "**12. Get the first element from each nested list in a list**\n",
        "\n"
      ]
    },
    {
      "cell_type": "code",
      "execution_count": 20,
      "metadata": {
        "colab": {
          "base_uri": "https://localhost:8080/"
        },
        "id": "D6o8gTfdmEZl",
        "outputId": "29945df7-c557-410d-c706-501301c1caff"
      },
      "outputs": [
        {
          "name": "stdout",
          "output_type": "stream",
          "text": [
            "10\n",
            "Fourty\n",
            "40\n",
            "90\n"
          ]
        }
      ],
      "source": [
        "List= [[10,12,31],[\"Fourty\",\"Fifty\",\"thirty\"],[40,50,60],[90,10,53]]\n",
        "for i in List:\n",
        "  print(i[0])"
      ]
    },
    {
      "cell_type": "markdown",
      "metadata": {
        "id": "e3gQqlpzmlUs"
      },
      "source": [
        "**13. How to modify elements of the list?**\n",
        "\n"
      ]
    },
    {
      "cell_type": "code",
      "execution_count": 21,
      "metadata": {
        "colab": {
          "base_uri": "https://localhost:8080/"
        },
        "id": "VoyEUeZHmsT0",
        "outputId": "c3d62216-c757-4f67-c983-754bbd428446"
      },
      "outputs": [
        {
          "name": "stdout",
          "output_type": "stream",
          "text": [
            "original list:,[1, 'four', 5, 10, 19, 'five', 30]\n",
            "Updated list :, [1, 'four', 'one', 10, 19, 'five', 30]\n"
          ]
        }
      ],
      "source": [
        "List = [1,\"four\",5,10,19,\"five\",30]\n",
        "print(f'original list:,{List}')\n",
        "List[2]=\"one\"\n",
        "print(f'Updated list :, {List}')"
      ]
    },
    {
      "cell_type": "markdown",
      "metadata": {
        "id": "aYMMBdi9n2Zr"
      },
      "source": [
        "**14. How to concatenate two lists?**"
      ]
    },
    {
      "cell_type": "code",
      "execution_count": 22,
      "metadata": {
        "colab": {
          "base_uri": "https://localhost:8080/"
        },
        "id": "AXgFNW6WouCH",
        "outputId": "b918be91-e09a-4637-9044-e4e4d6baf600"
      },
      "outputs": [
        {
          "name": "stdout",
          "output_type": "stream",
          "text": [
            "[10, 21, 23]\n",
            "[4, 5, 6]\n",
            "concatenation of L1 and L2 :, [10, 21, 23, 4, 5, 6]\n"
          ]
        }
      ],
      "source": [
        "L1 = [10,21,23]\n",
        "L2 = [4,5,6]\n",
        "print(L1)\n",
        "print(L2)\n",
        "print(f\"concatenation of L1 and L2 :, {L1+L2}\")"
      ]
    },
    {
      "cell_type": "markdown",
      "metadata": {
        "id": "nI1ejmGGpjPe"
      },
      "source": [
        "**15.How to add two lists element-wise in python?**\n"
      ]
    },
    {
      "cell_type": "code",
      "execution_count": 23,
      "metadata": {
        "colab": {
          "base_uri": "https://localhost:8080/"
        },
        "id": "Yf0K1zN-ZlrL",
        "outputId": "405c071f-38ef-4ba0-f20b-4922fc5fd236"
      },
      "outputs": [
        {
          "name": "stdout",
          "output_type": "stream",
          "text": [
            "List 1 : [1, 2, 3]\n",
            "List 2 : [4, 5, 6]\n",
            "added List : [5, 7, 9]\n"
          ]
        }
      ],
      "source": [
        "from operator import add\n",
        "list_1 = [1,2,3]\n",
        "list_2 = [4,5,6]\n",
        "sum = [a+b for a, b in zip(list_1,list_2)]\n",
        "print(f\"List 1 : {list_1}\")\n",
        "print(f\"List 2 : {list_2}\")\n",
        "print(f\"added List : {sum}\")"
      ]
    },
    {
      "cell_type": "markdown",
      "metadata": {
        "id": "_2JiJujvKfjH"
      },
      "source": [
        "**16. Difference between del and clear?**\n",
        "\n",
        "Ans del- To remove items by index or slice we can use the del method in python .you can also\n",
        "remove elements from a list with del statements. Note: It removes the specified index element.\n",
        "clear(): clear() method in python is used to empty the entire list. this can be used if someone\n",
        "wants an empty list for any other purpose."
      ]
    },
    {
      "cell_type": "code",
      "execution_count": 25,
      "metadata": {
        "colab": {
          "base_uri": "https://localhost:8080/"
        },
        "id": "9E9rmLqxPI2I",
        "outputId": "76de113c-2c3e-402a-9bfc-c33d54f9cdbf"
      },
      "outputs": [
        {
          "name": "stdout",
          "output_type": "stream",
          "text": [
            "Before Clear func : [12, 61, 18, 51, 13, 81, 10, 15, 21, 65, 76, 82]\n",
            "After clear func : []\n"
          ]
        }
      ],
      "source": [
        "list = [12,61,18,51,13,81,10,15,21,65,76,82]\n",
        "print(f\"Before Clear func : {list}\")\n",
        "list.clear()\n",
        "print(f\"After clear func : {list}\")"
      ]
    },
    {
      "cell_type": "code",
      "execution_count": 26,
      "metadata": {
        "colab": {
          "base_uri": "https://localhost:8080/"
        },
        "id": "GNeWdzp5PThX",
        "outputId": "f2848729-3eb4-422e-f6da-4fdc16bd0961"
      },
      "outputs": [
        {
          "name": "stdout",
          "output_type": "stream",
          "text": [
            "[2, 3, 8, 0, 5, 2, 6, 6, 2]\n"
          ]
        }
      ],
      "source": [
        "list = [2,6,8,5,3,8,0,5,2,6,6,2]\n",
        "del list[1:4]\n",
        "print(f\"{list}\")"
      ]
    },
    {
      "cell_type": "markdown",
      "metadata": {
        "id": "hOK2VOJfQDrV"
      },
      "source": [
        "**17. Difference between remove and pop?**\n",
        "\n",
        "Ans **remove()** is an inbuilt function in Python programming language that removes a given object\n",
        "from the list. It removes the object from the list. It does not return any value. Note: It removes\n",
        "the first occurrence of the object from the list. It does not deal with the index.\n",
        "**pop()** method: The pop() method removes the item at the given index from the list and returns\n",
        "the removed item. Syntax of pop() method: list.pop(index)"
      ]
    },
    {
      "cell_type": "code",
      "execution_count": 27,
      "metadata": {
        "colab": {
          "base_uri": "https://localhost:8080/"
        },
        "id": "m2OVIfAeQ55V",
        "outputId": "7ed74580-5f14-4f9f-f919-8d15851979f2"
      },
      "outputs": [
        {
          "name": "stdout",
          "output_type": "stream",
          "text": [
            "Before removing : [2, 6, 8, 5, 3, 8, 0, 5, 2, 6, 6, 2]\n",
            "After removing : [2, 8, 5, 3, 8, 0, 5, 2, 6, 6, 2]\n"
          ]
        }
      ],
      "source": [
        "list = [2,6,8,5,3,8,0,5,2,6,6,2]\n",
        "print(f\"Before removing : {list}\")\n",
        "list.remove(6)\n",
        "print(f\"After removing : {list}\")\n"
      ]
    },
    {
      "cell_type": "code",
      "execution_count": 28,
      "metadata": {
        "colab": {
          "base_uri": "https://localhost:8080/"
        },
        "id": "QeD7PgVSROFq",
        "outputId": "da7a62ee-90f5-47c4-d7a4-a79742f33b49"
      },
      "outputs": [
        {
          "name": "stdout",
          "output_type": "stream",
          "text": [
            "Before poping : [2, 6, 8, 5, 3, 8, 0, 5, 2, 6, 6, 2]\n",
            "Afetr poping : [2, 8, 5, 3, 8, 0, 5, 2, 6, 6, 2]\n"
          ]
        }
      ],
      "source": [
        "list = [2,6,8,5,3,8,0,5,2,6,6,2]\n",
        "print(f\"Before poping : {list}\")\n",
        "list.pop(1)\n",
        "print(f\"Afetr poping : {list}\")"
      ]
    },
    {
      "cell_type": "markdown",
      "metadata": {
        "id": "_s8b8gebSADs"
      },
      "source": [
        "**18. Difference between append and extend?**\n",
        "\n",
        "Ans  Append() adds an element at the end of the list while extend() concatenates the first list with another."
      ]
    },
    {
      "cell_type": "code",
      "execution_count": 29,
      "metadata": {
        "colab": {
          "base_uri": "https://localhost:8080/"
        },
        "id": "vbBizzUJSbTW",
        "outputId": "fb440b94-00d0-44aa-d25a-fc289e12b872"
      },
      "outputs": [
        {
          "name": "stdout",
          "output_type": "stream",
          "text": [
            "Before append : [2, 6, 8, 5, 3, 8, 0, 5, 2, 6, 6, 2]\n",
            "After append : [2, 6, 8, 5, 3, 8, 0, 5, 2, 6, 6, 2, 20]\n"
          ]
        }
      ],
      "source": [
        "list = [2,6,8,5,3,8,0,5,2,6,6,2]\n",
        "print(f\"Before append : {list}\")\n",
        "list.append(20)\n",
        "print(f\"After append : {list}\")"
      ]
    },
    {
      "cell_type": "code",
      "execution_count": null,
      "metadata": {
        "colab": {
          "base_uri": "https://localhost:8080/"
        },
        "id": "n-8cFF7RTs7a",
        "outputId": "3ea72b1f-666a-44ba-f613-88288cd9304b"
      },
      "outputs": [
        {
          "name": "stdout",
          "output_type": "stream",
          "text": [
            "Before append : [2, 6, 8, 5, 3, 8, 0, 5, 2, 6, 6, 2]\n",
            "After append : [2, 6, 8, 5, 3, 8, 0, 5, 2, 6, 6, 2, 20, 30, 40, 50]\n"
          ]
        }
      ],
      "source": [
        "list = [2,6,8,5,3,8,0,5,2,6,6,2]\n",
        "print(f\"Before append : {list}\")\n",
        "list.extend([20,30,40,50])\n",
        "print(f\"After append : {list}\")"
      ]
    },
    {
      "cell_type": "markdown",
      "metadata": {
        "id": "T3AnlD_bT638"
      },
      "source": [
        "**19. Difference between indexing and Slicing?**\n",
        "\n",
        "Ans Indexing is used to obtain individual elements, while Slicing is used to obtain a sequence of elements."
      ]
    },
    {
      "cell_type": "code",
      "execution_count": null,
      "metadata": {
        "colab": {
          "base_uri": "https://localhost:8080/"
        },
        "id": "yJ2mvHlWVrvO",
        "outputId": "9c1d93f1-216b-4024-8e3c-2a5bf8e96aa8"
      },
      "outputs": [
        {
          "name": "stdout",
          "output_type": "stream",
          "text": [
            "[2, 6, 8, 5, 3, 8, 0, 5, 2, 6, 6, 2]\n",
            "Element at index 1 :6\n"
          ]
        }
      ],
      "source": [
        "list = [2,6,8,5,3,8,0,5,2,6,6,2]\n",
        "print(list)\n",
        "print(f\"Element at index 1 :{list[1]}\")"
      ]
    },
    {
      "cell_type": "code",
      "execution_count": null,
      "metadata": {
        "colab": {
          "base_uri": "https://localhost:8080/"
        },
        "id": "JqkuYkXqV9Rn",
        "outputId": "a301160c-ffab-4374-9d86-1e6ca3e4c860"
      },
      "outputs": [
        {
          "name": "stdout",
          "output_type": "stream",
          "text": [
            "[2, 6, 8, 5, 3, 8, 0, 5, 2, 6, 6, 2]\n",
            "Element in range :[6, 8, 5, 3, 8, 0, 5]\n"
          ]
        }
      ],
      "source": [
        "print(list)\n",
        "print(f\"Element in range :{list[1:8]}\")\n"
      ]
    },
    {
      "cell_type": "markdown",
      "metadata": {
        "id": "wfMWr5dAWEVE"
      },
      "source": [
        "**20. Difference between sort and sorted**\n",
        "\n",
        "Ans **sorted**() method sorts the given sequence either in ascending order or in descending\n",
        "order and always return the a sorted list. This method doesnot effect the original sequence.\n",
        "**sort**() function is very similar to sorted() but unlike sorted it returns nothing and makes changes\n",
        "to the original sequence. Moreover, sort() is a method of list class and can only be used with\n",
        "lists."
      ]
    },
    {
      "cell_type": "code",
      "execution_count": null,
      "metadata": {
        "colab": {
          "base_uri": "https://localhost:8080/"
        },
        "id": "EPQmGu02WH6N",
        "outputId": "4c02bb11-b4fd-4b58-c4c5-c0cedd3e589e"
      },
      "outputs": [
        {
          "name": "stdout",
          "output_type": "stream",
          "text": [
            "Before sorted : [2, 6, 8, 5, 3, 8, 0, 5, 2, 6, 6, 2]\n",
            "After sorted : [2, 6, 8, 5, 3, 8, 0, 5, 2, 6, 6, 2]\n"
          ]
        }
      ],
      "source": [
        "print(f\"Before sorted : {list}\")\n",
        "sorted(list)\n",
        "print(f\"After sorted : {list}\")"
      ]
    },
    {
      "cell_type": "code",
      "execution_count": null,
      "metadata": {
        "colab": {
          "base_uri": "https://localhost:8080/"
        },
        "id": "eVSlYZtVW6oE",
        "outputId": "794d64f3-334d-4fa5-9d41-a77d296bf835"
      },
      "outputs": [
        {
          "name": "stdout",
          "output_type": "stream",
          "text": [
            "Before sorting : [2, 6, 8, 5, 3, 8, 0, 5, 2, 6, 6, 2]\n",
            "After sorting : [0, 2, 2, 2, 3, 5, 5, 6, 6, 6, 8, 8]\n"
          ]
        }
      ],
      "source": [
        "print(f\"Before sorting : {list}\")\n",
        "list.sort()\n",
        "print(f\"After sorting : {list}\")"
      ]
    },
    {
      "cell_type": "markdown",
      "metadata": {
        "id": "QvGrjro4XLVp"
      },
      "source": [
        "**21. Difference between reverse and reversed?**\n",
        "\n",
        "Ans **reverse**() actually reverses the elements in the container. **reversed**() doesn't actually reverse\n",
        "anything, it merely returns an object that can be used to iterate over the container's elements in\n",
        "reverse order. If that's what you need, it's often faster than actually reversing the elements."
      ]
    },
    {
      "cell_type": "code",
      "execution_count": null,
      "metadata": {
        "colab": {
          "base_uri": "https://localhost:8080/"
        },
        "id": "BUvxoM5oXK3S",
        "outputId": "0bfbea85-9ff7-4082-dc6b-63421b9b9035"
      },
      "outputs": [
        {
          "name": "stdout",
          "output_type": "stream",
          "text": [
            "Before sorted : [0, 2, 2, 2, 3, 5, 5, 6, 6, 6, 8, 8]\n",
            "After sorted : [8, 8, 6, 6, 6, 5, 5, 3, 2, 2, 2, 0]\n"
          ]
        }
      ],
      "source": [
        "print(f\"Before sorted : {list}\")\n",
        "list.reverse()\n",
        "print(f\"After sorted : {list}\")"
      ]
    },
    {
      "cell_type": "code",
      "execution_count": null,
      "metadata": {
        "colab": {
          "base_uri": "https://localhost:8080/"
        },
        "id": "H_wgF8JAXeaB",
        "outputId": "486e5b50-ba17-4d8d-cd0b-f04d2c177f73"
      },
      "outputs": [
        {
          "name": "stdout",
          "output_type": "stream",
          "text": [
            "Before sorted : [8, 8, 6, 6, 6, 5, 5, 3, 2, 2, 2, 0]\n",
            "After sorted : [8, 8, 6, 6, 6, 5, 5, 3, 2, 2, 2, 0]\n"
          ]
        }
      ],
      "source": [
        "print(f\"Before sorted : {list}\")\n",
        "reversed(list)\n",
        "print(f\"After sorted : {list}\")"
      ]
    },
    {
      "cell_type": "markdown",
      "metadata": {
        "id": "7cWgDDmfYQcl"
      },
      "source": [
        "**22. Difference between copy and deepcopy?**\n",
        "\n",
        "ans A shallow copy constructs a new compound object and then (to the extent possible) inserts\n",
        "references into it to the objects found in the original. A deep copy constructs a new compound\n",
        "object and then, recursively, inserts copies into it of the objects found in the original.\n"
      ]
    },
    {
      "cell_type": "markdown",
      "metadata": {
        "id": "2FA5HujuYhfZ"
      },
      "source": [
        "**23. How to remove duplicate elements in the list?**\n",
        "\n",
        "Ans To remove the duplicates from a list, you can make use of the built-in function set(). The\n",
        "specialty of the set() method is that it returns distinct elements.\n",
        "\n",
        "\n"
      ]
    },
    {
      "cell_type": "code",
      "execution_count": null,
      "metadata": {
        "colab": {
          "base_uri": "https://localhost:8080/"
        },
        "id": "pJ4ot-haZHlO",
        "outputId": "622084f0-4b7d-4bd2-f014-00aa2eb849be"
      },
      "outputs": [
        {
          "name": "stdout",
          "output_type": "stream",
          "text": [
            "{1, 2, 3, 4, 5, 6, 7, 8, 9, 10, 12}\n"
          ]
        }
      ],
      "source": [
        "set1 = [1,1,1,5,12,2,3,3,4,5,5,5,6,6,6,7,8,9,9,9,9,10,10]\n",
        "print((set(set1)))"
      ]
    },
    {
      "cell_type": "markdown",
      "metadata": {
        "id": "5iG7b10jZUVv"
      },
      "source": [
        "**24.  How to find an index of an element in the python list?**\n",
        "\n",
        "Ans Use the List index() Method to Find the Index of a List in Python"
      ]
    },
    {
      "cell_type": "code",
      "execution_count": null,
      "metadata": {
        "colab": {
          "base_uri": "https://localhost:8080/"
        },
        "id": "5L_XQqJPZ1PC",
        "outputId": "3e16df98-4a68-4c7a-d9a2-25031002ffc9"
      },
      "outputs": [
        {
          "name": "stdout",
          "output_type": "stream",
          "text": [
            "[8, 8, 6, 6, 6, 5, 5, 3, 2, 2, 2, 0]\n",
            "Index of 8 is  0\n"
          ]
        }
      ],
      "source": [
        "print(list)\n",
        "print(\"Index of 6 is \", list.index(6))"
      ]
    },
    {
      "cell_type": "markdown",
      "metadata": {
        "id": "v-tk-zdsaQvj"
      },
      "source": [
        "**25. How to find the occurrences of an element in the python list?**\n",
        "\n",
        "Ans Use list method count() to count number of occurrences."
      ]
    },
    {
      "cell_type": "code",
      "execution_count": null,
      "metadata": {
        "colab": {
          "base_uri": "https://localhost:8080/"
        },
        "id": "ya6qeJvAaYfm",
        "outputId": "b9a338e1-4c9f-454e-b12f-423dc166d7bd"
      },
      "outputs": [
        {
          "name": "stdout",
          "output_type": "stream",
          "text": [
            "Original List : [8, 8, 6, 6, 6, 5, 5, 3, 2, 2, 2, 0]\n",
            "No occurrences of 6 in myList : 3\n"
          ]
        }
      ],
      "source": [
        "print(\"Original List :\", list)\n",
        "print(\"No occurrences of 6 in myList :\", list.count(6))\n"
      ]
    },
    {
      "cell_type": "markdown",
      "metadata": {
        "id": "UfQk6HR_ak0R"
      },
      "source": [
        "**26. How to insert an item at a given position?**\n",
        "\n",
        "Ans insert() is an inbuilt function in Python that inserts a given element at a given index in a list\n"
      ]
    },
    {
      "cell_type": "code",
      "execution_count": null,
      "metadata": {
        "colab": {
          "base_uri": "https://localhost:8080/"
        },
        "id": "my0vyK-3a8jy",
        "outputId": "d1568cc0-60a3-426c-c58e-7ee877a4ac92"
      },
      "outputs": [
        {
          "name": "stdout",
          "output_type": "stream",
          "text": [
            "Before inserting :  [8, 8, 6, 6, 6, 5, 5, 3, 2, 2, 2, 0]\n",
            "After inserting :  [8, 8, 99, 6, 6, 6, 5, 5, 3, 2, 2, 2, 0]\n"
          ]
        }
      ],
      "source": [
        "print(\"Before inserting : \", list)\n",
        "list.insert(2,99)\n",
        "print(\"After inserting : \", list)"
      ]
    },
    {
      "cell_type": "markdown",
      "metadata": {
        "id": "-7QlAPCkbfZ4"
      },
      "source": [
        "**27. How to check if an item is in the list?**\n",
        "\n",
        "Ans "
      ]
    },
    {
      "cell_type": "code",
      "execution_count": 30,
      "metadata": {
        "colab": {
          "base_uri": "https://localhost:8080/"
        },
        "id": "jWpQdzT9bvqo",
        "outputId": "b61a4db5-e43d-4c54-cf25-ce838febf017"
      },
      "outputs": [
        {
          "name": "stdout",
          "output_type": "stream",
          "text": [
            "8 are hear in  List\n",
            "10000 is not  hear in List\n"
          ]
        }
      ],
      "source": [
        "if 8 in list:\n",
        "  print(\"8 are hear in  List\")\n",
        "if 10000 not in list:\n",
        "  print(\"10000 is not  hear in List\")\n"
      ]
    },
    {
      "cell_type": "markdown",
      "metadata": {
        "id": "oHQV5O0ycAXM"
      },
      "source": [
        "**28. How to flatten a list in python?**\n",
        "\n",
        "Ans Flattening a list of lists entails converting a 2D list into a 1D list by un-nesting each list item\n",
        "stored in the list of lists.The process of flattening can be performed using nested for loops, list comprehensions,\n",
        "recursion, built-in functions or by importing libraries in Python depending on the regularity and\n",
        "depth of the nested lists"
      ]
    },
    {
      "cell_type": "code",
      "execution_count": 31,
      "metadata": {
        "colab": {
          "base_uri": "https://localhost:8080/"
        },
        "id": "JZBT0hTzdX99",
        "outputId": "2bd0da69-689a-46aa-aea8-0baf62e0b0d5"
      },
      "outputs": [
        {
          "name": "stdout",
          "output_type": "stream",
          "text": [
            "Original List : [[1, 2, 3], [4, 5, 6], [7, 8, 9]]\n",
            "List after flattening : 1 2 3 4 5 6 7 8 9 "
          ]
        }
      ],
      "source": [
        "myList = [ [1,2,3], [4,5,6], [7,8,9] ]\n",
        "print(\"Original List :\", myList)\n",
        "print(\"List after flattening :\", end=\" \")\n",
        "for lst in myList:\n",
        "  for value in lst:\n",
        "    print(value, end=\" \")"
      ]
    },
    {
      "cell_type": "markdown",
      "metadata": {
        "id": "7yaT8dZRdgKv"
      },
      "source": [
        "**29. How to convert python list to other data structures like set, tuple, dictionary?**\n",
        "\n",
        "Ans "
      ]
    },
    {
      "cell_type": "code",
      "execution_count": null,
      "metadata": {
        "colab": {
          "base_uri": "https://localhost:8080/"
        },
        "id": "KrMcXDJhd0kU",
        "outputId": "600465b7-23fe-4300-b4ae-281d88e2e070"
      },
      "outputs": [
        {
          "data": {
            "text/plain": [
              "set"
            ]
          },
          "execution_count": 89,
          "metadata": {
            "tags": []
          },
          "output_type": "execute_result"
        }
      ],
      "source": [
        "type(set(list))\n"
      ]
    },
    {
      "cell_type": "code",
      "execution_count": null,
      "metadata": {
        "colab": {
          "base_uri": "https://localhost:8080/"
        },
        "id": "pBPvi9c0d5Uz",
        "outputId": "481b811f-31ea-449a-ad0c-0befd8f88d88"
      },
      "outputs": [
        {
          "data": {
            "text/plain": [
              "tuple"
            ]
          },
          "execution_count": 90,
          "metadata": {
            "tags": []
          },
          "output_type": "execute_result"
        }
      ],
      "source": [
        "type(tuple(list))"
      ]
    },
    {
      "cell_type": "code",
      "execution_count": null,
      "metadata": {
        "colab": {
          "base_uri": "https://localhost:8080/"
        },
        "id": "eBpAivfoeAAj",
        "outputId": "40b1c8ea-c487-41da-fc4a-d80fbc3b3af7"
      },
      "outputs": [
        {
          "data": {
            "text/plain": [
              "dict"
            ]
          },
          "execution_count": 91,
          "metadata": {
            "tags": []
          },
          "output_type": "execute_result"
        }
      ],
      "source": [
        "a = {\"Values\" : myList}\n",
        "type(a)\n"
      ]
    },
    {
      "cell_type": "markdown",
      "metadata": {
        "id": "3yuElNQmeDrR"
      },
      "source": [
        "**30. How to apply a function to all items in the list?**\n",
        "\n",
        "Ans Using map() to apply a function to a list."
      ]
    },
    {
      "cell_type": "markdown",
      "metadata": {
        "id": "mid_M-oweU3s"
      },
      "source": [
        "**31. How to filter the elements based on a function in a python list?**\n",
        "\n",
        "Ans Python has a built-in function called filter() that allows you to filter a list (or a tuple) in a more\n",
        "beautiful way. The filter() function iterates over the elements of the list and applies the fn()\n",
        "function to each element. It returns an iterator for the elements where the fn() returns True .\n"
      ]
    },
    {
      "cell_type": "markdown",
      "metadata": {
        "id": "NkgjVHKnedQ9"
      },
      "source": [
        "**32. How python lists are stored in memory?**\n",
        "\n",
        "Ans List consists of two internal parts, one object header,and one seperately allocated array of object\n",
        "references\n",
        "Instead of storing values in the memory space reserved by the variable, Python has the variable\n",
        "refer to the value. Similar to pointers in C, variables in Python refer to values (or objects) stored\n",
        "somewhere in memory. Python keeps an internal counter on how many references an object\n",
        "has."
      ]
    }
  ],
  "metadata": {
    "colab": {
      "collapsed_sections": [],
      "name": "task2.ipynb",
      "provenance": []
    },
    "kernelspec": {
      "display_name": "base",
      "language": "python",
      "name": "python3"
    },
    "language_info": {
      "codemirror_mode": {
        "name": "ipython",
        "version": 3
      },
      "file_extension": ".py",
      "mimetype": "text/x-python",
      "name": "python",
      "nbconvert_exporter": "python",
      "pygments_lexer": "ipython3",
      "version": "3.12.4"
    }
  },
  "nbformat": 4,
  "nbformat_minor": 0
}
