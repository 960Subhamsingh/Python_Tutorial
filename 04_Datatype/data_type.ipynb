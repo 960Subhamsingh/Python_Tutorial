{
 "cells": [
  {
   "cell_type": "markdown",
   "metadata": {},
   "source": [
    "## Keywords\n",
    "***Python is case sensitive***\n",
    "\n",
    "- Keywords: reserved words, special meanings\n",
    "- Cannot use as ***variable names***"
   ]
  },
  {
   "cell_type": "code",
   "execution_count": null,
   "metadata": {},
   "outputs": [],
   "source": [
    "# Python has 33 keywords.\n",
    "import keyword\n",
    "print(keyword.kwlist)"
   ]
  },
  {
   "cell_type": "code",
   "execution_count": null,
   "metadata": {},
   "outputs": [],
   "source": [
    "unicode = u\"\\U0001f600\\U0001F606\\U0001F923\"\n",
    "raw_str = r\"raw \\n string\"\n",
    "unicode\n",
    "raw_str"
   ]
  },
  {
   "cell_type": "code",
   "execution_count": 2,
   "metadata": {},
   "outputs": [
    {
     "data": {
      "text/plain": [
       "5.0"
      ]
     },
     "execution_count": 2,
     "metadata": {},
     "output_type": "execute_result"
    }
   ],
   "source": [
    "# Float – This value is represented by float class. It is a real number with floating point representation.\n",
    "b = 5.0\n",
    "b"
   ]
  },
  {
   "cell_type": "code",
   "execution_count": 3,
   "metadata": {},
   "outputs": [
    {
     "data": {
      "text/plain": [
       "(2+4j)"
      ]
     },
     "execution_count": 3,
     "metadata": {},
     "output_type": "execute_result"
    }
   ],
   "source": [
    "# Complex Numbers – Complex number is represented by complex class. It is specified as (real part) + (imaginary part)j. For example – 2+3j.\n",
    "c = 2+4J\n",
    "c"
   ]
  },
  {
   "cell_type": "code",
   "execution_count": 8,
   "metadata": {},
   "outputs": [
    {
     "name": "stdout",
     "output_type": "stream",
     "text": [
      "\n",
      " Subham\n",
      "<class 'str'>\n"
     ]
    },
    {
     "data": {
      "text/plain": [
       "'h'"
      ]
     },
     "execution_count": 8,
     "metadata": {},
     "output_type": "execute_result"
    }
   ],
   "source": [
    "print(\"\\n Subham\")\n",
    "print(type(\"Kumar\"))\n",
    "s = ''' I'm Subham'''\n",
    "s[8]"
   ]
  },
  {
   "cell_type": "code",
   "execution_count": 16,
   "metadata": {},
   "outputs": [
    {
     "data": {
      "text/plain": [
       "'sAuAbAhAaAm'"
      ]
     },
     "execution_count": 16,
     "metadata": {},
     "output_type": "execute_result"
    }
   ],
   "source": [
    "s = \"A string is a data structure in Python that represents a sequence of characters. It is an immutable data type, meaning that once you have created a string, you cannot change it. \"\n",
    "f = \" \".join(reversed(s))\n",
    "f\n",
    "s[0].join(\"subham\")\n"
   ]
  },
  {
   "cell_type": "code",
   "execution_count": 18,
   "metadata": {},
   "outputs": [
    {
     "data": {
      "text/plain": [
       "'t\\'m a  \"Subham\"'"
      ]
     },
     "execution_count": 18,
     "metadata": {},
     "output_type": "execute_result"
    }
   ],
   "source": [
    "d = \"t'm a  \\\"Subham\\\"\"\n",
    "d"
   ]
  },
  {
   "cell_type": "markdown",
   "metadata": {},
   "source": [
    "## List"
   ]
  },
  {
   "cell_type": "code",
   "execution_count": 1,
   "metadata": {},
   "outputs": [
    {
     "data": {
      "text/plain": [
       "['Subham Kumar', 'Mohan', 'Sohan', 'Sita', 'Gita']"
      ]
     },
     "execution_count": 1,
     "metadata": {},
     "output_type": "execute_result"
    }
   ],
   "source": [
    "# Lists are mutable data structures, that means the data inside can be mutated.\n",
    "''' List is a general data structure widely used in Python programs. They are found in other languages,\n",
    " often referred to as dynamic arrays. '''\n",
    "friends_name: list.__str__ = [\"Subham Kumar\", \"Mohan\" ,\"Sohan\", \"Sita\",\"Gita\"]\n",
    "\n",
    "# List with Index No         [    0,             1,        2,      3,     4   ]\n",
    "\n",
    "friends_name"
   ]
  },
  {
   "cell_type": "code",
   "execution_count": 2,
   "metadata": {},
   "outputs": [
    {
     "name": "stdout",
     "output_type": "stream",
     "text": [
      "3 4\n",
      "10 11 12\n",
      "11\n",
      "('a', 'b', 'c', 'd', 'e', 'f')\n"
     ]
    }
   ],
   "source": [
    "''''Tuple is a sequence of python objects like list with immutable feature.\n",
    " We cannot add or remove an item in tuple.'''\n",
    "x,y = 3,4\n",
    "print (x,y)\n",
    "a,b,c = 10,11,12\n",
    "print(a,b,c)\n",
    "print(b)\n",
    "tuple=('a','b','c','d','e','f')\n",
    "print(tuple)"
   ]
  },
  {
   "cell_type": "code",
   "execution_count": 4,
   "metadata": {},
   "outputs": [
    {
     "name": "stdout",
     "output_type": "stream",
     "text": [
      "{1, 5, 'Hello', 7, 'hi'}\n",
      "{'p', 'n', 'y', 'h', 't', 'o'}\n",
      "{1, 2, 3, 4, 5, 6}\n",
      "{'a'}\n",
      "{'b', 'a'}\n"
     ]
    }
   ],
   "source": [
    "'''\n",
    "A Set is an unordered collection of items. Every element is unique.A Set is created by placing all the\n",
    " items (elements) inside curly braces {}, separated by comma.\n",
    "'''\n",
    "setA=set([1,5,'hi',7,'Hello'])\n",
    "print(setA)\n",
    "\n",
    "# from Stering\n",
    "print(set(\"python\"))\n",
    "# create set from list\n",
    "print(set([1,2,3,4,5,6]))\n",
    "# from dict\n",
    "print(set({'a':'b'}))\n",
    "# from frozen\n",
    "froze = frozenset(('a','b'))\n",
    "print(set(froze))"
   ]
  },
  {
   "cell_type": "code",
   "execution_count": 34,
   "metadata": {},
   "outputs": [
    {
     "name": "stdout",
     "output_type": "stream",
     "text": [
      "Name subham Kumar\n",
      "Name Mohan\n",
      "Name Sohan\n",
      "Name Sita\n",
      "Name Gita\n"
     ]
    }
   ],
   "source": [
    "# print the name with the using of for loop\n",
    "for friends_names in friends_name:\n",
    "    print(f\"Name {friends_names}\")"
   ]
  },
  {
   "cell_type": "code",
   "execution_count": 87,
   "metadata": {},
   "outputs": [
    {
     "name": "stdout",
     "output_type": "stream",
     "text": [
      "unfriend : Subham Kumar\n"
     ]
    }
   ],
   "source": [
    "# remove last name from friends list \n",
    "unfriend = friends_name.pop()\n",
    "# remove the second_last name of friend_list\n",
    "# unfriend = friends_name.pop(2)\n",
    "print(f\"unfriend : {unfriend}\")"
   ]
  },
  {
   "cell_type": "code",
   "execution_count": 44,
   "metadata": {},
   "outputs": [
    {
     "name": "stdout",
     "output_type": "stream",
     "text": [
      "friends_name: ['subham Kumar', 'Mohan', 'Sohan', 'Moni', 'Moni']\n"
     ]
    }
   ],
   "source": [
    "# add last_name from friend list\n",
    "friends_name.append('Moni')\n",
    "print(f'friends_name: {friends_name}')"
   ]
  },
  {
   "cell_type": "code",
   "execution_count": 45,
   "metadata": {},
   "outputs": [
    {
     "name": "stdout",
     "output_type": "stream",
     "text": [
      "Sohan\n"
     ]
    }
   ],
   "source": [
    "# print the index number of 2\n",
    "print(friends_name[2])"
   ]
  },
  {
   "cell_type": "code",
   "execution_count": 52,
   "metadata": {},
   "outputs": [
    {
     "name": "stdout",
     "output_type": "stream",
     "text": [
      "friends_name : ['subham Kumar', 'Sohan', 'Moni', 'Moni']\n"
     ]
    }
   ],
   "source": [
    "# remove the specific name of the friend list\n",
    "\n",
    "print(f\"friends_name : {friends_name}\")"
   ]
  },
  {
   "cell_type": "code",
   "execution_count": 64,
   "metadata": {},
   "outputs": [
    {
     "name": "stdout",
     "output_type": "stream",
     "text": [
      "['subham Kumar', 'Ram', 'Ram', 'Sohan', 'Moni', 'Moni']\n"
     ]
    }
   ],
   "source": [
    "# add  the  name of the  friends list with use in the  index position \n",
    "friends_name.insert(1, \"Ram\")\n",
    "print(friends_name)"
   ]
  },
  {
   "cell_type": "code",
   "execution_count": 72,
   "metadata": {},
   "outputs": [
    {
     "name": "stdout",
     "output_type": "stream",
     "text": [
      "Yes, Subham kumar in the friends_list \n"
     ]
    }
   ],
   "source": [
    "# check the shubham kumar in a friends list ,otherwise print no available in the friend list\n",
    "\n",
    "if \"Subham Kumar\" in friends_name:\n",
    "    print(\"Yes, Subham kumar in the friends_list \")\n",
    "else:\n",
    "    print(\"No , Subham Kumar in the friends_list\")"
   ]
  },
  {
   "cell_type": "code",
   "execution_count": 82,
   "metadata": {},
   "outputs": [
    {
     "name": "stdout",
     "output_type": "stream",
     "text": [
      "friends_name : ['Subham Kumar', 'Mohan', 'Sohan', 'Sita', 'Gita']\n"
     ]
    }
   ],
   "source": [
    "# reverse the name of friends_list \n",
    "friends_name.reverse()\n",
    "print(f\"friends_name : {friends_name}\")"
   ]
  },
  {
   "cell_type": "code",
   "execution_count": 70,
   "metadata": {},
   "outputs": [
    {
     "name": "stdout",
     "output_type": "stream",
     "text": [
      "friends_names:  4\n"
     ]
    }
   ],
   "source": [
    "# count how many friends are in friends_name\n",
    "print(f\"friends_names:  {len(friends_names)}\") "
   ]
  },
  {
   "cell_type": "code",
   "execution_count": 19,
   "metadata": {},
   "outputs": [
    {
     "data": {
      "text/plain": [
       "'10100101'"
      ]
     },
     "execution_count": 19,
     "metadata": {},
     "output_type": "execute_result"
    }
   ],
   "source": [
    "Dict = {'Name': 'Geeks', 1: [1, 2, 3, 4]} \n",
    "Dict = dict({1: 'Geeks', 2: 'For', 3:'Geeks'}) \n",
    "\n",
    "Dict\n",
    "\n",
    "s = \"{} {} {}\".format('Geeks', 'For', 'Life')\n",
    "s\n",
    "f = \"{0:b}\".format(165)\n",
    "f"
   ]
  },
  {
   "cell_type": "code",
   "execution_count": 84,
   "metadata": {},
   "outputs": [
    {
     "name": "stdout",
     "output_type": "stream",
     "text": [
      "Hello\n"
     ]
    }
   ],
   "source": [
    "s = \"\\110\\145\\154\\154\\157\"\n",
    "print(s)"
   ]
  },
  {
   "cell_type": "markdown",
   "metadata": {},
   "source": [
    "string formating"
   ]
  },
  {
   "cell_type": "code",
   "execution_count": 90,
   "metadata": {},
   "outputs": [
    {
     "name": "stdout",
     "output_type": "stream",
     "text": [
      "\n",
      "Binary representation of 16 is \n",
      "10000\n",
      "\n",
      "Exponent representation of 165.6458 is \n",
      "1.656458e+02\n",
      "\n",
      "one-sixth is : \n",
      "0.17\n",
      "|subham    |  kumarr  |     singh|\n",
      "\n",
      "     Subham      was founded in 2001!\n"
     ]
    }
   ],
   "source": [
    "# Formatting of Integers\n",
    "Str = \"{0:b}\".format(16)\n",
    "print(\"\\nBinary representation of 16 is \")\n",
    "print(Str)\n",
    " \n",
    "# Formatting of Floats\n",
    "Str = \"{0:e}\".format(165.6458)\n",
    "print(\"\\nExponent representation of 165.6458 is \")\n",
    "print(Str)\n",
    "\n",
    "# Rounding off Integers\n",
    "Str = \"{0:.2f}\".format(1/6)\n",
    "print(\"\\none-sixth is : \")\n",
    "print(Str)\n",
    "\n",
    "#  A string can be left() or center(^) justified with the use of format specifiers, separated by a colon(:).  \n",
    "\n",
    "Str = \"|{:<10}|{:^10}|{:>10}|\".format('subham','kumarr','singh')\n",
    "print(Str)\n",
    "\n",
    "# To demonstrate aligning of spaces\n",
    "Str = \"\\n{0:^16} was founded in {1:<4}!\".format(\"Subham\",2001)\n",
    "print(Str)\n"
   ]
  },
  {
   "cell_type": "code",
   "execution_count": 1,
   "metadata": {},
   "outputs": [],
   "source": [
    "# try:\n",
    "#     file = open(\"./product.sql\")\n",
    "# finally:\n",
    "#     file.close()"
   ]
  },
  {
   "cell_type": "markdown",
   "metadata": {},
   "source": [
    "Dictionary\n",
    "- Dictionaries in python are unordered  collection of items,a dictionary is closed by curly brackets. Dictionary hold pair of Key and Value (key:value). Key and value are separated by (:) , whereas each item in dictionary is separated by comma (,).\n"
   ]
  },
  {
   "cell_type": "code",
   "execution_count": 1,
   "metadata": {},
   "outputs": [
    {
     "name": "stdout",
     "output_type": "stream",
     "text": [
      "org1= {'a': 1, 'b': 3435, 'c': [12, 3, 34, 54, 45]}\n",
      "2259746995136\n",
      "2259746731776\n"
     ]
    }
   ],
   "source": [
    "org = {'a' : 1 , 'b': 21, 'c': [12,3,34,54,45]}\n",
    "\n",
    "org1 =org.copy()\n",
    "\n",
    "org1['b'] = 3435\n",
    "\n",
    "print(f'{org1= }')\n",
    "\n",
    "# id() function will tell us where in memory data are stored\n",
    "print(id(org))\n",
    "\n",
    "print(id(org1))"
   ]
  },
  {
   "cell_type": "code",
   "execution_count": 3,
   "metadata": {},
   "outputs": [
    {
     "data": {
      "text/plain": [
       "dict_keys(['a', 'b', 'c'])"
      ]
     },
     "execution_count": 3,
     "metadata": {},
     "output_type": "execute_result"
    }
   ],
   "source": [
    "org.keys()"
   ]
  },
  {
   "cell_type": "markdown",
   "metadata": {},
   "source": [
    "deep function"
   ]
  },
  {
   "cell_type": "code",
   "execution_count": 15,
   "metadata": {},
   "outputs": [
    {
     "data": {
      "text/plain": [
       "{'a': [1, 2, 3], 'b': 2, 'c': [1, 2, 3]}"
      ]
     },
     "execution_count": 15,
     "metadata": {},
     "output_type": "execute_result"
    }
   ],
   "source": [
    "from copy import deepcopy\n",
    "original = {'a': [1,2,3], 'b': 2, 'c': [1, 2, 3]}\n",
    "copied = deepcopy(original)\n",
    "copied"
   ]
  },
  {
   "cell_type": "markdown",
   "metadata": {},
   "source": [
    "Range Function"
   ]
  },
  {
   "cell_type": "code",
   "execution_count": 107,
   "metadata": {},
   "outputs": [
    {
     "name": "stdout",
     "output_type": "stream",
     "text": [
      "0\n",
      "1\n",
      "2\n",
      "3\n"
     ]
    }
   ],
   "source": [
    "# The range() function returns a sequence of numbers between the give range.\n",
    "\n",
    "# create a sequence of numbers from 0 to 3\n",
    "num = range(4)\n",
    "\n",
    "# iterating through the sequence of numbers\n",
    "for i in num:\n",
    "    print(i)\n"
   ]
  },
  {
   "cell_type": "code",
   "execution_count": 110,
   "metadata": {},
   "outputs": [
    {
     "name": "stdout",
     "output_type": "stream",
     "text": [
      "[2, 4, 6, 8, 10, 12, 14, 16, 18, 20, 22, 24, 26, 28, 30, 32, 34, 36, 38, 40, 42, 44, 46, 48, 50, 52, 54, 56, 58, 60, 62, 64, 66, 68, 70, 72, 74, 76, 78, 80, 82, 84, 86, 88, 90, 92, 94, 96, 98]\n"
     ]
    }
   ],
   "source": [
    "# numbers from 2 to 10 with increment 3 between numbers\n",
    "num = range(2 ,100, 2)\n",
    "print(list(num))"
   ]
  },
  {
   "cell_type": "markdown",
   "metadata": {},
   "source": [
    "setattr() </br>\n",
    "The setattr() function takes three parameters: </br>\n",
    "•\tobject - object whose attribute has to be set</br>\n",
    "•\tname - attribute name</br>\n",
    "•\tvalue - value given to the attribute\n"
   ]
  },
  {
   "cell_type": "code",
   "execution_count": 112,
   "metadata": {},
   "outputs": [
    {
     "name": "stdout",
     "output_type": "stream",
     "text": [
      "Adam\n",
      "78\n"
     ]
    }
   ],
   "source": [
    "# setattr() function sets the value of the attribute of an object.\n",
    "class Student:\n",
    "  marks = 88\n",
    "  name = 'Sheeran'\n",
    "\n",
    "person = Student()\n",
    "\n",
    "# set value of name to Adam\n",
    "setattr(person, 'name', 'Adam')\n",
    "\n",
    "print(person.name)\n",
    "\n",
    "# set value of marks to 78\n",
    "setattr(person, 'marks', 78)\n",
    "\n",
    "print(person.marks)\n"
   ]
  },
  {
   "cell_type": "markdown",
   "metadata": {},
   "source": [
    "- Python is a case sensitive programming language"
   ]
  },
  {
   "cell_type": "markdown",
   "metadata": {},
   "source": [
    "In programming, a keyword is a word that is reserved by a program because the word has a special meaning. Keywords can be commands or parameters. Every programming language has a set of keywords that cannot be used as variable names"
   ]
  },
  {
   "cell_type": "code",
   "execution_count": 3,
   "metadata": {},
   "outputs": [
    {
     "name": "stdout",
     "output_type": "stream",
     "text": [
      "['False', 'None', 'True', 'and', 'as', 'assert', 'async', 'await', 'break', 'class', 'continue', 'def', 'del', 'elif', 'else', 'except', 'finally', 'for', 'from', 'global', 'if', 'import', 'in', 'is', 'lambda', 'nonlocal', 'not', 'or', 'pass', 'raise', 'return', 'try', 'while', 'with', 'yield']\n"
     ]
    }
   ],
   "source": [
    "import keyword\n",
    "print(keyword.kwlist)"
   ]
  },
  {
   "cell_type": "markdown",
   "metadata": {},
   "source": [
    "## Identifiers  \n",
    "A Python identifier is a name used to identify a variable, function, class, module or other object.\n",
    "\n",
    "Rules for setting Identifiers\n",
    "\n",
    "- can only start with an alphabet or _\n",
    "- Followed by 0 or more letter,_ and digits\n",
    "- keywords cannot be used as an identifiers "
   ]
  },
  {
   "cell_type": "code",
   "execution_count": 129,
   "metadata": {},
   "outputs": [
    {
     "ename": "TypeError",
     "evalue": "number.__init__() takes 1 positional argument but 2 were given",
     "output_type": "error",
     "traceback": [
      "\u001b[1;31m---------------------------------------------------------------------------\u001b[0m",
      "\u001b[1;31mTypeError\u001b[0m                                 Traceback (most recent call last)",
      "Cell \u001b[1;32mIn[129], line 15\u001b[0m\n\u001b[0;32m     12\u001b[0m         \u001b[38;5;28;01mreturn\u001b[39;00m \u001b[38;5;28mself\u001b[39m\u001b[38;5;241m.\u001b[39mnum\n\u001b[0;32m     14\u001b[0m \u001b[38;5;66;03m# print_num is an iterable\u001b[39;00m\n\u001b[1;32m---> 15\u001b[0m print_num \u001b[38;5;241m=\u001b[39m \u001b[43mnumber\u001b[49m\u001b[43m(\u001b[49m\u001b[38;5;241;43m5\u001b[39;49m\u001b[43m)\u001b[49m\n\u001b[0;32m     17\u001b[0m \u001b[38;5;66;03m# creating a set\u001b[39;00m\n\u001b[0;32m     18\u001b[0m \u001b[38;5;28mprint\u001b[39m(\u001b[38;5;28mset\u001b[39m(print_num))\n",
      "\u001b[1;31mTypeError\u001b[0m: number.__init__() takes 1 positional argument but 2 were given"
     ]
    }
   ],
   "source": [
    "# Create set() for a custom iterable object\n",
    "class number:\n",
    "    def __init__(self):\n",
    "        self.max = max\n",
    "    def __iter__(self):\n",
    "        self.num = 0\n",
    "        return self\n",
    "    def __next__(self):\n",
    "        if(self.num >= self.max):\n",
    "              raise StopIteration\n",
    "        self.num += 1\n",
    "        return self.num\n",
    "    \n",
    "# print_num is an iterable\n",
    "print_num = number(5)\n",
    "\n",
    "# creating a set\n",
    "print(set(print_num))\n"
   ]
  },
  {
   "cell_type": "code",
   "execution_count": 132,
   "metadata": {},
   "outputs": [
    {
     "name": "stdout",
     "output_type": "stream",
     "text": [
      "[(2, 3), (3, 4)]\n"
     ]
    }
   ],
   "source": [
    "# Sort the list using sorted() having a key function\n",
    "def take_second(elem):\n",
    "    return elem[1]\n",
    "random = [(2,3),(3,4)]\n",
    "print(sorted(random))"
   ]
  },
  {
   "cell_type": "code",
   "execution_count": 144,
   "metadata": {},
   "outputs": [
    {
     "name": "stdout",
     "output_type": "stream",
     "text": [
      "1 2 3 4 5 6 7 8 9 10 \n",
      "11 22 33 44 55 66 77 88 99 110 \n"
     ]
    }
   ],
   "source": [
    "# write a table 2 and 10\n",
    "def table(start , stop):\n",
    "    for x in (start , stop+1):\n",
    "        for y in range(start , stop+1):\n",
    "            print(str(x*y), end=\" \" )\n",
    "        print()\n",
    "table(1,10)"
   ]
  },
  {
   "cell_type": "code",
   "execution_count": 1,
   "metadata": {},
   "outputs": [
    {
     "name": "stdout",
     "output_type": "stream",
     "text": [
      "18 * 1 = 18\n",
      "18 * 2 = 36\n",
      "18 * 3 = 54\n",
      "18 * 4 = 72\n",
      "18 * 5 = 90\n",
      "18 * 6 = 108\n",
      "18 * 7 = 126\n",
      "18 * 8 = 144\n",
      "18 * 9 = 162\n",
      "18 * 10 = 180\n"
     ]
    }
   ],
   "source": [
    "num = int(input(\"Enter the number : \"))\n",
    "\n",
    "for i in range(1, 11):\n",
    "    print(\"%d * %d = %d\" % (num , i , num*i))"
   ]
  },
  {
   "cell_type": "code",
   "execution_count": 27,
   "metadata": {},
   "outputs": [
    {
     "name": "stdout",
     "output_type": "stream",
     "text": [
      "15 * 1 = 15\n",
      "15 * 2 = 30\n",
      "15 * 3 = 45\n",
      "15 * 4 = 60\n",
      "15 * 5 = 75\n",
      "15 * 6 = 90\n",
      "15 * 7 = 105\n",
      "15 * 8 = 120\n",
      "15 * 9 = 135\n",
      "15 * 10 = 150\n"
     ]
    }
   ],
   "source": [
    "num = int(input(\"Enter the number : \"))\n",
    "i = 1\n",
    "while(i<=10):\n",
    "    \n",
    "    print(\"%d * %d = %d\" %(num, i , num*i))\n",
    "    i=i+1"
   ]
  },
  {
   "cell_type": "code",
   "execution_count": 28,
   "metadata": {},
   "outputs": [
    {
     "name": "stdout",
     "output_type": "stream",
     "text": [
      "16\n",
      "32\n",
      "48\n",
      "64\n",
      "80\n",
      "96\n",
      "112\n",
      "128\n",
      "144\n",
      "160\n"
     ]
    }
   ],
   "source": [
    "num = int(input(\"Enter the number : \"))\n",
    "i = 1\n",
    "while(i<=10):\n",
    "    num2 = num*i\n",
    "    print(num2)\n",
    "    i=i+1"
   ]
  },
  {
   "cell_type": "code",
   "execution_count": null,
   "metadata": {},
   "outputs": [],
   "source": [
    "n = 12\n",
    "i=1\n",
    "while(i<=10):\n",
    "    c = n*i\n",
    "    print(n ,\"*\" , i , \"=\" , n*i )"
   ]
  },
  {
   "cell_type": "code",
   "execution_count": 11,
   "metadata": {},
   "outputs": [
    {
     "name": "stdout",
     "output_type": "stream",
     "text": [
      "12 x 1 =13\n",
      "12 x 2 =14\n",
      "12 x 3 =15\n",
      "12 x 4 =16\n",
      "12 x 5 =17\n",
      "12 x 6 =18\n",
      "12 x 7 =19\n",
      "12 x 8 =20\n",
      "12 x 9 =21\n",
      "12 x 10 =22\n",
      "12 x 11 =23\n",
      "12 x 12 =24\n",
      "done!!!!\n"
     ]
    }
   ],
   "source": [
    "b = 12\n",
    "a=0\n",
    "while(a<=11):\n",
    "    a=a+1\n",
    "    c+=1\n",
    "    print( str(b)+' x '+str(a)+' ='+str(c))\n",
    "\n",
    "print('done!!!!')\n"
   ]
  },
  {
   "cell_type": "code",
   "execution_count": 25,
   "metadata": {},
   "outputs": [
    {
     "name": "stdout",
     "output_type": "stream",
     "text": [
      "12 x 1 = 12\n",
      "12 x 2 = 24\n",
      "12 x 3 = 36\n",
      "12 x 4 = 48\n",
      "12 x 5 = 60\n",
      "12 x 6 = 72\n",
      "12 x 7 = 84\n",
      "12 x 8 = 96\n",
      "12 x 9 = 108\n",
      "12 x 10 = 120\n"
     ]
    }
   ],
   "source": [
    "for i in range(1, 11):\n",
    "    print(12,\"x\" ,i ,\"=\", 12*i )"
   ]
  },
  {
   "cell_type": "code",
   "execution_count": 3,
   "metadata": {},
   "outputs": [
    {
     "name": "stdout",
     "output_type": "stream",
     "text": [
      "\n",
      "\n",
      "1\t2\t3\t4\t5\t6\t7\t8\t9\t10\t\n",
      "\n",
      "2\t4\t6\t8\t10\t12\t14\t16\t18\t20\t\n",
      "\n",
      "3\t6\t9\t12\t15\t18\t21\t24\t27\t30\t\n",
      "\n",
      "4\t8\t12\t16\t20\t24\t28\t32\t36\t40\t\n",
      "\n",
      "5\t10\t15\t20\t25\t30\t35\t40\t45\t50\t\n",
      "\n",
      "6\t12\t18\t24\t30\t36\t42\t48\t54\t60\t\n",
      "\n",
      "7\t14\t21\t28\t35\t42\t49\t56\t63\t70\t\n",
      "\n",
      "8\t16\t24\t32\t40\t48\t56\t64\t72\t80\t\n",
      "\n",
      "9\t18\t27\t36\t45\t54\t63\t72\t81\t90\t\n",
      "\n",
      "10\t20\t30\t40\t50\t60\t70\t80\t90\t100\t"
     ]
    }
   ],
   "source": [
    "for i in range(1 ,11):\n",
    "    print(\"\\n\")\n",
    "    for j in range(1,11):\n",
    "        print(i*j , end='\\t')"
   ]
  },
  {
   "cell_type": "code",
   "execution_count": 10,
   "metadata": {},
   "outputs": [
    {
     "name": "stdout",
     "output_type": "stream",
     "text": [
      "1\t2\t3\t4\t5\t6\t7\t8\t9\t10\t\n",
      "\n",
      "2\t4\t6\t8\t10\t12\t14\t16\t18\t20\t\n",
      "\n",
      "3\t6\t9\t12\t15\t18\t21\t24\t27\t30\t\n",
      "\n",
      "4\t8\t12\t16\t20\t24\t28\t32\t36\t40\t\n",
      "\n",
      "5\t10\t15\t20\t25\t30\t35\t40\t45\t50\t\n",
      "\n",
      "6\t12\t18\t24\t30\t36\t42\t48\t54\t60\t\n",
      "\n",
      "7\t14\t21\t28\t35\t42\t49\t56\t63\t70\t\n",
      "\n",
      "8\t16\t24\t32\t40\t48\t56\t64\t72\t80\t\n",
      "\n",
      "9\t18\t27\t36\t45\t54\t63\t72\t81\t90\t\n",
      "\n",
      "10\t20\t30\t40\t50\t60\t70\t80\t90\t100\t\n",
      "\n",
      "Done\n"
     ]
    }
   ],
   "source": [
    "for i in range(1, 11):\n",
    "    for j in range(1, 11):\n",
    "        print(i*j , end=\"\\t\")\n",
    "    print(\"\\n\")\n",
    "print(\"Done\")"
   ]
  },
  {
   "cell_type": "code",
   "execution_count": 22,
   "metadata": {},
   "outputs": [
    {
     "name": "stdout",
     "output_type": "stream",
     "text": [
      "1\t2\t3\t4\t5\t6\t7\t8\t9\t10\t\n",
      "2\t4\t6\t8\t10\t12\t14\t16\t18\t20\t\n",
      "3\t6\t9\t12\t15\t18\t21\t24\t27\t30\t\n",
      "4\t8\t12\t16\t20\t24\t28\t32\t36\t40\t\n",
      "5\t10\t15\t20\t25\t30\t35\t40\t45\t50\t\n",
      "6\t12\t18\t24\t30\t36\t42\t48\t54\t60\t\n",
      "7\t14\t21\t28\t35\t42\t49\t56\t63\t70\t\n",
      "8\t16\t24\t32\t40\t48\t56\t64\t72\t80\t\n",
      "9\t18\t27\t36\t45\t54\t63\t72\t81\t90\t\n",
      "10\t20\t30\t40\t50\t60\t70\t80\t90\t100\t\n",
      "11\t22\t33\t44\t55\t66\t77\t88\t99\t110\t\n",
      "12\t24\t36\t48\t60\t72\t84\t96\t108\t120\t\n",
      "13\t26\t39\t52\t65\t78\t91\t104\t117\t130\t\n",
      "14\t28\t42\t56\t70\t84\t98\t112\t126\t140\t\n",
      "15\t30\t45\t60\t75\t90\t105\t120\t135\t150\t\n",
      "16\t32\t48\t64\t80\t96\t112\t128\t144\t160\t\n",
      "17\t34\t51\t68\t85\t102\t119\t136\t153\t170\t\n",
      "18\t36\t54\t72\t90\t108\t126\t144\t162\t180\t\n",
      "19\t38\t57\t76\t95\t114\t133\t152\t171\t190\t\n",
      "20\t40\t60\t80\t100\t120\t140\t160\t180\t200\t\n",
      "21\t42\t63\t84\t105\t126\t147\t168\t189\t210\t\n",
      "22\t44\t66\t88\t110\t132\t154\t176\t198\t220\t\n",
      "23\t46\t69\t92\t115\t138\t161\t184\t207\t230\t\n",
      "24\t48\t72\t96\t120\t144\t168\t192\t216\t240\t\n",
      "25\t50\t75\t100\t125\t150\t175\t200\t225\t250\t\n",
      "26\t52\t78\t104\t130\t156\t182\t208\t234\t260\t\n",
      "27\t54\t81\t108\t135\t162\t189\t216\t243\t270\t\n",
      "28\t56\t84\t112\t140\t168\t196\t224\t252\t280\t\n",
      "29\t58\t87\t116\t145\t174\t203\t232\t261\t290\t\n",
      "30\t60\t90\t120\t150\t180\t210\t240\t270\t300\t\n",
      "31\t62\t93\t124\t155\t186\t217\t248\t279\t310\t\n",
      "32\t64\t96\t128\t160\t192\t224\t256\t288\t320\t\n",
      "33\t66\t99\t132\t165\t198\t231\t264\t297\t330\t\n",
      "34\t68\t102\t136\t170\t204\t238\t272\t306\t340\t\n",
      "35\t70\t105\t140\t175\t210\t245\t280\t315\t350\t\n",
      "36\t72\t108\t144\t180\t216\t252\t288\t324\t360\t\n",
      "37\t74\t111\t148\t185\t222\t259\t296\t333\t370\t\n",
      "38\t76\t114\t152\t190\t228\t266\t304\t342\t380\t\n",
      "39\t78\t117\t156\t195\t234\t273\t312\t351\t390\t\n",
      "40\t80\t120\t160\t200\t240\t280\t320\t360\t400\t\n",
      "41\t82\t123\t164\t205\t246\t287\t328\t369\t410\t\n",
      "42\t84\t126\t168\t210\t252\t294\t336\t378\t420\t\n",
      "43\t86\t129\t172\t215\t258\t301\t344\t387\t430\t\n",
      "44\t88\t132\t176\t220\t264\t308\t352\t396\t440\t\n",
      "45\t90\t135\t180\t225\t270\t315\t360\t405\t450\t\n",
      "46\t92\t138\t184\t230\t276\t322\t368\t414\t460\t\n",
      "47\t94\t141\t188\t235\t282\t329\t376\t423\t470\t\n",
      "48\t96\t144\t192\t240\t288\t336\t384\t432\t480\t\n",
      "49\t98\t147\t196\t245\t294\t343\t392\t441\t490\t\n",
      "50\t100\t150\t200\t250\t300\t350\t400\t450\t500\t\n",
      "51\t102\t153\t204\t255\t306\t357\t408\t459\t510\t\n",
      "52\t104\t156\t208\t260\t312\t364\t416\t468\t520\t\n",
      "53\t106\t159\t212\t265\t318\t371\t424\t477\t530\t\n",
      "54\t108\t162\t216\t270\t324\t378\t432\t486\t540\t\n",
      "55\t110\t165\t220\t275\t330\t385\t440\t495\t550\t\n",
      "56\t112\t168\t224\t280\t336\t392\t448\t504\t560\t\n",
      "57\t114\t171\t228\t285\t342\t399\t456\t513\t570\t\n",
      "58\t116\t174\t232\t290\t348\t406\t464\t522\t580\t\n",
      "59\t118\t177\t236\t295\t354\t413\t472\t531\t590\t\n",
      "60\t120\t180\t240\t300\t360\t420\t480\t540\t600\t\n",
      "61\t122\t183\t244\t305\t366\t427\t488\t549\t610\t\n",
      "62\t124\t186\t248\t310\t372\t434\t496\t558\t620\t\n",
      "63\t126\t189\t252\t315\t378\t441\t504\t567\t630\t\n",
      "64\t128\t192\t256\t320\t384\t448\t512\t576\t640\t\n",
      "65\t130\t195\t260\t325\t390\t455\t520\t585\t650\t\n",
      "66\t132\t198\t264\t330\t396\t462\t528\t594\t660\t\n",
      "67\t134\t201\t268\t335\t402\t469\t536\t603\t670\t\n",
      "68\t136\t204\t272\t340\t408\t476\t544\t612\t680\t\n",
      "69\t138\t207\t276\t345\t414\t483\t552\t621\t690\t\n",
      "70\t140\t210\t280\t350\t420\t490\t560\t630\t700\t\n",
      "71\t142\t213\t284\t355\t426\t497\t568\t639\t710\t\n",
      "72\t144\t216\t288\t360\t432\t504\t576\t648\t720\t\n",
      "73\t146\t219\t292\t365\t438\t511\t584\t657\t730\t\n",
      "74\t148\t222\t296\t370\t444\t518\t592\t666\t740\t\n",
      "75\t150\t225\t300\t375\t450\t525\t600\t675\t750\t\n",
      "76\t152\t228\t304\t380\t456\t532\t608\t684\t760\t\n",
      "77\t154\t231\t308\t385\t462\t539\t616\t693\t770\t\n",
      "78\t156\t234\t312\t390\t468\t546\t624\t702\t780\t\n",
      "79\t158\t237\t316\t395\t474\t553\t632\t711\t790\t\n",
      "80\t160\t240\t320\t400\t480\t560\t640\t720\t800\t\n",
      "81\t162\t243\t324\t405\t486\t567\t648\t729\t810\t\n",
      "82\t164\t246\t328\t410\t492\t574\t656\t738\t820\t\n",
      "83\t166\t249\t332\t415\t498\t581\t664\t747\t830\t\n",
      "84\t168\t252\t336\t420\t504\t588\t672\t756\t840\t\n",
      "85\t170\t255\t340\t425\t510\t595\t680\t765\t850\t\n",
      "86\t172\t258\t344\t430\t516\t602\t688\t774\t860\t\n",
      "87\t174\t261\t348\t435\t522\t609\t696\t783\t870\t\n",
      "88\t176\t264\t352\t440\t528\t616\t704\t792\t880\t\n",
      "89\t178\t267\t356\t445\t534\t623\t712\t801\t890\t\n",
      "90\t180\t270\t360\t450\t540\t630\t720\t810\t900\t\n",
      "91\t182\t273\t364\t455\t546\t637\t728\t819\t910\t\n",
      "92\t184\t276\t368\t460\t552\t644\t736\t828\t920\t\n",
      "93\t186\t279\t372\t465\t558\t651\t744\t837\t930\t\n",
      "94\t188\t282\t376\t470\t564\t658\t752\t846\t940\t\n",
      "95\t190\t285\t380\t475\t570\t665\t760\t855\t950\t\n",
      "96\t192\t288\t384\t480\t576\t672\t768\t864\t960\t\n",
      "97\t194\t291\t388\t485\t582\t679\t776\t873\t970\t\n",
      "98\t196\t294\t392\t490\t588\t686\t784\t882\t980\t\n",
      "99\t198\t297\t396\t495\t594\t693\t792\t891\t990\t\n",
      "100\t200\t300\t400\t500\t600\t700\t800\t900\t1000\t\n"
     ]
    }
   ],
   "source": [
    "for num in range(1, 101):\n",
    "    for num2 in range(1, 11):\n",
    "        print(num*num2 , end=\"\\t\")\n",
    "    print()"
   ]
  },
  {
   "cell_type": "code",
   "execution_count": 3,
   "metadata": {},
   "outputs": [
    {
     "name": "stdout",
     "output_type": "stream",
     "text": [
      "\n",
      "\n",
      "Multiplication table of 12\n",
      "\n",
      "12 * 1 = 12\t\n",
      "12 * 2 = 24\t\n",
      "12 * 3 = 36\t\n",
      "12 * 4 = 48\t\n",
      "12 * 5 = 60\t\n",
      "12 * 6 = 72\t\n",
      "12 * 7 = 84\t\n",
      "12 * 8 = 96\t\n",
      "12 * 9 = 108\t\n",
      "12 * 10 = 120\t\n",
      "\n",
      "\n",
      "Multiplication table of 13\n",
      "\n",
      "13 * 1 = 13\t\n",
      "13 * 2 = 26\t\n",
      "13 * 3 = 39\t\n",
      "13 * 4 = 52\t\n",
      "13 * 5 = 65\t\n",
      "13 * 6 = 78\t\n",
      "13 * 7 = 91\t\n",
      "13 * 8 = 104\t\n",
      "13 * 9 = 117\t\n",
      "13 * 10 = 130\t\n",
      "\n",
      "\n",
      "Multiplication table of 14\n",
      "\n",
      "14 * 1 = 14\t\n",
      "14 * 2 = 28\t\n",
      "14 * 3 = 42\t\n",
      "14 * 4 = 56\t\n",
      "14 * 5 = 70\t\n",
      "14 * 6 = 84\t\n",
      "14 * 7 = 98\t\n",
      "14 * 8 = 112\t\n",
      "14 * 9 = 126\t\n",
      "14 * 10 = 140\t\n"
     ]
    }
   ],
   "source": [
    "start = int(input('Start: '))\n",
    "end = int(input('End: '))\n",
    "\n",
    "# print multiplication table\n",
    "for i in range (start, end+1):\n",
    "    print('\\n\\nMultiplication table of %d\\n' %(i))\n",
    "    for j in range(1, 11 ):\n",
    "        print('%d * %d = %d\\t' %(i, j, i*j))\n"
   ]
  },
  {
   "cell_type": "code",
   "execution_count": 4,
   "metadata": {},
   "outputs": [],
   "source": [
    "num = int(input(\"Multiplication using value? : \"))\n",
    " \n",
    "while num <= 10:\n",
    "    i = 1\n",
    "    while i <= num:\n",
    "        product = num*i\n",
    "        print(num, \" * \", i, \" = \", product, \"\\n\")\n",
    "        i = i + 1\n",
    "    print(\"\\n\")\n",
    "    num = num + 1\n",
    "while num <= 10:\n",
    "    i = 1\n",
    "    while i <= 10:\n",
    "        product = num*i\n",
    "        print(num, \" * \", i, \" = \", product, \"\\n\")\n",
    "        i = i + 1\n",
    "    num = num + 1\n",
    "    print(\"\\n\")\n",
    "\n"
   ]
  },
  {
   "cell_type": "code",
   "execution_count": 5,
   "metadata": {},
   "outputs": [
    {
     "name": "stdout",
     "output_type": "stream",
     "text": [
      "1  *  1  =  1\n",
      "1  *  2  =  2\n",
      "1  *  3  =  3\n",
      "1  *  4  =  4\n",
      "1  *  5  =  5\n",
      "1  *  6  =  6\n",
      "1  *  7  =  7\n",
      "1  *  8  =  8\n",
      "1  *  9  =  9\n",
      "1  *  10  =  10\n",
      "1  *  11  =  11\n",
      "1  *  12  =  12\n",
      "1  *  13  =  13\n",
      "1  *  14  =  14\n",
      "\n",
      "2  *  1  =  2\n",
      "2  *  2  =  4\n",
      "2  *  3  =  6\n",
      "2  *  4  =  8\n",
      "2  *  5  =  10\n",
      "2  *  6  =  12\n",
      "2  *  7  =  14\n",
      "2  *  8  =  16\n",
      "2  *  9  =  18\n",
      "2  *  10  =  20\n",
      "2  *  11  =  22\n",
      "2  *  12  =  24\n",
      "2  *  13  =  26\n",
      "2  *  14  =  28\n",
      "\n",
      "3  *  1  =  3\n",
      "3  *  2  =  6\n",
      "3  *  3  =  9\n",
      "3  *  4  =  12\n",
      "3  *  5  =  15\n",
      "3  *  6  =  18\n",
      "3  *  7  =  21\n",
      "3  *  8  =  24\n",
      "3  *  9  =  27\n",
      "3  *  10  =  30\n",
      "3  *  11  =  33\n",
      "3  *  12  =  36\n",
      "3  *  13  =  39\n",
      "3  *  14  =  42\n",
      "\n",
      "4  *  1  =  4\n",
      "4  *  2  =  8\n",
      "4  *  3  =  12\n",
      "4  *  4  =  16\n",
      "4  *  5  =  20\n",
      "4  *  6  =  24\n",
      "4  *  7  =  28\n",
      "4  *  8  =  32\n",
      "4  *  9  =  36\n",
      "4  *  10  =  40\n",
      "4  *  11  =  44\n",
      "4  *  12  =  48\n",
      "4  *  13  =  52\n",
      "4  *  14  =  56\n",
      "\n",
      "5  *  1  =  5\n",
      "5  *  2  =  10\n",
      "5  *  3  =  15\n",
      "5  *  4  =  20\n",
      "5  *  5  =  25\n",
      "5  *  6  =  30\n",
      "5  *  7  =  35\n",
      "5  *  8  =  40\n",
      "5  *  9  =  45\n",
      "5  *  10  =  50\n",
      "5  *  11  =  55\n",
      "5  *  12  =  60\n",
      "5  *  13  =  65\n",
      "5  *  14  =  70\n",
      "\n",
      "6  *  1  =  6\n",
      "6  *  2  =  12\n",
      "6  *  3  =  18\n",
      "6  *  4  =  24\n",
      "6  *  5  =  30\n",
      "6  *  6  =  36\n",
      "6  *  7  =  42\n",
      "6  *  8  =  48\n",
      "6  *  9  =  54\n",
      "6  *  10  =  60\n",
      "6  *  11  =  66\n",
      "6  *  12  =  72\n",
      "6  *  13  =  78\n",
      "6  *  14  =  84\n",
      "\n",
      "7  *  1  =  7\n",
      "7  *  2  =  14\n",
      "7  *  3  =  21\n",
      "7  *  4  =  28\n",
      "7  *  5  =  35\n",
      "7  *  6  =  42\n",
      "7  *  7  =  49\n",
      "7  *  8  =  56\n",
      "7  *  9  =  63\n",
      "7  *  10  =  70\n",
      "7  *  11  =  77\n",
      "7  *  12  =  84\n",
      "7  *  13  =  91\n",
      "7  *  14  =  98\n",
      "\n",
      "8  *  1  =  8\n",
      "8  *  2  =  16\n",
      "8  *  3  =  24\n",
      "8  *  4  =  32\n",
      "8  *  5  =  40\n",
      "8  *  6  =  48\n",
      "8  *  7  =  56\n",
      "8  *  8  =  64\n",
      "8  *  9  =  72\n",
      "8  *  10  =  80\n",
      "8  *  11  =  88\n",
      "8  *  12  =  96\n",
      "8  *  13  =  104\n",
      "8  *  14  =  112\n",
      "\n",
      "9  *  1  =  9\n",
      "9  *  2  =  18\n",
      "9  *  3  =  27\n",
      "9  *  4  =  36\n",
      "9  *  5  =  45\n",
      "9  *  6  =  54\n",
      "9  *  7  =  63\n",
      "9  *  8  =  72\n",
      "9  *  9  =  81\n",
      "9  *  10  =  90\n",
      "9  *  11  =  99\n",
      "9  *  12  =  108\n",
      "9  *  13  =  117\n",
      "9  *  14  =  126\n",
      "\n",
      "10  *  1  =  10\n",
      "10  *  2  =  20\n",
      "10  *  3  =  30\n",
      "10  *  4  =  40\n",
      "10  *  5  =  50\n",
      "10  *  6  =  60\n",
      "10  *  7  =  70\n",
      "10  *  8  =  80\n",
      "10  *  9  =  90\n",
      "10  *  10  =  100\n",
      "10  *  11  =  110\n",
      "10  *  12  =  120\n",
      "10  *  13  =  130\n",
      "10  *  14  =  140\n",
      "\n",
      "11  *  1  =  11\n",
      "11  *  2  =  22\n",
      "11  *  3  =  33\n",
      "11  *  4  =  44\n",
      "11  *  5  =  55\n",
      "11  *  6  =  66\n",
      "11  *  7  =  77\n",
      "11  *  8  =  88\n",
      "11  *  9  =  99\n",
      "11  *  10  =  110\n",
      "11  *  11  =  121\n",
      "11  *  12  =  132\n",
      "11  *  13  =  143\n",
      "11  *  14  =  154\n",
      "\n",
      "12  *  1  =  12\n",
      "12  *  2  =  24\n",
      "12  *  3  =  36\n",
      "12  *  4  =  48\n",
      "12  *  5  =  60\n",
      "12  *  6  =  72\n",
      "12  *  7  =  84\n",
      "12  *  8  =  96\n",
      "12  *  9  =  108\n",
      "12  *  10  =  120\n",
      "12  *  11  =  132\n",
      "12  *  12  =  144\n",
      "12  *  13  =  156\n",
      "12  *  14  =  168\n",
      "\n",
      "13  *  1  =  13\n",
      "13  *  2  =  26\n",
      "13  *  3  =  39\n",
      "13  *  4  =  52\n",
      "13  *  5  =  65\n",
      "13  *  6  =  78\n",
      "13  *  7  =  91\n",
      "13  *  8  =  104\n",
      "13  *  9  =  117\n",
      "13  *  10  =  130\n",
      "13  *  11  =  143\n",
      "13  *  12  =  156\n",
      "13  *  13  =  169\n",
      "13  *  14  =  182\n",
      "\n",
      "14  *  1  =  14\n",
      "14  *  2  =  28\n",
      "14  *  3  =  42\n",
      "14  *  4  =  56\n",
      "14  *  5  =  70\n",
      "14  *  6  =  84\n",
      "14  *  7  =  98\n",
      "14  *  8  =  112\n",
      "14  *  9  =  126\n",
      "14  *  10  =  140\n",
      "14  *  11  =  154\n",
      "14  *  12  =  168\n",
      "14  *  13  =  182\n",
      "14  *  14  =  196\n",
      "\n"
     ]
    }
   ],
   "source": [
    "input = int(input(\"Multiplication using value? : \"))\n",
    "num = 1\n",
    "\n",
    "while num <= input:\n",
    "    i = 1\n",
    "    while i <= input:\n",
    "        product = num*i\n",
    "        print(num, \" * \", i, \" = \", product)\n",
    "        i = i + 1\n",
    "    print(\"\")  # no need to add explicit newline character because it is automatically added\n",
    "    num = num + 1\n"
   ]
  },
  {
   "cell_type": "code",
   "execution_count": 24,
   "metadata": {},
   "outputs": [
    {
     "name": "stdout",
     "output_type": "stream",
     "text": [
      "1 * 1 = 1\n",
      "1 * 2 = 2\n",
      "1 * 3 = 3\n",
      "1 * 4 = 4\n",
      "1 * 5 = 5\n",
      "1 * 6 = 6\n",
      "1 * 7 = 7\n",
      "1 * 8 = 8\n",
      "1 * 9 = 9\n",
      "1 * 10 = 10\n",
      "1 * 11 = 11\n",
      "1 * 12 = 12\n",
      "\n",
      "2 * 1 = 2\n",
      "2 * 2 = 4\n",
      "2 * 3 = 6\n",
      "2 * 4 = 8\n",
      "2 * 5 = 10\n",
      "2 * 6 = 12\n",
      "2 * 7 = 14\n",
      "2 * 8 = 16\n",
      "2 * 9 = 18\n",
      "2 * 10 = 20\n",
      "2 * 11 = 22\n",
      "2 * 12 = 24\n",
      "\n",
      "3 * 1 = 3\n",
      "3 * 2 = 6\n",
      "3 * 3 = 9\n",
      "3 * 4 = 12\n",
      "3 * 5 = 15\n",
      "3 * 6 = 18\n",
      "3 * 7 = 21\n",
      "3 * 8 = 24\n",
      "3 * 9 = 27\n",
      "3 * 10 = 30\n",
      "3 * 11 = 33\n",
      "3 * 12 = 36\n",
      "\n",
      "4 * 1 = 4\n",
      "4 * 2 = 8\n",
      "4 * 3 = 12\n",
      "4 * 4 = 16\n",
      "4 * 5 = 20\n",
      "4 * 6 = 24\n",
      "4 * 7 = 28\n",
      "4 * 8 = 32\n",
      "4 * 9 = 36\n",
      "4 * 10 = 40\n",
      "4 * 11 = 44\n",
      "4 * 12 = 48\n",
      "\n",
      "5 * 1 = 5\n",
      "5 * 2 = 10\n",
      "5 * 3 = 15\n",
      "5 * 4 = 20\n",
      "5 * 5 = 25\n",
      "5 * 6 = 30\n",
      "5 * 7 = 35\n",
      "5 * 8 = 40\n",
      "5 * 9 = 45\n",
      "5 * 10 = 50\n",
      "5 * 11 = 55\n",
      "5 * 12 = 60\n",
      "\n",
      "6 * 1 = 6\n",
      "6 * 2 = 12\n",
      "6 * 3 = 18\n",
      "6 * 4 = 24\n",
      "6 * 5 = 30\n",
      "6 * 6 = 36\n",
      "6 * 7 = 42\n",
      "6 * 8 = 48\n",
      "6 * 9 = 54\n",
      "6 * 10 = 60\n",
      "6 * 11 = 66\n",
      "6 * 12 = 72\n",
      "\n",
      "7 * 1 = 7\n",
      "7 * 2 = 14\n",
      "7 * 3 = 21\n",
      "7 * 4 = 28\n",
      "7 * 5 = 35\n",
      "7 * 6 = 42\n",
      "7 * 7 = 49\n",
      "7 * 8 = 56\n",
      "7 * 9 = 63\n",
      "7 * 10 = 70\n",
      "7 * 11 = 77\n",
      "7 * 12 = 84\n",
      "\n",
      "8 * 1 = 8\n",
      "8 * 2 = 16\n",
      "8 * 3 = 24\n",
      "8 * 4 = 32\n",
      "8 * 5 = 40\n",
      "8 * 6 = 48\n",
      "8 * 7 = 56\n",
      "8 * 8 = 64\n",
      "8 * 9 = 72\n",
      "8 * 10 = 80\n",
      "8 * 11 = 88\n",
      "8 * 12 = 96\n",
      "\n",
      "9 * 1 = 9\n",
      "9 * 2 = 18\n",
      "9 * 3 = 27\n",
      "9 * 4 = 36\n",
      "9 * 5 = 45\n",
      "9 * 6 = 54\n",
      "9 * 7 = 63\n",
      "9 * 8 = 72\n",
      "9 * 9 = 81\n",
      "9 * 10 = 90\n",
      "9 * 11 = 99\n",
      "9 * 12 = 108\n",
      "\n",
      "10 * 1 = 10\n",
      "10 * 2 = 20\n",
      "10 * 3 = 30\n",
      "10 * 4 = 40\n",
      "10 * 5 = 50\n",
      "10 * 6 = 60\n",
      "10 * 7 = 70\n",
      "10 * 8 = 80\n",
      "10 * 9 = 90\n",
      "10 * 10 = 100\n",
      "10 * 11 = 110\n",
      "10 * 12 = 120\n",
      "\n",
      "11 * 1 = 11\n",
      "11 * 2 = 22\n",
      "11 * 3 = 33\n",
      "11 * 4 = 44\n",
      "11 * 5 = 55\n",
      "11 * 6 = 66\n",
      "11 * 7 = 77\n",
      "11 * 8 = 88\n",
      "11 * 9 = 99\n",
      "11 * 10 = 110\n",
      "11 * 11 = 121\n",
      "11 * 12 = 132\n",
      "\n",
      "12 * 1 = 12\n",
      "12 * 2 = 24\n",
      "12 * 3 = 36\n",
      "12 * 4 = 48\n",
      "12 * 5 = 60\n",
      "12 * 6 = 72\n",
      "12 * 7 = 84\n",
      "12 * 8 = 96\n",
      "12 * 9 = 108\n",
      "12 * 10 = 120\n",
      "12 * 11 = 132\n",
      "12 * 12 = 144\n",
      "\n"
     ]
    }
   ],
   "source": [
    "for  i in range(1, num+1):\n",
    "    for j in range(1, num+1):\n",
    "        print(i , \"*\" , j , \"=\" , i*j)\n",
    "    print()"
   ]
  },
  {
   "cell_type": "code",
   "execution_count": 26,
   "metadata": {},
   "outputs": [
    {
     "name": "stdout",
     "output_type": "stream",
     "text": [
      "1  *  1  =  1 \n",
      "\n",
      "1  *  2  =  2 \n",
      "\n",
      "1  *  3  =  3 \n",
      "\n",
      "1  *  4  =  4 \n",
      "\n",
      "1  *  5  =  5 \n",
      "\n",
      "1  *  6  =  6 \n",
      "\n",
      "1  *  7  =  7 \n",
      "\n",
      "1  *  8  =  8 \n",
      "\n",
      "1  *  9  =  9 \n",
      "\n",
      "1  *  10  =  10 \n",
      "\n",
      "1  *  11  =  11 \n",
      "\n",
      "1  *  12  =  12 \n",
      "\n",
      "\n",
      "\n",
      "2  *  1  =  2 \n",
      "\n",
      "2  *  2  =  4 \n",
      "\n",
      "2  *  3  =  6 \n",
      "\n",
      "2  *  4  =  8 \n",
      "\n",
      "2  *  5  =  10 \n",
      "\n",
      "2  *  6  =  12 \n",
      "\n",
      "2  *  7  =  14 \n",
      "\n",
      "2  *  8  =  16 \n",
      "\n",
      "2  *  9  =  18 \n",
      "\n",
      "2  *  10  =  20 \n",
      "\n",
      "2  *  11  =  22 \n",
      "\n",
      "2  *  12  =  24 \n",
      "\n",
      "\n",
      "\n",
      "3  *  1  =  3 \n",
      "\n",
      "3  *  2  =  6 \n",
      "\n",
      "3  *  3  =  9 \n",
      "\n",
      "3  *  4  =  12 \n",
      "\n",
      "3  *  5  =  15 \n",
      "\n",
      "3  *  6  =  18 \n",
      "\n",
      "3  *  7  =  21 \n",
      "\n",
      "3  *  8  =  24 \n",
      "\n",
      "3  *  9  =  27 \n",
      "\n",
      "3  *  10  =  30 \n",
      "\n",
      "3  *  11  =  33 \n",
      "\n",
      "3  *  12  =  36 \n",
      "\n",
      "\n",
      "\n",
      "4  *  1  =  4 \n",
      "\n",
      "4  *  2  =  8 \n",
      "\n",
      "4  *  3  =  12 \n",
      "\n",
      "4  *  4  =  16 \n",
      "\n",
      "4  *  5  =  20 \n",
      "\n",
      "4  *  6  =  24 \n",
      "\n",
      "4  *  7  =  28 \n",
      "\n",
      "4  *  8  =  32 \n",
      "\n",
      "4  *  9  =  36 \n",
      "\n",
      "4  *  10  =  40 \n",
      "\n",
      "4  *  11  =  44 \n",
      "\n",
      "4  *  12  =  48 \n",
      "\n",
      "\n",
      "\n",
      "5  *  1  =  5 \n",
      "\n",
      "5  *  2  =  10 \n",
      "\n",
      "5  *  3  =  15 \n",
      "\n",
      "5  *  4  =  20 \n",
      "\n",
      "5  *  5  =  25 \n",
      "\n",
      "5  *  6  =  30 \n",
      "\n",
      "5  *  7  =  35 \n",
      "\n",
      "5  *  8  =  40 \n",
      "\n",
      "5  *  9  =  45 \n",
      "\n",
      "5  *  10  =  50 \n",
      "\n",
      "5  *  11  =  55 \n",
      "\n",
      "5  *  12  =  60 \n",
      "\n",
      "\n",
      "\n",
      "6  *  1  =  6 \n",
      "\n",
      "6  *  2  =  12 \n",
      "\n",
      "6  *  3  =  18 \n",
      "\n",
      "6  *  4  =  24 \n",
      "\n",
      "6  *  5  =  30 \n",
      "\n",
      "6  *  6  =  36 \n",
      "\n",
      "6  *  7  =  42 \n",
      "\n",
      "6  *  8  =  48 \n",
      "\n",
      "6  *  9  =  54 \n",
      "\n",
      "6  *  10  =  60 \n",
      "\n",
      "6  *  11  =  66 \n",
      "\n",
      "6  *  12  =  72 \n",
      "\n",
      "\n",
      "\n",
      "7  *  1  =  7 \n",
      "\n",
      "7  *  2  =  14 \n",
      "\n",
      "7  *  3  =  21 \n",
      "\n",
      "7  *  4  =  28 \n",
      "\n",
      "7  *  5  =  35 \n",
      "\n",
      "7  *  6  =  42 \n",
      "\n",
      "7  *  7  =  49 \n",
      "\n",
      "7  *  8  =  56 \n",
      "\n",
      "7  *  9  =  63 \n",
      "\n",
      "7  *  10  =  70 \n",
      "\n",
      "7  *  11  =  77 \n",
      "\n",
      "7  *  12  =  84 \n",
      "\n",
      "\n",
      "\n",
      "8  *  1  =  8 \n",
      "\n",
      "8  *  2  =  16 \n",
      "\n",
      "8  *  3  =  24 \n",
      "\n",
      "8  *  4  =  32 \n",
      "\n",
      "8  *  5  =  40 \n",
      "\n",
      "8  *  6  =  48 \n",
      "\n",
      "8  *  7  =  56 \n",
      "\n",
      "8  *  8  =  64 \n",
      "\n",
      "8  *  9  =  72 \n",
      "\n",
      "8  *  10  =  80 \n",
      "\n",
      "8  *  11  =  88 \n",
      "\n",
      "8  *  12  =  96 \n",
      "\n",
      "\n",
      "\n",
      "9  *  1  =  9 \n",
      "\n",
      "9  *  2  =  18 \n",
      "\n",
      "9  *  3  =  27 \n",
      "\n",
      "9  *  4  =  36 \n",
      "\n",
      "9  *  5  =  45 \n",
      "\n",
      "9  *  6  =  54 \n",
      "\n",
      "9  *  7  =  63 \n",
      "\n",
      "9  *  8  =  72 \n",
      "\n",
      "9  *  9  =  81 \n",
      "\n",
      "9  *  10  =  90 \n",
      "\n",
      "9  *  11  =  99 \n",
      "\n",
      "9  *  12  =  108 \n",
      "\n",
      "\n",
      "\n",
      "10  *  1  =  10 \n",
      "\n",
      "10  *  2  =  20 \n",
      "\n",
      "10  *  3  =  30 \n",
      "\n",
      "10  *  4  =  40 \n",
      "\n",
      "10  *  5  =  50 \n",
      "\n",
      "10  *  6  =  60 \n",
      "\n",
      "10  *  7  =  70 \n",
      "\n",
      "10  *  8  =  80 \n",
      "\n",
      "10  *  9  =  90 \n",
      "\n",
      "10  *  10  =  100 \n",
      "\n",
      "10  *  11  =  110 \n",
      "\n",
      "10  *  12  =  120 \n",
      "\n",
      "\n",
      "\n",
      "11  *  1  =  11 \n",
      "\n",
      "11  *  2  =  22 \n",
      "\n",
      "11  *  3  =  33 \n",
      "\n",
      "11  *  4  =  44 \n",
      "\n",
      "11  *  5  =  55 \n",
      "\n",
      "11  *  6  =  66 \n",
      "\n",
      "11  *  7  =  77 \n",
      "\n",
      "11  *  8  =  88 \n",
      "\n",
      "11  *  9  =  99 \n",
      "\n",
      "11  *  10  =  110 \n",
      "\n",
      "11  *  11  =  121 \n",
      "\n",
      "11  *  12  =  132 \n",
      "\n",
      "\n",
      "\n",
      "12  *  1  =  12 \n",
      "\n",
      "12  *  2  =  24 \n",
      "\n",
      "12  *  3  =  36 \n",
      "\n",
      "12  *  4  =  48 \n",
      "\n",
      "12  *  5  =  60 \n",
      "\n",
      "12  *  6  =  72 \n",
      "\n",
      "12  *  7  =  84 \n",
      "\n",
      "12  *  8  =  96 \n",
      "\n",
      "12  *  9  =  108 \n",
      "\n",
      "12  *  10  =  120 \n",
      "\n",
      "12  *  11  =  132 \n",
      "\n",
      "12  *  12  =  144 \n",
      "\n",
      "\n",
      "\n"
     ]
    }
   ],
   "source": [
    "\n",
    "\n",
    "i=1 #you haven't initialized this variable\n",
    "while i <=num:\n",
    "    j=1\n",
    "    while j <= num:\n",
    "        product = i*j #updated\n",
    "        print(i, \" * \", j, \" = \", product, \"\\n\") #updated\n",
    "        j = j + 1\n",
    "    print(\"\\n\")\n",
    "    i = i + 1\n"
   ]
  },
  {
   "cell_type": "code",
   "execution_count": 27,
   "metadata": {},
   "outputs": [
    {
     "name": "stdout",
     "output_type": "stream",
     "text": [
      "1 * 1 = 1\n",
      "1 * 2 = 2\n",
      "1 * 3 = 3\n",
      "1 * 4 = 4\n",
      "1 * 5 = 5\n",
      "1 * 6 = 6\n",
      "1 * 7 = 7\n",
      "1 * 8 = 8\n",
      "1 * 9 = 9\n",
      "1 * 10 = 10\n",
      "1 * 11 = 11\n",
      "1 * 12 = 12\n",
      "2 * 1 = 2\n",
      "2 * 2 = 4\n",
      "2 * 3 = 6\n",
      "2 * 4 = 8\n",
      "2 * 5 = 10\n",
      "2 * 6 = 12\n",
      "2 * 7 = 14\n",
      "2 * 8 = 16\n",
      "2 * 9 = 18\n",
      "2 * 10 = 20\n",
      "2 * 11 = 22\n",
      "2 * 12 = 24\n",
      "3 * 1 = 3\n",
      "3 * 2 = 6\n",
      "3 * 3 = 9\n",
      "3 * 4 = 12\n",
      "3 * 5 = 15\n",
      "3 * 6 = 18\n",
      "3 * 7 = 21\n",
      "3 * 8 = 24\n",
      "3 * 9 = 27\n",
      "3 * 10 = 30\n",
      "3 * 11 = 33\n",
      "3 * 12 = 36\n",
      "4 * 1 = 4\n",
      "4 * 2 = 8\n",
      "4 * 3 = 12\n",
      "4 * 4 = 16\n",
      "4 * 5 = 20\n",
      "4 * 6 = 24\n",
      "4 * 7 = 28\n",
      "4 * 8 = 32\n",
      "4 * 9 = 36\n",
      "4 * 10 = 40\n",
      "4 * 11 = 44\n",
      "4 * 12 = 48\n",
      "5 * 1 = 5\n",
      "5 * 2 = 10\n",
      "5 * 3 = 15\n",
      "5 * 4 = 20\n",
      "5 * 5 = 25\n",
      "5 * 6 = 30\n",
      "5 * 7 = 35\n",
      "5 * 8 = 40\n",
      "5 * 9 = 45\n",
      "5 * 10 = 50\n",
      "5 * 11 = 55\n",
      "5 * 12 = 60\n",
      "6 * 1 = 6\n",
      "6 * 2 = 12\n",
      "6 * 3 = 18\n",
      "6 * 4 = 24\n",
      "6 * 5 = 30\n",
      "6 * 6 = 36\n",
      "6 * 7 = 42\n",
      "6 * 8 = 48\n",
      "6 * 9 = 54\n",
      "6 * 10 = 60\n",
      "6 * 11 = 66\n",
      "6 * 12 = 72\n",
      "7 * 1 = 7\n",
      "7 * 2 = 14\n",
      "7 * 3 = 21\n",
      "7 * 4 = 28\n",
      "7 * 5 = 35\n",
      "7 * 6 = 42\n",
      "7 * 7 = 49\n",
      "7 * 8 = 56\n",
      "7 * 9 = 63\n",
      "7 * 10 = 70\n",
      "7 * 11 = 77\n",
      "7 * 12 = 84\n",
      "8 * 1 = 8\n",
      "8 * 2 = 16\n",
      "8 * 3 = 24\n",
      "8 * 4 = 32\n",
      "8 * 5 = 40\n",
      "8 * 6 = 48\n",
      "8 * 7 = 56\n",
      "8 * 8 = 64\n",
      "8 * 9 = 72\n",
      "8 * 10 = 80\n",
      "8 * 11 = 88\n",
      "8 * 12 = 96\n",
      "9 * 1 = 9\n",
      "9 * 2 = 18\n",
      "9 * 3 = 27\n",
      "9 * 4 = 36\n",
      "9 * 5 = 45\n",
      "9 * 6 = 54\n",
      "9 * 7 = 63\n",
      "9 * 8 = 72\n",
      "9 * 9 = 81\n",
      "9 * 10 = 90\n",
      "9 * 11 = 99\n",
      "9 * 12 = 108\n",
      "10 * 1 = 10\n",
      "10 * 2 = 20\n",
      "10 * 3 = 30\n",
      "10 * 4 = 40\n",
      "10 * 5 = 50\n",
      "10 * 6 = 60\n",
      "10 * 7 = 70\n",
      "10 * 8 = 80\n",
      "10 * 9 = 90\n",
      "10 * 10 = 100\n",
      "10 * 11 = 110\n",
      "10 * 12 = 120\n",
      "11 * 1 = 11\n",
      "11 * 2 = 22\n",
      "11 * 3 = 33\n",
      "11 * 4 = 44\n",
      "11 * 5 = 55\n",
      "11 * 6 = 66\n",
      "11 * 7 = 77\n",
      "11 * 8 = 88\n",
      "11 * 9 = 99\n",
      "11 * 10 = 110\n",
      "11 * 11 = 121\n",
      "11 * 12 = 132\n",
      "12 * 1 = 12\n",
      "12 * 2 = 24\n",
      "12 * 3 = 36\n",
      "12 * 4 = 48\n",
      "12 * 5 = 60\n",
      "12 * 6 = 72\n",
      "12 * 7 = 84\n",
      "12 * 8 = 96\n",
      "12 * 9 = 108\n",
      "12 * 10 = 120\n",
      "12 * 11 = 132\n",
      "12 * 12 = 144\n"
     ]
    }
   ],
   "source": [
    "for i in range(1, num+1):\n",
    "    for j in range(1, num+1):\n",
    "        print(f'{i} * {j} = {i*j}')\n"
   ]
  },
  {
   "cell_type": "code",
   "execution_count": 28,
   "metadata": {},
   "outputs": [
    {
     "name": "stdout",
     "output_type": "stream",
     "text": [
      "12 X 1 = 12\n",
      "12 X 2 = 24\n",
      "12 X 3 = 36\n",
      "12 X 4 = 48\n",
      "12 X 5 = 60\n",
      "12 X 6 = 72\n",
      "12 X 7 = 84\n",
      "12 X 8 = 96\n",
      "12 X 9 = 108\n",
      "12 X 10 = 120\n"
     ]
    }
   ],
   "source": [
    "i = 1\n",
    "\n",
    "while i<=10:\n",
    "    print(num, \"X\", i, \"=\", num * i)\n",
    "    i = i+1\n"
   ]
  },
  {
   "cell_type": "code",
   "execution_count": 1,
   "metadata": {},
   "outputs": [
    {
     "name": "stdout",
     "output_type": "stream",
     "text": [
      "1\t2\t3\t4\t5\t6\t7\t8\t9\t10\t\n",
      "2\t4\t6\t8\t10\t12\t14\t16\t18\t20\t\n",
      "3\t6\t9\t12\t15\t18\t21\t24\t27\t30\t\n",
      "4\t8\t12\t16\t20\t24\t28\t32\t36\t40\t\n",
      "5\t10\t15\t20\t25\t30\t35\t40\t45\t50\t\n",
      "6\t12\t18\t24\t30\t36\t42\t48\t54\t60\t\n",
      "7\t14\t21\t28\t35\t42\t49\t56\t63\t70\t\n",
      "8\t16\t24\t32\t40\t48\t56\t64\t72\t80\t\n",
      "9\t18\t27\t36\t45\t54\t63\t72\t81\t90\t\n",
      "10\t20\t30\t40\t50\t60\t70\t80\t90\t100\t\n"
     ]
    }
   ],
   "source": [
    "for x in range(1, 11):\n",
    "    for y in range(1, 11):\n",
    "        print(x*y , end = \"\\t\")\n",
    "    print()"
   ]
  },
  {
   "cell_type": "code",
   "execution_count": 47,
   "metadata": {},
   "outputs": [
    {
     "name": "stdout",
     "output_type": "stream",
     "text": [
      "1200\n",
      "1201 120000\n"
     ]
    }
   ],
   "source": [
    "# print numbers from 1 to 100 without using a loop\n",
    "\n",
    "def num(n,l):\n",
    "    if(n<l):\n",
    "        print(n)\n",
    "        print(n+1, l)\n",
    "num(1200, 120000)"
   ]
  },
  {
   "cell_type": "code",
   "execution_count": 51,
   "metadata": {},
   "outputs": [
    {
     "name": "stdout",
     "output_type": "stream",
     "text": [
      "1 "
     ]
    }
   ],
   "source": [
    "# Python program to print from 1 to N using\n",
    "# indirect recursion\n",
    "# We can avoid use of these using references\n",
    "N = 20;\n",
    "n = 1;\n",
    "# Prints n, increments n and calls fun1()\n",
    "def fun1():\n",
    "    global N, n;\n",
    "    if (n <= N):\n",
    "        print(n, end = \" \");\n",
    "        n += 1;\n",
    "        fun2();\n",
    "    else:\n",
    "        return;\n",
    "# Prints n, increments n and calls fun2()\n",
    "def fun2():\n",
    "    global N, n;\n",
    "    if (n <= N):\n",
    "        print(n, end = \" \");\n",
    "        n += 1;\n",
    "        fun1();\n",
    "    else:\n",
    "        return;\n",
    "# Driver Program\n",
    "if __name__ == '__main__':\n",
    "    fun1();\n",
    "\n"
   ]
  },
  {
   "cell_type": "markdown",
   "metadata": {},
   "source": [
    "Slicing"
   ]
  },
  {
   "cell_type": "code",
   "execution_count": 14,
   "metadata": {},
   "outputs": [
    {
     "name": "stdout",
     "output_type": "stream",
     "text": [
      "20 Science 10 With 30 Python 40 20 50 10 60 30 80 100 "
     ]
    }
   ],
   "source": [
    "list = ['Data',20, 'Science',10, 'With',30, 'Python',40,20, 50 ,10, 60, 30, 80 ,100]\n",
    "for i in list[1:]:\n",
    "    print(i , end=\" \")\n"
   ]
  }
 ],
 "metadata": {
  "kernelspec": {
   "display_name": "Python 3",
   "language": "python",
   "name": "python3"
  },
  "language_info": {
   "codemirror_mode": {
    "name": "ipython",
    "version": 3
   },
   "file_extension": ".py",
   "mimetype": "text/x-python",
   "name": "python",
   "nbconvert_exporter": "python",
   "pygments_lexer": "ipython3",
   "version": "3.10.11"
  }
 },
 "nbformat": 4,
 "nbformat_minor": 2
}
